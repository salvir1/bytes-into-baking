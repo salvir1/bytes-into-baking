{
 "cells": [
  {
   "cell_type": "code",
   "execution_count": 1,
   "metadata": {},
   "outputs": [],
   "source": [
    "from selenium import webdriver\n",
    "from bs4 import BeautifulSoup\n",
    "import time\n",
    "from bs4.element import Tag\n",
    "import bs4\n",
    "import json\n",
    "import numpy as np\n",
    "import pandas as pd\n",
    "import matplotlib.pyplot as plt\n",
    "import requests\n",
    "import re\n",
    "from lxml import html\n",
    "import lxml\n",
    "import collections.abc as clct"
   ]
  },
  {
   "cell_type": "code",
   "execution_count": 25,
   "metadata": {},
   "outputs": [],
   "source": [
    "%load_ext autoreload\n",
    "%autoreload 2"
   ]
  },
  {
   "cell_type": "markdown",
   "metadata": {},
   "source": [
    "## Searching for croissant baking temperatures\n",
    "- Searches for 'croissant bake temperature' or 'temperature cuisson croissant' were conducted on Google country-specific search sites for the US, UK, and France. The first 100 links were obtained for each country. These links were subsequently scraped to determine if they were a croissant baking recipe, and if so, for their initial baking temperature.\n",
    "- Baking temperatures were found by looking for sentences that contained the words 'preheat', 'bake', or 'oven' followed by a 3 digit number followed by a temperature indicator. \n",
    "- Croissant baking often employs a two-stage approach with a high starting temp followed by a lower finishing temp. The script pulled the first temperature mention, so this is the starting temp.\n",
    "- For the US graphic, websites were excluded if the first temperature mention was in celsius.\n",
    "- For the UK and French graphics, websites were excluded if the first temperature mention was in fahrenheit.\n"
   ]
  },
  {
   "cell_type": "markdown",
   "metadata": {},
   "source": [
    "## Tools and techniques used in this project\n",
    "- **Tools**\n",
    "> - Python, Jupyter Lab, Beautiful Soup, Pandas, Numpy\n",
    "- **Visualization**\n",
    "> - Matplotlib\n",
    "- **Techniques**\n",
    "> - Web-scraping\n"
   ]
  },
  {
   "cell_type": "code",
   "execution_count": 2,
   "metadata": {},
   "outputs": [],
   "source": [
    "def get_links_from_google_search(google_url):\n",
    "    '''\n",
    "    Given a Google search string, returns links from that Google search page\n",
    "    Parameters:\n",
    "    ----------\n",
    "    google_url (str): a google search string. To get past the first page, replace start=0 with start={bundle}.\n",
    "    Returns:\n",
    "    -------\n",
    "    links (list): a list of links \n",
    "    '''\n",
    "    links_ = []\n",
    "    driver = webdriver.Firefox()\n",
    "    time.sleep(30) # slow requests down to keep google from getting upset\n",
    "    driver.get(google_url)\n",
    "    soup = BeautifulSoup(driver.page_source,'lxml')\n",
    "    result_div = soup.find_all('div', attrs={'class': 'g'})\n",
    "    for r in result_div:\n",
    "            try:\n",
    "                link = r.find('a', href=True)\n",
    "                if link != '':\n",
    "                    # site exceptions\n",
    "                    if 'google.' not in link and 'costco.' not in link and 'freshdirect' not in link: \n",
    "                        links_.append(link['href'])\n",
    "                \n",
    "            except Exception as e:\n",
    "                print(e)\n",
    "                continue\n",
    "    return(links_)\n"
   ]
  },
  {
   "cell_type": "code",
   "execution_count": 3,
   "metadata": {},
   "outputs": [],
   "source": [
    "def find_value_of_nested_dict_or_list(a, our_key):\n",
    "    if not isinstance(a, clct.Iterable):\n",
    "        return False\n",
    "    if isinstance(a, str):\n",
    "        return False\n",
    "    if isinstance(a, list):\n",
    "        for item in a:\n",
    "            result = find_value_of_nested_dict_or_list(item, our_key)\n",
    "            if result:\n",
    "                return result\n",
    "    if isinstance(a, dict):\n",
    "        for key in a:\n",
    "            if key == our_key:\n",
    "                return a[our_key]\n",
    "            else:\n",
    "                result = find_value_of_nested_dict_or_list(a[key], our_key)\n",
    "                if result:\n",
    "                    return result\n",
    "    return False"
   ]
  },
  {
   "cell_type": "code",
   "execution_count": 4,
   "metadata": {},
   "outputs": [],
   "source": [
    "# not in use\n",
    "def string_from_soup(content):\n",
    "#     print(content)\n",
    "    if isinstance(content, str):\n",
    "        return content\n",
    "    elif isinstance(content, bs4.element.Tag):\n",
    "        return content.text\n",
    "    elif isinstance(content, list):\n",
    "        for item in content:\n",
    "            result = string_from_soup(item)\n",
    "            if result:\n",
    "                return result\n",
    "    else:\n",
    "        return 'Not list or string'"
   ]
  },
  {
   "cell_type": "code",
   "execution_count": 34,
   "metadata": {},
   "outputs": [
    {
     "name": "stdout",
     "output_type": "stream",
     "text": [
      "3\n",
      "Make the lean dough: Mix the flour with the salt, then turn out onto your work surface in a pile. Run your fingers down the center to create a trough. Sprinkle 1 tablespoon of water into the trough. Quickly fluff the dough with your fingers, keeping your fingers loose and using a scooping motion. Gather the flour back in to a mound, create a trough, and add another tablespoon of water. Continue sprinkling and fluffing until the flour clumps together in large pieces and holds together when pressed.\n",
      "Chill the dough: Press the dough into a square and wrap in plastic. It&#x27;s fine if it looks a little shaggy and unkempt at this stage. Refrigerate for at least 30 minutes.\n",
      "Prepare the butter block: Cut the butter into a few large pieces and sprinkle with a teaspoon of flour. Begin pounding the butter with a French rolling pin to soften it, sprinkling flour on your rolling pin as needed. Pound the butter flat, then use a pastry scraper to gather it up again. Sprinkle with another teaspoon of flour, pound flat, and repeat. Add one more teaspoon of flour, then continue pounding and gathering, pounding and gathering, until the butter is very pliable and does not break when you fold it over on itself.\n",
      "Chill the butter block: Once the butter is pliable, shape it into a 4-inch x 4-inch square, wrap in plastic, and chill 10 minutes (no longer).\n",
      "Roll out the lean dough: Remove the dough from the fridge and roll out to a roughly 7-inch square.\n",
      "Wrap the butter in the dough: Place the square of butter on top of the dough at a 90-degree angle to the dough. Fold the corners of the dough over the butter so they meet in the middle. Pinch to seal.\n",
      "First turn: Flour the work surface lightly and flip the butter package over so the seams are down. Roll it out to a rectangle roughly 12 inches long by 6 inches wide. Fold the top third over the bottom third, and the bottom over the top third, like a letter\n",
      "Second turn: Rotate the folded dough so it looks like a book about to be opened. Roll it out again into a rectangle 12 inches by 6 inches. Fold it again.\n",
      "Chill for 30 minutes. Mark 2 divots in the edge of the dough to remind yourself that you&#x27;ve done two turns. Wrap the puff dough in plastic and chill for 30 minutes.\n",
      "Do two more turns: Repeat rolling out and folding the dough two more times. The dough should feel much more smooth and pliable at this point. If you notice any butter popping up through the dough, pat it with a little flour.\n",
      "Chill for 30 minutes: Mark 4 divots in the edge of the dough to remind yourself that you&#x27;ve done 4 turns. Wrap in plastic and chill for 30 minutes.\n",
      "Perform two final turns: Repeat rolling and folding the dough two more times for a total of six turns. By this point, the dough should feel completely smooth and be easy to roll out.\n",
      "Chill for 1 hour or overnight: Wrap in plastic and chill for a final 60 minutes, or overnight.\n",
      "Roll and cut the dough: When ready to bake, begin the oven preheating to 425°F. Roll out the puff pastry dough to between 1/4 and 1/8 inches thick. Use the dough as is to make a large tart, or cut the dough into whatever shapes you need. Transfer them to tart pans or baking sheets. If the dough feels very soft and warm at this point, chill for another 30 minutes before baking.\n",
      "Bake for 10 minutes at 425°F.\n",
      "Lower the oven temperature to 375°F and continue baking until dry, crisp, and deep golden-brown.\n",
      "Cool completely: Baked puff pastry is at its crispiest best the same day it&#x27;s made, but will keep quite well in airtight containers for a few days.\n"
     ]
    }
   ],
   "source": [
    "url = 'https://www.marthastewart.com/312981/croissants' # 3 1st level is list. target dict is in 2nd position of list\n",
    "url = 'https://sallysbakingaddiction.com/homemade-croissants/' # 1. type(data) dict. \n",
    "# url = 'https://www.kingarthurbaking.com/recipes/bakers-croissants-recipe' # 1target in dict?\n",
    "# url = 'https://www.finecooking.com/recipe/classic-croissants' # target in dict\n",
    "# url = 'https://www.jocooks.com/recipes/homemade-croissants/' # target in dict\n",
    "\n",
    "# url = 'https://www.epicurious.com/recipes/food/views/butter-croissants-103989' #No application/ld+json. Yes to schema.org recipe, but old format\n",
    "# url = 'https://www.weekendbakery.com/posts/classic-french-croissant-recipe/' # No application/ld+json\n",
    "# url = 'https://gourmetier.com/french-croissants/'   # class=\"entry-content\". dict, but target not in dict\n",
    "# url = 'https://topwithcinnamon.com/how-to-make-croissants/'  # dict, but target not in dict\n",
    "# url = 'https://www.noellecarterfood.com/blog/2019/9/20/better-baking-temperature-croissants-recipe' # dict, but target not in dict\n",
    "\n",
    "# url = 'https://bakingamoment.com/easy-homemade-croissant-recipe/'\n",
    "# url = 'https://www.joyofbaking.com/breads/HomemadeCroissants.html'\n",
    "# url = 'https://www.foodandwine.com/recipes/croissants'\n",
    "# url = 'https://bakerpedia.com/processes/croissant/'\n",
    "# url = 'https://www.halfbakedharvest.com/homemade-croissants-step-step-photos/'\n",
    "# url = 'https://www.foodnetwork.com/recipes/food-network-kitchen/homemade-croissants-5277802'\n",
    "# url = 'https://www.tastingtable.com/cook/recipes/croissants-recipe-french-pastry'\n",
    "# url = 'https://www.bbcgoodfood.com/recipes/croissants' #recipeInstructions appears twice. Value is erased on the second pass?\n",
    "# url = 'https://www.masterclass.com/articles/make-the-perfect-croissant-with-chef-dominique-ansel' # not working--probable redirect\n",
    "# url = 'https://buttermilkpantry.wordpress.com/2019/07/06/how-to-make-croissants/' # not working--\"Connection aborted\"\n",
    "\n",
    "# url = 'https://www.artisanbryan.com/post/how-to-make-croissants-recipe'\n",
    "# url = 'https://www.paulhollywood.com/post/croissants'\n",
    "url = 'https://www.thekitchn.com/how-to-make-puff-pastry-222312'\n",
    "try:       \n",
    "    r = requests.get(url, allow_redirects=False, headers={'User-Agent': 'Mozilla/5.0'}) # Header assignment to avoid 403 errors\n",
    "    if r.status_code == 406:\n",
    "        r = requests.get(url, allow_redirects=False, headers={'User-Agent': 'XY'}) # Header assignment to avoid 406 errors\n",
    "    if r.status_code == 200:\n",
    "        soup = BeautifulSoup(r.content, 'html')\n",
    "        json_data = soup.findAll(type=\"application/ld+json\")\n",
    "\n",
    "#         print(soup.prettify())\n",
    "        print(len(json_data))\n",
    "        if len(json_data) > 0:                # For sites that follow schema.org for 'Recipe'\n",
    "                    for i in range(len(json_data)):\n",
    "                        data = json.loads(json_data[i].string)\n",
    "#                         self.ingredients = find_value_of_nested_dict_or_list(data,'recipeIngredient')\n",
    "#                         print(url)\n",
    "                        check = find_value_of_nested_dict_or_list(data,'recipeInstructions')\n",
    "                        if check:\n",
    "                            instr = []\n",
    "                            if isinstance(check[0], dict):\n",
    "                                for dct_ in check:\n",
    "                                    if 'text' in dct_.keys():\n",
    "                                        instr = dct_['text']\n",
    "                                        print(instr)\n",
    "                            else:\n",
    "                                instr = ''.join(check)\n",
    "#                                 print(instr)\n",
    "#                         self.recipe_name = find_value_of_nested_dict_or_list(data,'name')\n",
    "#                         self.cook_time = find_value_of_nested_dict_or_list(data,'cookTime')\n",
    "#                         self.url = url\n",
    "\n",
    "#         if len(json_data) == 0 or find_value_of_nested_dict_or_list(data,'recipeInstructions') == False:     # For sites that do not follow schema.org for 'Recipe'\n",
    "#                     result = soup.find_all('div', attrs={'class': ['body entry-content', 'entry-content', \n",
    "#                                                                    'hrecipe', 'post-entry', 'post-content', 'post-content__body','recept', 'recipe-content']})\n",
    "#                     soup_string = ''\n",
    "#                     for r in result:\n",
    "#                         soup_string += str(r.text)\n",
    "#                     print(url)\n",
    "#                     print(len(soup_string))\n",
    "#                     self.instructions = soup_string\n",
    "#                     self.url = url\n",
    "\n",
    "\n",
    "                        \n",
    "#         result = soup.find_all('div', attrs={'class': ['body entry-content', 'entry-content', 'post-entry', 'recept', 'recipe-content']})\n",
    "#         soup_string = ''\n",
    "#         for r in result:\n",
    "#             soup_string += str(r.text)\n",
    "        \n",
    "#         print(soup_string)\n",
    "\n",
    "except Exception as e:\n",
    "    print('Exception', e)\n",
    "# instr"
   ]
  },
  {
   "cell_type": "code",
   "execution_count": 5,
   "metadata": {},
   "outputs": [],
   "source": [
    "class ClassifyWebpage:\n",
    "    '''Classify webpage'''\n",
    "    def __init__(self, search_pattern_1, search_pattern_2):\n",
    "        self.url = None\n",
    "        self.page_genus = 'pastry'\n",
    "        self.page_family = ''\n",
    "        self.page_species = ''\n",
    "#         self.pastry_genus_predict = PastryRecipeWebpage()\n",
    "#         self.pastry_family_predict = PastryRecipeWebpage()\n",
    "#         self.pastry_species_predict = PastryRecipeWebpage()\n",
    "        self.language = \"Not found in page source\"\n",
    "        self.recipe_name = ''\n",
    "        self.cook_time = ''\n",
    "        self.ingredients = ''\n",
    "        self.instructions = ''\n",
    "    \n",
    "    def parse_webpage(self, url):\n",
    "        try:\n",
    "            r = requests.get(url, allow_redirects=False, headers={'User-Agent': 'Mozilla/5.0'}) # Header assignment to avoid 403 errors\n",
    "            if r.status_code == 406:\n",
    "                r = requests.get(url, allow_redirects=False, headers={'User-Agent': 'XY'}) # Header assignment to avoid 406 errors\n",
    "            if r.status_code == 200:\n",
    "#                 print(f'Pass {url}')\n",
    "                root = lxml.html.fromstring(r.text)\n",
    "                language_construct = root.xpath(\"//html/@lang\") # this xpath is reliable(in long-term), since this is a standard construct.\n",
    "                if language_construct:\n",
    "                    language = language_construct[0].split('-')[0]\n",
    "                    self.language = language    \n",
    "        \n",
    "                soup = BeautifulSoup(r.content, 'html')\n",
    "                json_data = soup.findAll(type=\"application/ld+json\")\n",
    "\n",
    "                # For sites that follow schema.org for 'Recipe'\n",
    "                if len(json_data) > 0:                \n",
    "                    for i in range(len(json_data)):\n",
    "                        data = json.loads(json_data[i].string)\n",
    "                        check = find_value_of_nested_dict_or_list(data,'recipeInstructions')\n",
    "                        if check:\n",
    "                            instr = []\n",
    "                            if isinstance(check[0], dict):\n",
    "                                for dct_ in check:\n",
    "                                    if 'text' in dct_.keys():\n",
    "                                        self.instructions = dct_['text']\n",
    "#                                         print(instr)\n",
    "                            else:\n",
    "                                instr = ''.join(check)\n",
    "                                self.instructions = instr\n",
    "                            self.ingredients = find_value_of_nested_dict_or_list(data,'recipeIngredient')\n",
    "                            self.recipe_name = find_value_of_nested_dict_or_list(data,'name')\n",
    "                            self.cook_time = find_value_of_nested_dict_or_list(data,'cookTime')\n",
    "                            self.url = url\n",
    "\n",
    "                # For sites that do not follow schema.org for 'Recipe'\n",
    "                if len(json_data) == 0 or find_value_of_nested_dict_or_list(data,'recipeInstructions') == False:     \n",
    "                    result = soup.find_all('div', attrs={'class': ['body entry-content', 'entry-content', \n",
    "                                                                   'hrecipe', 'post-entry', 'post-content', \n",
    "                                                                   'post-content__body','recept', 'recipe-content']})\n",
    "                    soup_string = ''\n",
    "                    for r in result:\n",
    "                        soup_string += str(r.text)\n",
    "                    self.instructions = soup_string\n",
    "                    self.url = url\n",
    "                \n",
    "                return {'instructions' : self.instructions,\n",
    "                        'url' : self.url\n",
    "                       }\n",
    "                              \n",
    "            else:\n",
    "                print(' ')\n",
    "#                 print(f'Fail {r.status_code}, {url}')\n",
    "        except Exception as e:\n",
    "            pass\n",
    "            print('Exception', e)\n",
    "            \n"
   ]
  },
  {
   "cell_type": "code",
   "execution_count": 6,
   "metadata": {},
   "outputs": [],
   "source": [
    "class PastryRecipeWebpage:\n",
    "    '''A recipe for hand-made croissants'''\n",
    "    def __init__(self, instructions=None, initial_temp=None, second_temp=None):\n",
    "        '''Initialize the recipe's attributes'''\n",
    "        self.instructions = instructions\n",
    "        self.initial_temp = initial_temp\n",
    "        if initial_temp and initial_temp > 300:\n",
    "            self.initial_temp_range = 'US'\n",
    "        else:\n",
    "            self.initial_temp_range = 'Europe'\n",
    "        self.second_temp = second_temp\n",
    "    "
   ]
  },
  {
   "cell_type": "markdown",
   "metadata": {},
   "source": [
    "## Step one\n",
    "### Get links for the target search term"
   ]
  },
  {
   "cell_type": "code",
   "execution_count": 15,
   "metadata": {},
   "outputs": [],
   "source": [
    "#  The easiest way to change the search is to type a search in google then COPY and PASTE the address. If you try to assign variable to the function call it won't recognize {bundle}.\n",
    "#  Convert to an f string, find start=0 in the string and change it to start={bundle}.\n",
    "\n",
    "# us_puff_pastry = f'https://www.google.com/search?q=how+to+make+puff+pastry+dough&client=ubuntu&hs=GNM&channel=fs&sxsrf=ALeKk011tOIIja512_JwZ8zfTmHSiLc9HA:1598459179879&ei=K41GX96hNcP7-gTrwZCYAg&start={bundle}&sa=N&ved=2ahUKEwie4-q8pLnrAhXDvZ4KHesgBCMQ8NMDegQIDhBA&biw=1637&bih=942'\n",
    "# us_ciambellone = f'https://www.google.com/search?q=how+to+make+ciambellone&client=ubuntu&hs=GlP&channel=fs&sxsrf=ALeKk03eb_8FF-pe9XNVMG56gUih10WpYA:1598472199741&ei=B8BGX83oLIvJ0PEPr-2ryAQ&start={bundle}&sa=N&ved=2ahUKEwiNiJj91LnrAhWLJDQIHa_2CkkQ8NMDegQIDBBA&biw=1637&bih=942'\n",
    "# us_google_url=f\"https://www.google.com/search?q=croissant+baking+temp&client=ubuntu&hs=bju&channel=fs&tbas=0&sxsrf=ALeKk01tinXVzgWJgZhSeeUfjrJd4FW4oA:1597161338731&ei=er8yX--YLLi50PEPiYu28A4&start={bundle}&sa=N&ved=2ahUKEwjvvfnRwZPrAhW4HDQIHYmFDe4Q8NMDegQIDhBA&biw=1920&bih=969\"\n",
    "# fr_google_url=f\"https://www.google.fr/search?q=temp%C3%A9rature+cuisson+croissant&ei=0PEzX4C2PMXk-gTv_ImwCA&start={bundle}&sa=N&ved=2ahUKEwiA3szk5ZXrAhVFsp4KHW9-AoYQ8NMDegQIDRBC&biw=1848&bih=942\"\n",
    "# uk_google_url=f\"https://www.google.co.uk/search?q=croissant+temperature&ei=OPQzX8T0KMj4-gSnn5moBw&start={bundle}&sa=N&ved=2ahUKEwjE8JaK6JXrAhVIvJ4KHadPBnUQ8NMDegQIDhA_&biw=1848&bih=942\"\n",
    "\n",
    "target_links = 120\n",
    "page_bundles = list(range(0,target_links,10))\n",
    "cake_links=[]\n",
    "for bundle in page_bundles:\n",
    "    links_list = get_links_from_google_search(f'https://www.google.com/search?q=how+to+make+ciambellone&client=ubuntu&hs=GlP&channel=fs&sxsrf=ALeKk03eb_8FF-pe9XNVMG56gUih10WpYA:1598472199741&ei=B8BGX83oLIvJ0PEPr-2ryAQ&start={bundle}&sa=N&ved=2ahUKEwiNiJj91LnrAhWLJDQIHa_2CkkQ8NMDegQIDBBA&biw=1637&bih=942')\n",
    "    for link in links_list:\n",
    "        cake_links.append(link)"
   ]
  },
  {
   "cell_type": "code",
   "execution_count": 16,
   "metadata": {},
   "outputs": [
    {
     "data": {
      "text/plain": [
       "117"
      ]
     },
     "execution_count": 16,
     "metadata": {},
     "output_type": "execute_result"
    }
   ],
   "source": [
    "len(cake_links)"
   ]
  },
  {
   "cell_type": "markdown",
   "metadata": {},
   "source": [
    "### Write results to file from Google search function"
   ]
  },
  {
   "cell_type": "code",
   "execution_count": 17,
   "metadata": {},
   "outputs": [],
   "source": [
    "# Uncomment country to write results\n",
    "\n",
    "# uk_croissant_links = pd.DataFrame(links)\n",
    "# uk_croissant_links.to_csv('data/uk-croissant-links.txt')\n",
    "\n",
    "# us_croissant_links = pd.DataFrame(links)\n",
    "# us_croissant_links.to_csv('data/us-croissant-links.txt')\n",
    "\n",
    "# us_puff_pastry_links = pd.DataFrame(puff_links)\n",
    "# us_puff_pastry_links.to_csv('data/us-puff-pastry-links.txt')\n",
    "\n",
    "# us_cake_pastry_links = pd.DataFrame(cake_links)\n",
    "# us_cake_pastry_links.to_csv('data/us-ciambellone-links.txt')\n",
    "\n",
    "# fr_croissant_links = pd.DataFrame(links)\n",
    "# fr_croissant_links.to_csv('data/fr-croissant-links.txt')"
   ]
  },
  {
   "cell_type": "markdown",
   "metadata": {},
   "source": [
    "## Step two\n",
    "### Read in links file and initiate web search"
   ]
  },
  {
   "cell_type": "code",
   "execution_count": 59,
   "metadata": {},
   "outputs": [],
   "source": [
    "# url_list = pd.read_csv('data/fr-croissant-links.txt',header=None)\n",
    "# url_list = pd.read_csv('data/uk-croissant-links.txt',header=None)\n",
    "url_puff = pd.read_csv('data/us-puff-pastry-links.txt',header=None)\n",
    "url_csnt = pd.read_csv('data/us-croissant-links.txt', header=None)\n",
    "url_cake = pd.read_csv('data/us-ciambellone-links.txt', header=None)"
   ]
  },
  {
   "cell_type": "code",
   "execution_count": 60,
   "metadata": {},
   "outputs": [
    {
     "name": "stdout",
     "output_type": "stream",
     "text": [
      "Exception Invalid URL '0': No schema supplied. Perhaps you meant http://0?\n",
      "Success 200, https://www.mangiabedda.com/orange-ciambella/\n",
      "Success 200, https://www.shelovesbiscotti.com/traditional-italian-citrus-ring-cake/\n",
      "Success 200, https://honestcooking.com/ciambellone-ring-cake-old-days-italian-staple/\n",
      "Success 200, https://www.localaromas.com/classic-homemade-italian-ciambellone-cake-recipe/\n",
      "Success 200, https://www.savoringitaly.com/ciambella-romagnola-italian-breakfast/\n",
      "Success 200, https://www.epicurious.com/recipes/food/views/nonna-marys-ciambella-395729\n",
      "Exception ('Connection aborted.', RemoteDisconnected('Remote end closed connection without response'))\n",
      "Success 200, https://giadzy.com/recipes/giadas-ciambella-cake/\n"
     ]
    }
   ],
   "source": [
    "from scraper import *\n",
    "search_string_1 = r'([A-Z][^.]*(?:reheat|ake|oven)[^.]*\\d{3}(?:º|°|F| ºF| °F| F|C| ºC| °C| C)[^.]*(?:[.]|[\\s]))' #US regex\n",
    "search_string_2 = r'(\\d{3})'\n",
    "\n",
    "scraper = ScrapePage('cake', 'ciambellone', search_string_1, search_string_2)\n",
    "\n",
    "# csnt_recipes = []\n",
    "# for i in range(40):\n",
    "#     csnt_recipes.append(scraper.scrape_page(url_csnt[1][i]))\n",
    "\n",
    "# cake_recipes = []\n",
    "# for i in range(40):\n",
    "#     cake_recipes.append(scraper.scrape_page(url_cake[1][i]))\n",
    "\n",
    "puff_recipes = []\n",
    "for i in range(9):\n",
    "    puff_recipes.append(scraper.scrape_page(url_cake[1][i]))\n",
    "# test = scraper.scrape_page(url_puff[1][5])\n",
    "# test"
   ]
  },
  {
   "cell_type": "code",
   "execution_count": 61,
   "metadata": {},
   "outputs": [
    {
     "name": "stdout",
     "output_type": "stream",
     "text": [
      "0\n",
      "\n",
      "https://www.mangiabedda.com/orange-ciambella/\n",
      "Preheat oven to 350F and grease a tube pan with butter or cooking spray.In a large bowl, whisk eggs, sugar and vegetable oil until pale and frothy.Stir in orange zest and juice.Sift flour, baking powder and salt. Stir into the wet ingredients with a wooden spoon or spatula until just combined.Pour batter into the prepared tube pan. Bake for 35 minutes until a toothpick inserted in the center comes out clean.Transfer to a cooling rack. After 10 minutes, run a knife around the edges of the pan to loosen the cake. Unmold and let cool completely on the wire rack.Lightly dust with powdered sugar before serving.\n",
      "https://www.shelovesbiscotti.com/traditional-italian-citrus-ring-cake/\n",
      "Preheat the oven to 350℉ (175°C) .Grease and flour (or use non-stick spray) a 10-inch bundt pan.In a medium bowl,sift together flour, baking powder and salt. Set aside.In a large mixing bowl (of stand mixer) beat the eggs on high speed for about 3 minutes (eggs will become thick).Gradually add the sugar and continue beating for another 2-3 minutes.Reduce speed and add oil, milk and juice.Add dry ingredients, vanillin (or vanilla extract) and zest and beat only until combined.Bake in a 350℉ (175°C) oven for approximately 35 minutes or until cake tester comes out dry.Cool completely on wire rack.Dust with icing sugar before serving.\n",
      "https://honestcooking.com/ciambellone-ring-cake-old-days-italian-staple/\n",
      "\n",
      "This delicious classic Italian ring cake is simple, fast and butter-free.\n",
      "By Elisa Gennari\n",
      "\n",
      "Basically every person I know used to have, as a child, what we call “ciambellone” (big doughnut). I don’t think in the 70s and 80s in Italy there were women who did not know how to bake this delicious cake (obviously every household had its own recipe..).\n",
      "Unfortunately, for the last two decades many moms seem to have forgotten how to bake their children an healthy and home made snack and had replaced it with ready-made ones, rich in sugars and preservatives. Recently, though, there has been a change of direction and many mothers are becoming more aware of the importance of food habits in children, and have started again to bake their own cakes.\n",
      "\n",
      "You don’t have to be and expert chef to cook this simple cake and it’s amazing to prepare it with the kids. It’s so easy they can make it on their own. It tastes like old days, it is the perfect comfort food. Can you find something more simple?\n",
      "I remember when I was a little girl my mom used to bake this cake and many variations of it, quite twice a week to make me and my sister have a healthy snack in the afternoon. Nowadays I would also say that it’s not only healthy for your children but it also really cheap, you will need just 5 simple ingredients. You can also add your personal twist by adding raisins, chocolate chips, nuts or everything you like, I’ve made it a couple of times with matcha green tea, it was awesome. I recommend you try it with chocolate chips and pecan or with a mix of grounded spices such as ginger, cinnamon, cardamom, cloves…it will always be perfect.\n",
      "To get the original shape you will need a ring-shaped pan, but if you don’t have it you can use a plumcake pan or a 23cm round pan.\n",
      "Some tips to make some changes to this cake:\n",
      "1. Richer taste: You can substitute milk with yogurt, or cream if you want to prepare a richer cake.\n",
      "2. To make a marble cake: you use 250gr of all purpose flour, then divide the batter into two bowls and add 50 gr of cocoa powder into one. Then pour the dough into the pan alternately.\n",
      "3. Apple variation: slice two apples and line them over the batter in the pan, dust with caster sugar and bake.\n",
      "4. Whole grain variation: use whole grain flour – spelt, oat, wheat or a mix\n",
      "5. Dairy free: use soy milk instead of regular milk\n",
      "Now let’s bake our cake!\n",
      "    5.0 from 5 reviews   Old days Italian staple: Italian Ring Cake      Print   Simple, fast, butter-free and tasty cake  Author: Elisa Gennari Serves: 12/16   Ingredients  3 eggs 300gr (2 and ½ cups) all purpose flour (or 270gr - 2cups whole wheat) 200gr sugar (1 and ½ cups) ½ glass of vegetable oil (1/2 cup) 1 glass of milk (1cup) 15gr baking powder, that should be 2 and a half teaspoons orange or lemon zest, grated 5gr of butter to grease the pan     Instructions  Preheat the oven at 180/200°C (350/390°F). Put all the ingredients in a bowl and mix it with a whisk, or put them into the food processor and turn it on. Mix until evenly combined. Grease your baking pan with butter and then add some flour and move the pan to even distribute the flour on the surface. Add the batter and cook for 40 minutes. You can check if it's ready by piercing the cake with a skewer. If it comes out clean, the cake is ready. IMPORTANT! do not open the oven in the first 25 minutes or the cake will collapse    3.5.3229 \n",
      "\n",
      "\n",
      "\n",
      "\n",
      "\n",
      "\n",
      "Tags:\n",
      "classic italian ring cake, Italian, ring cake \n",
      "\n",
      "\n",
      "\n",
      "\n",
      "\n",
      " Previous Article\n",
      "Miso Ginger Soup with Red Chard\n",
      "\n",
      "\n",
      "\n",
      "\n",
      "Next Article\n",
      "Chocolate and Pomegranate Cups\n",
      " \n",
      "\n",
      "\n",
      " \n",
      "https://www.localaromas.com/classic-homemade-italian-ciambellone-cake-recipe/\n",
      "\n",
      "https://www.savoringitaly.com/ciambella-romagnola-italian-breakfast/\n",
      "Butter and flour a tube pan (or spray generously with baking spray-my preferred method for its ease).Preheat oven to 350 Melt the butter and set aside.  In a medium sized bowl, whisk together the flour, baking powder, salt and lemon zest; set aside. In a medium sized mixing bowl, beat the egg whites until white and form soft peaksIn a large mixing bowl, add the sugar. Beat in the egg yolks one at a time.On medium speed, mix in about 1/2 cup of the flour mixture to the egg and sugar mixture; beat about one minute. Beat in another 1/2 cup of the flour mixture and slowly add in the melted butter; beat until combined (about 1 more minute). Stop the mixture to scrape the sides of the mixing bowl with a spatula when needed.On medium speed, mix in 1/2 of the milk and the vanilla followed by another 1/2 cup of the flour mixture until combined (about 1 minutscraping down the sides of the bowl as needed. Mix in the rest of the milk followed by the rest of the flour mixture.Stir in about 1/3 of the egg whites into the batter. Fold in the rest of the egg whites. Bring the batter from the bottom of the bowl over the egg whites and keep turning the bowl around until it is all folded together.Pour the batter into your prepared tube pan and even out the top of the batter with yoru spatula; tap pan carefully on your counter to level out the batter.Sprinkle on the pearl sugar (decorators sugaand bake 40-45 minutes, or until a toothpick inserted in middle comes out clean. Let cool and then remove the bottom of the pan and place on your serving plate.\n",
      "https://www.epicurious.com/recipes/food/views/nonna-marys-ciambella-395729\n",
      "YieldServes 8Ingredients3 cups all-purpose flour3/4 cup sugar2 tablespoons whole milk2 eggs1 tablespoon baking powder1/4 teaspoon salt12 tablespoons (1 1/2 sticks) unsalted butterGrated zest of 1 lemon1 egg yolkPreparation                                        1. Preheat the oven to 375°F on the regular bake setting\n",
      "                                                                            2. Put the flour, sugar, milk, and 2 eggs in the bowl of a food processor. Add the baking powder and salt, taking care not to put one on top of the other or the salt may inhibit the action of the baking powder. Cut the butter into at least a dozen pieces. Add the butter and lemon zest to the other ingredients and pulse until a dough forms.\n",
      "                                                                            3. Transfer the dough to a counter and knead it gently until you obtain a smooth ball. Shape the dough into a loaf about 12 inches long and 3 inches wide. Place it on a baking sheet that has been buttered and floured or lined with a nonstick baking mat. Place the egg yolk in a small bowl. Add 2 teaspoons water, and whisk. Make 4 or 5 shallow diagonal cuts on top of the dough and brush the surface with the yolk mixture.\n",
      "                                                                            4. Bake for 35 minutes. The ciambella is ready when it is golden brown and feels fairly firm when prodded.\n",
      "                                    \n",
      "From Hazan Family Favorites: Beloved Italian Recipes by Guiliano Hazan. Copyright © 2012 Giuliano Hazan; photographs copyright © 2012 Joseph De Leo. Published by Stewart, Tabori & Chang, an imprint of ABRAMS.\n",
      "Related Video\n",
      "https://smittenkitchen.com/2018/06/ciambellone-an-italian-tea-cake/\n",
      "\n",
      "https://giadzy.com/recipes/giadas-ciambella-cake/\n",
      "Preheat the oven to 350 degrees F. Position a rack one above the center position. Spray the inside of a 9 or 10 inch bundt pan with nonstick cooking spray and set aside.In a medium bowl, use a band mixer to beat together the eggs and sugar until light and fluffy and pale in color, about 3 minutes. Add the olive oil, milk, lemon zest, lemon juice and vanilla extract to the bowl and beat again on medium speed until smooth and combined. Add the flour, baking powder, salt and fennel seed to the liquid ingredients and beat on low speed until just combined. Pour the batter into the prepared pan and bake for approximately 50 minutes or until a toothpick inserted in the center comes out without and crumbs. Cool in the pan for 15 minutes. Carefully invert the cake onto a wire rack and cool completely. Dust with powdered sugar and serve.\n"
     ]
    }
   ],
   "source": [
    "for recipe in puff_recipes:\n",
    "    print(recipe.url)\n",
    "    print(recipe.instructions)"
   ]
  },
  {
   "cell_type": "code",
   "execution_count": 19,
   "metadata": {},
   "outputs": [
    {
     "name": "stdout",
     "output_type": "stream",
     "text": [
      "         0                                                  1\n",
      "0      NaN                                                  0\n",
      "1      0.0  https://m.youtube.com/watch?v=g-dF_j3AVTw&feat...\n",
      "2      1.0  https://m.youtube.com/watch?v=g-dF_j3AVTw&feat...\n",
      "3      2.0          https://en.wikipedia.org/wiki/Puff_pastry\n",
      "4      3.0  https://www.thekitchn.com/make-or-buy-puff-pas...\n",
      "..     ...                                                ...\n",
      "198  197.0  http://gratil.sevilenhurdacilik.xyz/almond-tar...\n",
      "199  198.0  https://thedomesticrebel.com/2020/08/25/chocol...\n",
      "200  199.0  http://ba.8muse.it/pastries-from-around-the-wo...\n",
      "201  200.0  https://www.houstonchronicle.com/life/food/art...\n",
      "202  201.0  https://breakfastideasaaliyah.web.app/2079-rec...\n",
      "\n",
      "[203 rows x 2 columns]\n"
     ]
    }
   ],
   "source": [
    "print(url_list)"
   ]
  },
  {
   "cell_type": "code",
   "execution_count": 20,
   "metadata": {},
   "outputs": [
    {
     "name": "stdout",
     "output_type": "stream",
     "text": [
      "Exception Invalid URL '0': No schema supplied. Perhaps you meant http://0?\n",
      " \n",
      " \n",
      "Exception the JSON object must be str, bytes or bytearray, not NoneType\n",
      "40\n"
     ]
    }
   ],
   "source": [
    "# search_string_1 = r'([A-Z][^.]*(?:four|cuisson|cuir|chauff)[^.]*\\d{3}(?:º|°|F| ºF| °F| F|C| ºC| °C| C)[^.]*(?:[.]|[\\s]))' #French regex\n",
    "# search_string_1 = r'([A-Z][^.]*(?:reheat|ake|oven)[^.]*\\d{3}(?:ºC| ºC|°C| °C|C| C)[^.]*(?:[.]|[\\s]))' #UK regex\n",
    "search_string_1 = r'([A-Z][^.]*(?:reheat|ake|oven)[^.]*\\d{3}(?:º|°|F| ºF| °F| F|C| ºC| °C| C)[^.]*(?:[.]|[\\s]))' #US regex\n",
    "search_string_2 = r'(\\d{3})'\n",
    "\n",
    "good_url, bad_url, instr, init_temp, init_temp_range = [], [], [], [], []\n",
    "hits = 0\n",
    "misses = 0\n",
    "\n",
    "recipe_dict = []\n",
    "\n",
    "scraper = ClassifyWebpage(search_string_1, search_string_2)\n",
    "\n",
    "for i in range(40):\n",
    "    recipe_dict.append(scraper.parse_webpage(url_list[1][i]))\n",
    "    time.sleep(1)\n",
    "print(len(recipe_dict))"
   ]
  },
  {
   "cell_type": "code",
   "execution_count": 21,
   "metadata": {
    "collapsed": true,
    "jupyter": {
     "outputs_hidden": true
    }
   },
   "outputs": [
    {
     "data": {
      "text/plain": [
       "[None,\n",
       " None,\n",
       " None,\n",
       " {'instructions': '', 'url': 'https://en.wikipedia.org/wiki/Puff_pastry'},\n",
       " {'instructions': '',\n",
       "  'url': 'https://www.thekitchn.com/make-or-buy-puff-pastry-157266'},\n",
       " {'instructions': 'Cool completely: Baked puff pastry is at its crispiest best the same day it&#x27;s made, but will keep quite well in airtight containers for a few days.',\n",
       "  'url': 'https://www.thekitchn.com/how-to-make-puff-pastry-222312'},\n",
       " {'instructions': 'Repeat about 2 to 4 times, wrap the dough in plastic wrap, and chill for 2 hours or overnight.*',\n",
       "  'url': 'https://bakingamoment.com/easy-homemade-puff-pastry-recipe/'},\n",
       " {'instructions': \"Roll out with flour for desired puff pastry use. Please note that this recipe does not have baking temperature and time, because you're supposed to use this pastry in any recipe that calls for one sheet of puff pastry. Understand?\",\n",
       "  'url': 'https://www.dessertfortwo.com/15-minute-puff-pastry/'},\n",
       " {'instructions': \"Roll out with flour for desired puff pastry use. Please note that this recipe does not have baking temperature and time, because you're supposed to use this pastry in any recipe that calls for one sheet of puff pastry. Understand?\",\n",
       "  'url': 'https://anitalianinmykitchen.com/puff-pastry/'},\n",
       " {'instructions': 'Cool completely: Baked puff pastry is at its crispiest best the same day it&#x27;s made, but will keep quite well in airtight containers for a few days.',\n",
       "  'url': 'https://www.thekitchn.com/how-to-make-puff-pastry-222312'},\n",
       " {'instructions': 'This puff pastry recipe makes the equivalent of two sheets of store-bought puff pastry. To use, divide into two, roll into a ⅛” thick rectangle, and use as indicated in your recipe.',\n",
       "  'url': 'https://sugarspunrun.com/how-to-make-puff-pastry-recipe/'},\n",
       " {'instructions': 'To use your pastry: Follow instructions required by the recipe you are making. Alway bake in a HOT oven for best results.',\n",
       "  'url': 'https://www.biggerbolderbaking.com/easy-puff-pastry-recipe/'},\n",
       " {'instructions': 'Peel away plastic wrap and invert dough to floured work surface. Peel away second piece of wrap. Fold dough in thirds in the width, folding the top third down and the bottom third up, to make a 6 by 18-inch rectangle, then roll up the dough from one of the 6-inch ends, making sure to roll end under dough. Press the dough into a square, wrap in plastic and refrigerate 1 hour, or until firm.',\n",
       "  'url': 'https://www.foodnetwork.com/recipes/quickest-puff-pastry-recipe-1927422'},\n",
       " {'instructions': 'Fold the top third down to the center, then the bottom third up and over that, same with the sides. Roll out again to three times the length into a rectangular shape. Place parchment paper on top of the dough, fold over top and bottom of the dough, wrap with a plastic wrap and let it chill in a refrigerator for about an hour.',\n",
       "  'url': 'https://momsdish.com/recipe/319/quick-puff-pastry-dough'},\n",
       " {'instructions': '', 'url': 'https://www.youtube.com/watch?v=g-dF_j3AVTw'},\n",
       " {'instructions': '',\n",
       "  'url': 'https://www.delish.com/cooking/recipe-ideas/g2886/things-to-do-with-puff-pastry/'},\n",
       " {'instructions': \"YieldMakes about 1 lb\\nActive Time30 min\\nTotal Time3 1/2 hrIngredients1 1/4 cups all-purpose flour1/4 teaspoon salt1 stick (1/2 cup) plus 5 tablespoons unsalted butter, frozen5 to 6 tablespoons ice waterPreparation                                        Sift together flour and salt into a chilled large metal bowl. Set a grater in flour mixture and coarsely grate frozen butter into flour, gently lifting flour and tossing to coat butter.\\n                                                                            Drizzle 5 tablespoons ice water evenly over flour mixture and gently stir with a fork until incorporated.\\n                                                                            Test mixture by gently squeezing a small handful: When it has the proper texture, it will hold together without crumbling apart. If necessary, add another tablespoon water, stirring until just incorporated and testing again. (If you overwork mixture or add too much water, pastry will be tough.)\\n                                                                            Gather mixture together and form into a 5-inch square, then chill, wrapped in plastic wrap, until firm, about 30 minutes. (Dough will be lumpy and streaky.)\\n                                                                            Roll out dough on a floured surface with a floured rolling pin into a 15- by- 8-inch rectangle. Arrange dough with a short side nearest you, then fold dough into thirds like a letter: bottom third up and top third down over dough. Rewrap dough and chill until firm, about 30 minutes.\\n                                                                            Arrange dough with a short side nearest you on a floured surface and repeat rolling out, folding, and chilling 2 more times. Brush off any excess flour, then wrap dough in plastic wrap and chill at least 1 hour.\\n                                    Cooks' note:Related Video\",\n",
       "  'url': 'https://www.epicurious.com/recipes/food/views/rough-puff-pastry-dough-230789'},\n",
       " {'instructions': '',\n",
       "  'url': 'https://www.foodandwine.com/desserts/mad-genius-tips-puff-pastry'},\n",
       " {'instructions': 'Do Ahead: Dough can be made 2 days ahead. Keep chilled.',\n",
       "  'url': 'https://www.bonappetit.com/recipe/shortcut-puff-pastry'},\n",
       " {'instructions': '',\n",
       "  'url': 'https://www.bonappetit.com/story/easy-puff-pastry'},\n",
       " {'instructions': \"If you're not using it right away, cut the dough in half, wrap individual pieces in plastic wrap and store in the freezer.\",\n",
       "  'url': 'https://www.theflavorbender.com/quick-easy-rough-puff-pastry/'},\n",
       " {'instructions': 'Whisk together the flour, salt, and baking powder., Add the butter, working it in to make a coarse/crumbly mixture. Leave most of the butter in large, pea-sized pieces., Stir in the sour cream; the dough won\\'t be cohesive. Turn it out onto a floured work surface, and bring it together with a few quick kneads., Pat the dough into a rough log, and roll it into an 8\" x 10\" rectangle., Dust both sides of the dough with flour, and starting with a shorter end, fold it in three like a business letter., Flip the dough over, give it a 90° turn on your work surface, and roll it into an 8\" x 10\" rectangle. Fold it in three again., Chill the dough for at least 30 minutes before using. To make pastry, roll into desired size., Freeze dough for prolonged storage, up to 2 months. To use, thaw in the refrigerator overnight.',\n",
       "  'url': 'https://www.kingarthurbaking.com/recipes/fast-and-easy-puff-pastry-recipe'},\n",
       " {'instructions': \"Repeat this rolling, folding and turning two more times, then refrigerate until firm. Repeat two more times for a total of 6 ''turns''. Wrap and refrigerate. The dough is now ready to roll out and use in any recipe calling for puff pastry. Roll the dough out as thin as 1/4 inch to make pastries. Bake in a preheated oven of at least 400 degrees F (200 degrees C) to get the maximum puff from your pastry.\\n\",\n",
       "  'url': 'https://www.allrecipes.com/recipe/159432/puff-pastry/'},\n",
       " {'instructions': 'Remove the dough from the mixer and shape it into a ball.  Use a pair of sharp kitchen shears and cut a 3/4-inch deep gash across the top of the ball of dough.  Wrap the dough in plastic wrap and chill in the refrigerator for 1 hour.',\n",
       "  'url': 'https://bakesbybrownsugar.com/how-to-make-puff-pastry/'},\n",
       " {'instructions': '',\n",
       "  'url': 'https://www.bonappetit.com/story/easy-puff-pastry'},\n",
       " None,\n",
       " {'instructions': 'Place the dough into a quart-sized ziplock and refrigerate for at least 1 hour before using. (This puff pastry dough can be refrigerated overnight.) When you&#8217;re ready to use the dough, roll it out into a 12 X 8-1/2 inch rectangle. Slice into sections.',\n",
       "  'url': 'https://www.confettiandbliss.com/puff-pastry-dough/'},\n",
       " {'instructions': 'Remove baked danish braids from the oven and cool for at least 5 minutes before cutting and serving.',\n",
       "  'url': 'https://sallysbakingaddiction.com/danish-pastry-dough/'},\n",
       " {'instructions': 'Repeat steps 5 - 7 twice more, then fold into three, cover with plastic wrap and chill in the fridge for 30 minutes.',\n",
       "  'url': 'https://lovefoodies.com/quick-and-easy-flaky-pastry/'},\n",
       " {'instructions': 'Repeat steps 5 - 7 twice more, then fold into three, cover with plastic wrap and chill in the fridge for 30 minutes.',\n",
       "  'url': 'https://veenaazmanov.com/classic-puff-pastry-from-scratch-pate-feuillettee/'},\n",
       " {'instructions': 'In a large bowl, gently mix in flour, salt, sugar, soft butter. Add in water and knead to a smooth dough. Cover with cling and put in the fridge to chill for 20 minutesCut butter into a slice and put on a large cling about four pieces wide and five pieces long. Wrap the butter block with cling and roll to flatten. Put in fridge to chill for 30 minutesOn a lightly floured board, using a rolling pin to roll the dough until 3 times the width, about 3mm thick rectanglePut butter block in the middle, wrap one half of the dough to cover butter block then wrap the other half. Use one hand to push from center to the edge to push out any air bubbles. Fold in the top and bottom edge to completely wrap butter blockDust some flour on the dough, using a rolling pin to roll out the dough in one direction until 3 times the width, about 3mm thick rectangle. Fold the dough in half long that center line to make 4 layers. Wrap with cling and put in the fridge to chill for 30 minutesRepeat the folding process two times. Chill in the fridge for 30 minutes after each folding.',\n",
       "  'url': 'https://www.simplebutyum.com/how-to-make-puff-pastry-dough-at-home-from-scratch-step-by-step/'},\n",
       " {'instructions': 'Split the dough into 2 equal portions. Wrap the dough and refrigerate at least 1-2 hours, preferably overnight, before using. The dough is now ready to be used in any recipe. Unused dough can be frozen for up to 3 months. Defrost before using.',\n",
       "  'url': 'https://www.baking-sense.com/2018/09/15/how-to-make-classic-puff-pastry/'},\n",
       " {'instructions': 'At the final fold wrap the dough in plastic wrap and refrigerate at least an hour before using in a recipe.',\n",
       "  'url': 'https://www.homemadefoodjunkie.com/homemade-puff-pastry-recipe-tutorial/'},\n",
       " {'instructions': 'At the final fold wrap the dough in plastic wrap and refrigerate at least an hour before using in a recipe.',\n",
       "  'url': 'https://senseandedibility.com/puff-pastry-dough/'},\n",
       " {'instructions': '',\n",
       "  'url': 'https://www.bbcgoodfood.com/recipes/rough-puff-pastry'},\n",
       " {'instructions': '',\n",
       "  'url': 'https://food52.com/blog/9742-how-to-make-puff-pastry-step-by-step'},\n",
       " {'instructions': '',\n",
       "  'url': 'https://www.bbc.co.uk/food/recipes/how_to_make_puff_pastry_65905'},\n",
       " {'instructions': '3.4KsharesJump to Recipe\\nJump to Full Video\\nMaking vegan puff pastry dough from scratch is easier than you think using this fool-proof cheat method. Enjoy some crispy, flaky goodness in half the time!\\n\\nTraditional puff pastry is made by encasing a slab of butter in a basic dough made with flour, water, butter and salt. Then the block is rolled and folded at least 4 times, chilling for 30 minutes between each fold.\\nThe whole process takes at least 4 hours!\\nTo cut down on the lengthy process, I used a technique that includes folding in shreds of frozen vegan butter between layers of dough. The dough is then rested for an hour then rolled and folded twice with a final 15 minutes resting time.\\n\\nThe method was adapted from Paul Hollywood’s recipe for quick puff pastry. By using frozen instead of just chilled vegan butter, this allows more time to roll and fold the pastry dough without chilling too many times.\\nThe dough may not rise as high as puff pastry made using the traditional method but the result is just as crispy, flaky and satisfying. \\nHomemade pastry is also cheaper than storebought and it only requires 4 ingredients! Here are some FAQs and answers to help you along the way:\\nCan I use solid coconut oil to make vegan puff pastry?\\nPersonally I haven’t tried using coconut oil to make vegan puff pastry. Although coconut oil solidifies when it’s cold, it also melts rather quickly at room temperature.\\nCurrently, I live in the Caribbean where it’s warm pretty much all year round. Coconut oil would be difficult to work with as it could melt rather quickly during the rolling and folding steps.\\nIt’s key to keep the butter as cold and solid as possible while making the dough. While baking, the solid pieces of vegan butter will melt releasing steam, causing the pastry to rise or “puff up”. This also leaves tiny pockets throughout the layers of dough, giving it the desired flakiness.\\n\\nI recommend using a stick form of vegan butter.\\xa0Earth Balance Vegan Buttery Sticks would work well in this recipe. Don’t go for spreadable vegan butter or margarine. They have a higher amount of water which could result in a less flaky and more gummy or tougher result.\\nAt what temperature should I bake vegan puff pastry?\\nThe temperature used to bake puff pastry depends on the individual recipe. Generally, it needs to be baked at a high temperature (400°F/205°C) for about 10 minutes for best results.\\xa0\\nThe high temperature allows the butter to melt and release steam quickly to rise the pastry before the dough sets up. \\nAt a lower temperature, the pastry will fall flat, squeezing out the butter which could result in a tougher, oily mess. Be sure to preheat the oven and try not to open the oven door while baking.\\n\\nHow to store flaky pastry dough\\nWrap puff pastry dough airtight in plastic wrap or place in a zip lock bag and store in the fridge for up to 2 days or in the freezer for up to 2 months. \\nWhen ready to use, thaw in the fridge overnight or at room temperature for about 20 to 30 minutes until it is pliable enough to roll out.\\xa0\\nIf the pastry dough is too cold, it will crack while rolling. If it is too warm, the butter will melt and it may not rise well while baking.\\nHow much pastry dough does this recipe make?\\nThis recipe makes a little over 500g/1lb of dairy-free puff pastry dough. This should be enough for two 9-inch top pie crusts. I used this dough to top my Vegan Mushroom Pot Pie. The flaky pastry paired with the rich, creamy filling makes it quite a treat!\\nI wouldn’t recommend using puff pastry as a base for large, filled pies such as apple pie, as the filling could weigh down the base and not allow it to rise as much. This defeats the purpose of creating all those layers in the folding step.\\nWhat can I do with leftover pastry dough?\\nLeftover puff pastry dough can be baked and eaten as a snack served plain or with a dip. You can even sprinkle them with shredded vegan cheese, garlic butter and herbs or cinnamon sugar.\\nI HIGHLY recommend watching the recipe video which shows the whole process from start to finish. It’s inside the printable recipe card. Just scroll down!\\nMore easy vegan recipes:\\nHow to make Vegan Gnocchi from scratchVegan Lasagna for TwoOil-free Creamy Vegan One Pot Pasta\\n\\n\\n\\nHow To Make Vegan Puff Pastry (with Video)\\n\\nMaking vegan puff pastry dough from scratch is easier than you think using this fool-proof cheat method. Enjoy some crispy, flaky goodness in half the time!\\n\\nRate this Recipe:\\n5 from 1 vote\\n\\nPrint Recipe\\nPin RECIPE\\n\\nCourse: Dessert, Dinner, SnackCuisine: FrenchDiet: Vegan, Vegetarian\\nPrep Time: 2 hrs 26 minsTotal Time: 2 hrs 26 mins\\nServings: 1 lb dough\\nAuthor: Jhanelle Golding\\n\\nIngredients1 stick vegan butter, (½ cup/113g – frozen)2 cups all-purpose flour, (250g)1 tsp salt, (5g)2 tbsp softened vegan butter, (30g)½ cup plus 1 tbsp water, (130ml)\\nInstructionsGrab a box grater and using the largest side, shred the frozen vegan butter onto a plate. Place in the freezer while you make the dough.In a large bowl, combine the flour and salt. Then add the softened vegan butter, mixing with a fork until it resembles breadcrumbs.Gradually stir in the water and continue mixing until all the flour starts to come together. You can use your hands at this point to help form the dough. It will look dry at first but keep pressing the dough together until the bowl looks fairly clean.Lightly flour a clean surface and knead the dough, using your hands, for about 4 minutes until it is soft and smooth. Shape into a ball and cover with plastic wrap. Rest in the refrigerator for 15 minutes.Roll out the dough into a rectangle about a 1/4 inch/6mm thick. Remove the vegan butter shreds from the freezer.  Lightly dust your fingertips with flour and add half the shreds to 2/3 of the dough. Add the remaining butter shreds back into the freezer.Fold over the top third of the dough (without any butter shreds) then fold the bottom third, forming a wallet fold. Always brush away any excess flour while folding to help create a lighter product. Make a 1/4 turn with the dough and roll lengthwise into the shape of a rectangle about a 1/4 inch/6mm thick. Add the remaining vegan butter shreds to 2/3 of the dough and repeat the wallet folding step.Seal the openings to keep the butter shreds from falling out of the dough then cover with plastic wrap and rest in the fridge for at least 1 hour. It can also be left overnight.Once rested, repeat the rolling and folding step twice to create more layers in the dough. Then wrap the dough with plastic wrap and rest in the fridge for at least 15 minutes.At this point, the dough the ready for use but if you’d like to create even more flaky layers, you can repeat the rolling and folding step two more times, then rest for another 15 minutes. I used this dough to top my Vegan Mushroom Pot Pie and it worked really well!\\nFull Recipe Video\\nNotes\\nWrap the puff pastry dough airtight in plastic wrap or place in a zip lock bag and store in the fridge for up to 2 days or in the freezer for up to 2 months.\\nWhen ready to use, thaw in the fridge overnight or at room temperature for about 20 to 30 minutes until it is pliable enough to roll out.\\nCheck the post for more frequently asked questions and answers.\\nIf you’d like more easy homemade recipes, try this Vegan Gnocchi recipe. Made from scratch with 4 basic ingredients!\\n\\n\\n   Tried this recipe? Please let me know in the comments!If you enjoyed it, please consider leaving a star rating. It really helps the blog. Share your creations too & tag @fromthecomfortofmybowl.\\n\\nThis post contains affiliate links. As an Amazon Associate I earn from qualifying purchases. Amazon Disclosure\\n3.4Kshares',\n",
       "  'url': 'https://www.fromthecomfortofmybowl.com/vegan-puff-pastry/'},\n",
       " {'instructions': 'Wrap the finished dough in plastic and refrigerate until ready to use, at least 2 hours after your final turn, or freeze for future use.',\n",
       "  'url': 'https://www.marthastewart.com/349987/puff-pastry'},\n",
       " {'instructions': 'Repeat the process of folding and rotating the dough to create the third and fourth folds. Wrap the dough in plastic wrap and refrigerate it for at least 30 minutes and up to 3 days before using it. (You can freeze the dough for up to 2 months. Just wrap it well in plastic wrap and place it in a freezer-safe resealable plastic bag before tossing it in the freezer. Thaw it out in the refrigerator before using.)',\n",
       "  'url': 'https://leitesculinaria.com/98423/recipes-quick-puff-pastry.html'}]"
      ]
     },
     "execution_count": 21,
     "metadata": {},
     "output_type": "execute_result"
    }
   ],
   "source": [
    "recipe_dict"
   ]
  },
  {
   "cell_type": "code",
   "execution_count": 22,
   "metadata": {},
   "outputs": [
    {
     "ename": "TypeError",
     "evalue": "'NoneType' object is not subscriptable",
     "output_type": "error",
     "traceback": [
      "\u001b[0;31m---------------------------------------------------------------------------\u001b[0m",
      "\u001b[0;31mTypeError\u001b[0m                                 Traceback (most recent call last)",
      "\u001b[0;32m<ipython-input-22-be5a3a19fc4a>\u001b[0m in \u001b[0;36m<module>\u001b[0;34m\u001b[0m\n\u001b[1;32m      1\u001b[0m \u001b[0;32mfor\u001b[0m \u001b[0mrecipe\u001b[0m \u001b[0;32min\u001b[0m \u001b[0mrecipe_dict\u001b[0m\u001b[0;34m:\u001b[0m\u001b[0;34m\u001b[0m\u001b[0;34m\u001b[0m\u001b[0m\n\u001b[0;32m----> 2\u001b[0;31m     \u001b[0mprint\u001b[0m\u001b[0;34m(\u001b[0m\u001b[0mlen\u001b[0m\u001b[0;34m(\u001b[0m\u001b[0mrecipe\u001b[0m\u001b[0;34m[\u001b[0m\u001b[0;34m'instructions'\u001b[0m\u001b[0;34m]\u001b[0m\u001b[0;34m)\u001b[0m\u001b[0;34m)\u001b[0m\u001b[0;34m\u001b[0m\u001b[0;34m\u001b[0m\u001b[0m\n\u001b[0m",
      "\u001b[0;31mTypeError\u001b[0m: 'NoneType' object is not subscriptable"
     ]
    }
   ],
   "source": [
    "for recipe in recipe_dict:\n",
    "    print(len(recipe['instructions']))"
   ]
  },
  {
   "cell_type": "code",
   "execution_count": 28,
   "metadata": {},
   "outputs": [
    {
     "ename": "AttributeError",
     "evalue": "'dict' object has no attribute 'instructions'",
     "output_type": "error",
     "traceback": [
      "\u001b[0;31m---------------------------------------------------------------------------\u001b[0m",
      "\u001b[0;31mAttributeError\u001b[0m                            Traceback (most recent call last)",
      "\u001b[0;32m<ipython-input-28-b73776221601>\u001b[0m in \u001b[0;36m<module>\u001b[0;34m\u001b[0m\n\u001b[1;32m      1\u001b[0m \u001b[0;32mfor\u001b[0m \u001b[0mpage\u001b[0m \u001b[0;32min\u001b[0m \u001b[0mrecipe_dict\u001b[0m\u001b[0;34m:\u001b[0m\u001b[0;34m\u001b[0m\u001b[0;34m\u001b[0m\u001b[0m\n\u001b[1;32m      2\u001b[0m     \u001b[0;32mif\u001b[0m \u001b[0mpage\u001b[0m \u001b[0;34m!=\u001b[0m \u001b[0;32mNone\u001b[0m\u001b[0;34m:\u001b[0m\u001b[0;34m\u001b[0m\u001b[0;34m\u001b[0m\u001b[0m\n\u001b[0;32m----> 3\u001b[0;31m         \u001b[0;32mif\u001b[0m \u001b[0mpage\u001b[0m\u001b[0;34m.\u001b[0m\u001b[0minstructions\u001b[0m\u001b[0;34m:\u001b[0m\u001b[0;34m\u001b[0m\u001b[0;34m\u001b[0m\u001b[0m\n\u001b[0m\u001b[1;32m      4\u001b[0m             \u001b[0;32mif\u001b[0m \u001b[0mlen\u001b[0m\u001b[0;34m(\u001b[0m\u001b[0mpage\u001b[0m\u001b[0;34m.\u001b[0m\u001b[0minstructions\u001b[0m\u001b[0;34m)\u001b[0m\u001b[0;34m>\u001b[0m\u001b[0;36m0\u001b[0m\u001b[0;34m:\u001b[0m\u001b[0;34m\u001b[0m\u001b[0;34m\u001b[0m\u001b[0m\n\u001b[1;32m      5\u001b[0m                 \u001b[0mgood_url\u001b[0m\u001b[0;34m.\u001b[0m\u001b[0mappend\u001b[0m\u001b[0;34m(\u001b[0m\u001b[0mpage\u001b[0m\u001b[0;34m.\u001b[0m\u001b[0murl\u001b[0m\u001b[0;34m)\u001b[0m\u001b[0;34m\u001b[0m\u001b[0;34m\u001b[0m\u001b[0m\n",
      "\u001b[0;31mAttributeError\u001b[0m: 'dict' object has no attribute 'instructions'"
     ]
    }
   ],
   "source": [
    "for page in recipe_dict:\n",
    "    if page != None:\n",
    "        if page.instructions:\n",
    "            if len(page.instructions)>0:\n",
    "                good_url.append(page.url)\n",
    "                instr.append(page.instructions)\n",
    "                hits += 1\n",
    "                       \n",
    "            else:\n",
    "                print(page.url)\n",
    "                print(\"NO DATA\")\n",
    "                bad_url.append(page.url)\n",
    "                misses += 1\n",
    "print(f': Hits {hits}  Misses {misses}')\n",
    "\n",
    "df = pd.DataFrame([good_url, instr]).T\n",
    "# df = pd.DataFrame([good_url, instr, init_temp]).T"
   ]
  },
  {
   "cell_type": "code",
   "execution_count": 222,
   "metadata": {},
   "outputs": [
    {
     "name": "stdout",
     "output_type": "stream",
     "text": [
      "54\n"
     ]
    }
   ],
   "source": [
    "print(len(recipe_dict))"
   ]
  },
  {
   "cell_type": "markdown",
   "metadata": {},
   "source": [
    "### Write search results to file"
   ]
  },
  {
   "cell_type": "code",
   "execution_count": 212,
   "metadata": {},
   "outputs": [],
   "source": [
    "# Uncomment country to write results\n",
    "\n",
    "us_df_croissant2 = pd.DataFrame(df)\n",
    "us_df_croissant2.to_csv('data/us_croissant2.csv')\n",
    "\n",
    "# uk_df = pd.DataFrame(df)\n",
    "# uk_df.to_csv('data/uk_results.csv')\n",
    "\n",
    "# fr_df = pd.DataFrame(df)\n",
    "# fr_df.to_csv('data/fr_results.csv')"
   ]
  },
  {
   "cell_type": "code",
   "execution_count": 221,
   "metadata": {},
   "outputs": [
    {
     "data": {
      "text/html": [
       "<div>\n",
       "<style scoped>\n",
       "    .dataframe tbody tr th:only-of-type {\n",
       "        vertical-align: middle;\n",
       "    }\n",
       "\n",
       "    .dataframe tbody tr th {\n",
       "        vertical-align: top;\n",
       "    }\n",
       "\n",
       "    .dataframe thead th {\n",
       "        text-align: right;\n",
       "    }\n",
       "</style>\n",
       "<table border=\"1\" class=\"dataframe\">\n",
       "  <thead>\n",
       "    <tr style=\"text-align: right;\">\n",
       "      <th></th>\n",
       "      <th>0</th>\n",
       "      <th>1</th>\n",
       "    </tr>\n",
       "  </thead>\n",
       "  <tbody>\n",
       "    <tr>\n",
       "      <th>0</th>\n",
       "      <td>https://sallysbakingaddiction.com/homemade-cro...</td>\n",
       "      <td>Croissants taste best the same day they’re bak...</td>\n",
       "    </tr>\n",
       "    <tr>\n",
       "      <th>1</th>\n",
       "      <td>https://www.kingarthurbaking.com/recipes/baker...</td>\n",
       "      <td>For the dough: Put the eggs and water in a lar...</td>\n",
       "    </tr>\n",
       "    <tr>\n",
       "      <th>2</th>\n",
       "      <td>https://www.epicurious.com/recipes/food/views/...</td>\n",
       "      <td>YieldMakes 24 pastries\\nActive Time2 hr\\nTotal...</td>\n",
       "    </tr>\n",
       "    <tr>\n",
       "      <th>3</th>\n",
       "      <td>https://www.weekendbakery.com/posts/classic-fr...</td>\n",
       "      <td>It’s all about the layers…\\nKlik hier voor Ned...</td>\n",
       "    </tr>\n",
       "    <tr>\n",
       "      <th>4</th>\n",
       "      <td>https://www.finecooking.com/recipe/classic-cro...</td>\n",
       "      <td>Combine all of the dough ingredients in the bo...</td>\n",
       "    </tr>\n",
       "    <tr>\n",
       "      <th>5</th>\n",
       "      <td>https://www.jocooks.com/recipes/homemade-crois...</td>\n",
       "      <td>Bake croissants: Preheat your oven to 400 F de...</td>\n",
       "    </tr>\n",
       "    <tr>\n",
       "      <th>6</th>\n",
       "      <td>https://topwithcinnamon.com/how-to-make-croiss...</td>\n",
       "      <td>\\n\\nCroissants are just one of those things wh...</td>\n",
       "    </tr>\n",
       "    <tr>\n",
       "      <th>7</th>\n",
       "      <td>https://gourmetier.com/french-croissants/</td>\n",
       "      <td>The preparation of the croissants consists of ...</td>\n",
       "    </tr>\n",
       "    <tr>\n",
       "      <th>8</th>\n",
       "      <td>https://www.marthastewart.com/312981/croissants</td>\n",
       "      <td>Brush with egg: Preheat oven to 400 degrees, w...</td>\n",
       "    </tr>\n",
       "    <tr>\n",
       "      <th>9</th>\n",
       "      <td>https://www.noellecarterfood.com/blog/2019/9/2...</td>\n",
       "      <td>“Chilled.” “Room temperature.” “Melted.” These...</td>\n",
       "    </tr>\n",
       "    <tr>\n",
       "      <th>10</th>\n",
       "      <td>https://bakingamoment.com/easy-homemade-croiss...</td>\n",
       "      <td>Bake for 15 to 20 minutes, or until puffed, go...</td>\n",
       "    </tr>\n",
       "    <tr>\n",
       "      <th>11</th>\n",
       "      <td>https://www.joyofbaking.com/breads/HomemadeCro...</td>\n",
       "      <td>\\n\\n\\n\\n\\n\\n\\nHomemade \\n      Croissants Reci...</td>\n",
       "    </tr>\n",
       "    <tr>\n",
       "      <th>12</th>\n",
       "      <td>https://www.foodandwine.com/recipes/croissants</td>\n",
       "      <td>In a medium bowl, combine the flour, water and...</td>\n",
       "    </tr>\n",
       "    <tr>\n",
       "      <th>13</th>\n",
       "      <td>https://bakerpedia.com/processes/croissant/</td>\n",
       "      <td>\\n\\nCroissant\\n\\n\\nWhat is a Croissant?\\nA cro...</td>\n",
       "    </tr>\n",
       "    <tr>\n",
       "      <th>14</th>\n",
       "      <td>https://www.halfbakedharvest.com/homemade-croi...</td>\n",
       "      <td>Optional fillings for the croissants:&amp;nbsp;1-2...</td>\n",
       "    </tr>\n",
       "    <tr>\n",
       "      <th>15</th>\n",
       "      <td>https://www.foodnetwork.com/recipes/food-netwo...</td>\n",
       "      <td>Brush the croissants again with the egg wash. ...</td>\n",
       "    </tr>\n",
       "    <tr>\n",
       "      <th>16</th>\n",
       "      <td>https://www.tastingtable.com/cook/recipes/croi...</td>\n",
       "      <td>1. Make the preferment: In a medium bowl, whis...</td>\n",
       "    </tr>\n",
       "    <tr>\n",
       "      <th>17</th>\n",
       "      <td>https://www.alsothecrumbsplease.com/best-homem...</td>\n",
       "      <td>Remove croissants from the oven and preheat to...</td>\n",
       "    </tr>\n",
       "    <tr>\n",
       "      <th>18</th>\n",
       "      <td>https://www.allrecipes.com/recipe/6916/croissa...</td>\n",
       "      <td>Bake in a preheated 475 degrees F (245 degrees...</td>\n",
       "    </tr>\n",
       "    <tr>\n",
       "      <th>19</th>\n",
       "      <td>http://bobbiesbakingblog.com/blog/2011/04/20/c...</td>\n",
       "      <td>\\n\\n\\nUn Panier de Croissants.. A Basket of Cr...</td>\n",
       "    </tr>\n",
       "    <tr>\n",
       "      <th>20</th>\n",
       "      <td>https://hellskitchenrecipes.com/perfect-french...</td>\n",
       "      <td>Transfer dough to parchment paper-lined rimmed...</td>\n",
       "    </tr>\n",
       "    <tr>\n",
       "      <th>21</th>\n",
       "      <td>https://www.theredheadbaker.com/mini-butter-cr...</td>\n",
       "      <td>Twenty minutes before baking, preheat your ove...</td>\n",
       "    </tr>\n",
       "    <tr>\n",
       "      <th>22</th>\n",
       "      <td>https://myloveofbaking.com/sourdough-croissants/</td>\n",
       "      <td>Make the starter the day before and let fermen...</td>\n",
       "    </tr>\n",
       "    <tr>\n",
       "      <th>23</th>\n",
       "      <td>https://www.baking-sense.com/2018/12/14/sourdo...</td>\n",
       "      <td>In the morning. Take the croissants out of the...</td>\n",
       "    </tr>\n",
       "    <tr>\n",
       "      <th>24</th>\n",
       "      <td>https://www.browneyedbaker.com/croissants/</td>\n",
       "      <td>Remove from the oven and allow to cool slightl...</td>\n",
       "    </tr>\n",
       "    <tr>\n",
       "      <th>25</th>\n",
       "      <td>https://honestandtruly.com/proof-frozen-croiss...</td>\n",
       "      <td>Enjoy this article? Please share it!ShareTweet...</td>\n",
       "    </tr>\n",
       "    <tr>\n",
       "      <th>26</th>\n",
       "      <td>https://www.pardonyourfrench.com/three-day-cla...</td>\n",
       "      <td>\\n\\nThis three-day version of my Classic Frenc...</td>\n",
       "    </tr>\n",
       "    <tr>\n",
       "      <th>27</th>\n",
       "      <td>https://www.artisanbryan.com/post/how-to-make-...</td>\n",
       "      <td>I know, you've been waiting for my croissant p...</td>\n",
       "    </tr>\n",
       "    <tr>\n",
       "      <th>28</th>\n",
       "      <td>https://www.bakedbyanintrovert.com/homemade-cr...</td>\n",
       "      <td>Bake for 35 minutes or until puffed and golden...</td>\n",
       "    </tr>\n",
       "    <tr>\n",
       "      <th>29</th>\n",
       "      <td>https://www.frenchtarte.com/news-blog//2014/10...</td>\n",
       "      <td>OK.  I think I make a pretty darn good croissa...</td>\n",
       "    </tr>\n",
       "    <tr>\n",
       "      <th>30</th>\n",
       "      <td>https://www.bakingforfriends.com/the-croissant/</td>\n",
       "      <td>\\nThey say that French is the language of love...</td>\n",
       "    </tr>\n",
       "  </tbody>\n",
       "</table>\n",
       "</div>"
      ],
      "text/plain": [
       "                                                    0  \\\n",
       "0   https://sallysbakingaddiction.com/homemade-cro...   \n",
       "1   https://www.kingarthurbaking.com/recipes/baker...   \n",
       "2   https://www.epicurious.com/recipes/food/views/...   \n",
       "3   https://www.weekendbakery.com/posts/classic-fr...   \n",
       "4   https://www.finecooking.com/recipe/classic-cro...   \n",
       "5   https://www.jocooks.com/recipes/homemade-crois...   \n",
       "6   https://topwithcinnamon.com/how-to-make-croiss...   \n",
       "7           https://gourmetier.com/french-croissants/   \n",
       "8     https://www.marthastewart.com/312981/croissants   \n",
       "9   https://www.noellecarterfood.com/blog/2019/9/2...   \n",
       "10  https://bakingamoment.com/easy-homemade-croiss...   \n",
       "11  https://www.joyofbaking.com/breads/HomemadeCro...   \n",
       "12     https://www.foodandwine.com/recipes/croissants   \n",
       "13        https://bakerpedia.com/processes/croissant/   \n",
       "14  https://www.halfbakedharvest.com/homemade-croi...   \n",
       "15  https://www.foodnetwork.com/recipes/food-netwo...   \n",
       "16  https://www.tastingtable.com/cook/recipes/croi...   \n",
       "17  https://www.alsothecrumbsplease.com/best-homem...   \n",
       "18  https://www.allrecipes.com/recipe/6916/croissa...   \n",
       "19  http://bobbiesbakingblog.com/blog/2011/04/20/c...   \n",
       "20  https://hellskitchenrecipes.com/perfect-french...   \n",
       "21  https://www.theredheadbaker.com/mini-butter-cr...   \n",
       "22   https://myloveofbaking.com/sourdough-croissants/   \n",
       "23  https://www.baking-sense.com/2018/12/14/sourdo...   \n",
       "24         https://www.browneyedbaker.com/croissants/   \n",
       "25  https://honestandtruly.com/proof-frozen-croiss...   \n",
       "26  https://www.pardonyourfrench.com/three-day-cla...   \n",
       "27  https://www.artisanbryan.com/post/how-to-make-...   \n",
       "28  https://www.bakedbyanintrovert.com/homemade-cr...   \n",
       "29  https://www.frenchtarte.com/news-blog//2014/10...   \n",
       "30    https://www.bakingforfriends.com/the-croissant/   \n",
       "\n",
       "                                                    1  \n",
       "0   Croissants taste best the same day they’re bak...  \n",
       "1   For the dough: Put the eggs and water in a lar...  \n",
       "2   YieldMakes 24 pastries\\nActive Time2 hr\\nTotal...  \n",
       "3   It’s all about the layers…\\nKlik hier voor Ned...  \n",
       "4   Combine all of the dough ingredients in the bo...  \n",
       "5   Bake croissants: Preheat your oven to 400 F de...  \n",
       "6   \\n\\nCroissants are just one of those things wh...  \n",
       "7   The preparation of the croissants consists of ...  \n",
       "8   Brush with egg: Preheat oven to 400 degrees, w...  \n",
       "9   “Chilled.” “Room temperature.” “Melted.” These...  \n",
       "10  Bake for 15 to 20 minutes, or until puffed, go...  \n",
       "11  \\n\\n\\n\\n\\n\\n\\nHomemade \\n      Croissants Reci...  \n",
       "12  In a medium bowl, combine the flour, water and...  \n",
       "13  \\n\\nCroissant\\n\\n\\nWhat is a Croissant?\\nA cro...  \n",
       "14  Optional fillings for the croissants:&nbsp;1-2...  \n",
       "15  Brush the croissants again with the egg wash. ...  \n",
       "16  1. Make the preferment: In a medium bowl, whis...  \n",
       "17  Remove croissants from the oven and preheat to...  \n",
       "18  Bake in a preheated 475 degrees F (245 degrees...  \n",
       "19  \\n\\n\\nUn Panier de Croissants.. A Basket of Cr...  \n",
       "20  Transfer dough to parchment paper-lined rimmed...  \n",
       "21  Twenty minutes before baking, preheat your ove...  \n",
       "22  Make the starter the day before and let fermen...  \n",
       "23  In the morning. Take the croissants out of the...  \n",
       "24  Remove from the oven and allow to cool slightl...  \n",
       "25  Enjoy this article? Please share it!ShareTweet...  \n",
       "26  \\n\\nThis three-day version of my Classic Frenc...  \n",
       "27  I know, you've been waiting for my croissant p...  \n",
       "28  Bake for 35 minutes or until puffed and golden...  \n",
       "29  OK.  I think I make a pretty darn good croissa...  \n",
       "30  \\nThey say that French is the language of love...  "
      ]
     },
     "execution_count": 221,
     "metadata": {},
     "output_type": "execute_result"
    }
   ],
   "source": [
    "us_df_croissant2"
   ]
  },
  {
   "cell_type": "markdown",
   "metadata": {},
   "source": [
    "## Results and visualizations\n",
    "- Of the 100 links obtained from the Google search by country, 35-40 usable temperatures were obtained for the US distribution and for the French distribution.\n",
    "- Only 10 usable temperatures were obtained for the UK distribution. This is likely due to many recipes of US origin appearing in the google.uk search and being filtered out due to the restriction that temps needed to be expressed primarily in celsius.\n",
    "- Mean temperatures are similar for all three countries.\n",
    "- The distributions are different for the countries with the US having a narrower distribution of initial baking temperature and the French distribution being wider."
   ]
  },
  {
   "cell_type": "code",
   "execution_count": 132,
   "metadata": {},
   "outputs": [],
   "source": [
    "data_us = pd.read_csv('data/us_results.csv',header=None)\n",
    "data_uk = pd.read_csv('data/uk_results.csv',header=None)\n",
    "data_fr = pd.read_csv('data/fr_results.csv',header=None)"
   ]
  },
  {
   "cell_type": "code",
   "execution_count": 139,
   "metadata": {},
   "outputs": [
    {
     "data": {
      "image/png": "[encoded data removed]",
      "text/plain": [
       "<Figure size 720x432 with 1 Axes>"
      ]
     },
     "metadata": {
      "needs_background": "light"
     },
     "output_type": "display_data"
    }
   ],
   "source": [
    "fig, ax = plt.subplots(figsize=(10,6))\n",
    "\n",
    "ax.hist(data_us.iloc[:,3], color='tab:cyan')\n",
    "ax.set_ylabel('Count')\n",
    "ax.set_xlabel('Temperature (°F)')\n",
    "ax.set_xlim(300, 500)\n",
    "fig.suptitle('Inital Baking Temperature--US Croissant Recipes', size =20)\n",
    "ax.set_title(f'Mean temp {data_us.iloc[:,3].mean():.0f}')\n",
    "plt.savefig('img/us-croissant-baketemp-distribution.png')\n"
   ]
  },
  {
   "cell_type": "code",
   "execution_count": 140,
   "metadata": {},
   "outputs": [
    {
     "data": {
      "image/png": "[encoded data removed]",
      "text/plain": [
       "<Figure size 720x432 with 1 Axes>"
      ]
     },
     "metadata": {
      "needs_background": "light"
     },
     "output_type": "display_data"
    }
   ],
   "source": [
    "fig, ax = plt.subplots(figsize=(10,6))\n",
    "\n",
    "ax.hist((data_fr.iloc[:,3]*9/5+32), color='tab:olive')\n",
    "ax.set_ylabel('Count')\n",
    "ax.set_xlabel('Temperature (°F)')\n",
    "ax.set_xlim(300, 500)\n",
    "fig.suptitle('Inital Baking Temperature--French Croissant Recipes', size =20)\n",
    "ax.set_title(f'Mean temp {(data_fr.iloc[:,3]*9/5+32).mean():.0f}')\n",
    "plt.savefig('img/fr-croissant-baketemp-distribution.png')\n",
    "# (data_uk.iloc[:,2]*9/5+32).hist()\n",
    "# (data_fr.iloc[:,2]*9/5+32).hist()\n"
   ]
  },
  {
   "cell_type": "code",
   "execution_count": 141,
   "metadata": {},
   "outputs": [
    {
     "data": {
      "image/png": "[encoded data removed]",
      "text/plain": [
       "<Figure size 720x432 with 1 Axes>"
      ]
     },
     "metadata": {
      "needs_background": "light"
     },
     "output_type": "display_data"
    }
   ],
   "source": [
    "fig, ax = plt.subplots(figsize=(10,6))\n",
    "\n",
    "ax.hist((data_uk.iloc[:,3]*9/5+32), color='tab:purple')\n",
    "ax.set_ylabel('Count')\n",
    "ax.set_xlabel('Temperature (°F)')\n",
    "ax.set_xlim(300, 500)\n",
    "fig.suptitle('Inital Baking Temperature--British Croissant Recipes', size =20)\n",
    "ax.set_title(f'Mean temp {(data_uk.iloc[:,3]*9/5+32).mean():.0f}')\n",
    "plt.savefig('img/uk-croissant-baketemp-distribution.png')\n"
   ]
  },
  {
   "cell_type": "markdown",
   "metadata": {},
   "source": [
    "## Future Research\n",
    "- Seek to obtain more usable temperatures by grabbing more links from Google and/or by refining the sifting of the websites to obtain a better yield.\n",
    "- Consider how best to compare the distributions.\n",
    "- Explore other parameters of croissant preparation and baking.\n",
    "- Explore the comments for the various websites to determine if people in the respective countries interact differently with recipe authors."
   ]
  },
  {
   "cell_type": "code",
   "execution_count": null,
   "metadata": {},
   "outputs": [],
   "source": []
  }
 ],
 "metadata": {
  "kernelspec": {
   "display_name": "Python 3",
   "language": "python",
   "name": "python3"
  },
  "language_info": {
   "codemirror_mode": {
    "name": "ipython",
    "version": 3
   },
   "file_extension": ".py",
   "mimetype": "text/x-python",
   "name": "python",
   "nbconvert_exporter": "python",
   "pygments_lexer": "ipython3",
   "version": "3.7.7"
  }
 },
 "nbformat": 4,
 "nbformat_minor": 4
}
