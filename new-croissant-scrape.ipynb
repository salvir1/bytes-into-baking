{
 "cells": [
  {
   "cell_type": "code",
   "execution_count": 1,
   "metadata": {},
   "outputs": [],
   "source": [
    "from selenium import webdriver\n",
    "from bs4 import BeautifulSoup\n",
    "import time\n",
    "from bs4.element import Tag\n",
    "import bs4\n",
    "import json\n",
    "import numpy as np\n",
    "import pandas as pd\n",
    "import matplotlib.pyplot as plt\n",
    "import requests\n",
    "import re\n",
    "from lxml import html\n",
    "import lxml"
   ]
  },
  {
   "cell_type": "markdown",
   "metadata": {},
   "source": [
    "## Searching for croissant baking temperatures\n",
    "- Searches for 'croissant bake temperature' or 'temperature cuisson croissant' were conducted on Google country-specific search sites for the US, UK, and France. The first 100 links were obtained for each country. These links were subsequently scraped to determine if they were a croissant baking recipe, and if so, for their initial baking temperature.\n",
    "- Baking temperatures were found by looking for sentences that contained the words 'preheat', 'bake', or 'oven' followed by a 3 digit number followed by a temperature indicator. \n",
    "- Croissant baking often employs a two-stage approach with a high starting temp followed by a lower finishing temp. The script pulled the first temperature mention, so this is the starting temp.\n",
    "- For the US graphic, websites were excluded if the first temperature mention was in celsius.\n",
    "- For the UK and French graphics, websites were excluded if the first temperature mention was in fahrenheit.\n"
   ]
  },
  {
   "cell_type": "markdown",
   "metadata": {},
   "source": [
    "## Tools and techniques used in this project\n",
    "- **Tools**\n",
    "> - Python, Jupyter Lab, Beautiful Soup, Pandas, Numpy\n",
    "- **Visualization**\n",
    "> - Matplotlib\n",
    "- **Techniques**\n",
    "> - Web-scraping\n"
   ]
  },
  {
   "cell_type": "code",
   "execution_count": 209,
   "metadata": {},
   "outputs": [],
   "source": [
    "import collections.abc\n",
    "  \n",
    "def find_value_of_nested_dict_or_list(a, our_key):\n",
    "    if not isinstance(a, collections.Iterable):\n",
    "        return False\n",
    "    if isinstance(a, list):\n",
    "        for item in a:\n",
    "            result = find_value_of_nested_dict_or_list(item, our_key)\n",
    "            if result:\n",
    "                return result\n",
    "    if isinstance(a, dict):\n",
    "        for key in a:\n",
    "            if key == our_key:\n",
    "                return a[our_key]\n",
    "            else:\n",
    "                result = find_value_of_nested_dict_or_list(a[key], our_key)\n",
    "                if result:\n",
    "                    return result\n",
    "    return False"
   ]
  },
  {
   "cell_type": "code",
   "execution_count": 281,
   "metadata": {
    "collapsed": true,
    "jupyter": {
     "outputs_hidden": true
    }
   },
   "outputs": [
    {
     "name": "stdout",
     "output_type": "stream",
     "text": [
      "[<div class=\"post-entry\">\n",
      "<input class=\"jpibfi\" type=\"hidden\"/><p style=\"text-align: center;\"><a href=\"http://www.topwithcinnamon.com/wp-content/uploads/2012/12/Croissants-24.jpg\"><img alt=\"Croissants-24\" class=\"aligncenter size-full wp-image-1322\" data-jpibfi-post-excerpt=\"\" data-jpibfi-post-title=\"How to make croissants (a step-by-step guide with .gifs)\" data-jpibfi-post-url=\"https://topwithcinnamon.com/how-to-make-croissants/\" data-jpibfi-src=\"http://www.topwithcinnamon.com/wp-content/uploads/2012/12/Croissants-24.jpg\" data-pin-title=\"How to make croissants (a step-by-step guide with .gifs)\" height=\"1065\" sizes=\"(max-width: 700px) 100vw, 700px\" src=\"http://www.topwithcinnamon.com/wp-content/uploads/2012/12/Croissants-24.jpg\" srcset=\"https://topwithcinnamon.com/wp-content/uploads/2012/12/Croissants-24.jpg 700w, https://topwithcinnamon.com/wp-content/uploads/2012/12/Croissants-24-600x913.jpg 600w, https://topwithcinnamon.com/wp-content/uploads/2012/12/Croissants-24-197x300.jpg 197w, https://topwithcinnamon.com/wp-content/uploads/2012/12/Croissants-24-673x1024.jpg 673w\" title=\"How to make croissants (a step-by-step guide with .gifs)\" width=\"700\"/></a></p>\n",
      "<p>Croissants are just one of those things where you will never fully appreciate one when you eat it, until you’ve put in the hours making them yourself.</p>\n",
      "<p>They aren’t incredibly difficult but they really are a labour of love!</p>\n",
      "<p style=\"text-align: left;\">Once you’ve got the method of handling the dough down, you basically just need good time-keeping and patience for successful croissant dough.</p>\n",
      "<p style=\"text-align: left;\">I always find it SO HARD to concentrate on long recipe instructions, so normally end up ‘ad libbing’ my way through them based on instinct; but when it comes to French baked goods (macarons, puff pastry, croissants) there is just no way you can make that shiz up.</p>\n",
      "<p style=\"text-align: left;\">I dunno if other people feel the same way, but I decided to make you all another .gif guide, so that if like me, you too hate to read super long recipes, at least you have some moving pictures to guide you along.</p>\n",
      "<p style=\"text-align: left;\">And it’s worth it, look, they are SO PRETTY 😀</p>\n",
      "<p style=\"text-align: center;\"><img alt=\"Croissants-35\" class=\"aligncenter size-full wp-image-1324\" data-jpibfi-post-excerpt=\"\" data-jpibfi-post-title=\"How to make croissants (a step-by-step guide with .gifs)\" data-jpibfi-post-url=\"https://topwithcinnamon.com/how-to-make-croissants/\" data-jpibfi-src=\"http://www.topwithcinnamon.com/wp-content/uploads/2012/12/Croissants-35.jpg\" data-pin-title=\"How to make croissants (a step-by-step guide with .gifs)\" height=\"975\" sizes=\"(max-width: 650px) 100vw, 650px\" src=\"http://www.topwithcinnamon.com/wp-content/uploads/2012/12/Croissants-35.jpg\" srcset=\"https://topwithcinnamon.com/wp-content/uploads/2012/12/Croissants-35.jpg 650w, https://topwithcinnamon.com/wp-content/uploads/2012/12/Croissants-35-600x900.jpg 600w, https://topwithcinnamon.com/wp-content/uploads/2012/12/Croissants-35-200x300.jpg 200w\" title=\"How to make croissants (a step-by-step guide with .gifs)\" width=\"650\"/></p>\n",
      "<p style=\"text-align: left;\">That’s why I’ve made an extra post<a href=\"http://www.topwithcinnamon.com/2012/12/croissants.html\" rel=\"noopener\" target=\"_blank\"> here</a>, where you can see more photos (yeah, I literally just put a post up containing only croissant photos because I am a cray face)</p>\n",
      "<p>Yup im going to write it again, real big incase you’re skim reading this:</p>\n",
      "<p><a href=\"http://www.topwithcinnamon.com/2012/12/croissants.html\" rel=\"noopener\" target=\"_blank\">CLICK HERE FOR MORE PHOTOS OF THE PRETTY, PRETTY CROISSANTAYS.</a></p>\n",
      "<p style=\"text-align: center;\"><a href=\"http://www.topwithcinnamon.com/wp-content/uploads/2012/12/Croissants-8.jpg\"><img alt=\"Croissants-8\" class=\"aligncenter wp-image-1326\" data-jpibfi-post-excerpt=\"\" data-jpibfi-post-title=\"How to make croissants (a step-by-step guide with .gifs)\" data-jpibfi-post-url=\"https://topwithcinnamon.com/how-to-make-croissants/\" data-jpibfi-src=\"http://www.topwithcinnamon.com/wp-content/uploads/2012/12/Croissants-8.jpg\" data-pin-title=\"How to make croissants (a step-by-step guide with .gifs)\" height=\"720\" sizes=\"(max-width: 480px) 100vw, 480px\" src=\"http://www.topwithcinnamon.com/wp-content/uploads/2012/12/Croissants-8.jpg\" srcset=\"https://topwithcinnamon.com/wp-content/uploads/2012/12/Croissants-8.jpg 600w, https://topwithcinnamon.com/wp-content/uploads/2012/12/Croissants-8-200x300.jpg 200w\" title=\"How to make croissants (a step-by-step guide with .gifs)\" width=\"480\"/></a></p>\n",
      "<p> </p>\n",
      "<p>Ugh, I hope you enjoy this.</p>\n",
      "<p>p.s. Also, by some super strange coinky dink, my friend Erica <a href=\"http://cannella-vita.blogspot.co.uk/2012/12/how-to-croissants.html\">has also done a croissant tutorial</a> (her’s seems easier than my method tbh) I think we must have a psychic food connection haha 🙂</p>\n",
      "<p><span id=\"more-1299\"></span></p>\n",
      "<p><em>Recipe + Method adapted from Nancy Silverton via Gourmet, <a href=\"http://www.gourmet.com/recipes/2000s/2000/10/croissantdough\">here</a>, <a href=\"http://www.gourmet.com/recipes/2000s/2000/10/croissants\" rel=\"noopener\" target=\"_blank\">here</a> and <a href=\"http://www.epicurious.com/recipes/food/views/Chocolate-Filled-Croissants-104000\" rel=\"noopener\" target=\"_blank\">here</a></em></p>\n",
      "<p><strong> To make the dough:</strong></p>\n",
      "<p>1 cup (250 ml) cold milk (I used 2%)</p>\n",
      "<p>1/2 cup (125 ml) boiling water</p>\n",
      "<p>1 tbsp active dry yeast</p>\n",
      "<p>1/4 cup (50 g) sugar</p>\n",
      "<p>3 3/4 cup (500 g) all purpose flour</p>\n",
      "<p>1 tsp salt</p>\n",
      "<p>1 cup + 2tbsp (9 oz/ 250 g) butter, frozen, then left at room temp. for 20-30 minutes</p>\n",
      "<p> </p>\n",
      "<p>1. Pour the milk and boiling water into a large bowl. Stir in the yeast and sugar, leave for 5 minutes until frothy.</p>\n",
      "<p>2. Add in the flour and salt, incorporate it with your hands into a shaggy ball.</p>\n",
      "<p><a href=\"https://topwithcinnamon.com/wp-content/uploads/2012/12/kneadbowl.gif\"><img alt=\"\" class=\"aligncenter size-full wp-image-1300\" data-jpibfi-post-excerpt=\"\" data-jpibfi-post-title=\"How to make croissants (a step-by-step guide with .gifs)\" data-jpibfi-post-url=\"https://topwithcinnamon.com/how-to-make-croissants/\" data-jpibfi-src=\"https://topwithcinnamon.com/wp-content/uploads/2012/12/kneadbowl.gif\" data-pin-title=\"How to make croissants (a step-by-step guide with .gifs)\" height=\"293\" src=\"https://topwithcinnamon.com/wp-content/uploads/2012/12/kneadbowl.gif\" width=\"390\"/></a></p>\n",
      "<p> </p>\n",
      "<p>3. Tip the contents out onto a clean work surface and knead until you’ve incorporated all the flour (this should only take about 2 minutes). Place the dough into an oiled bowl, and leave in the fridge to rest for 1 hour.</p>\n",
      "<p><a href=\"https://topwithcinnamon.com/wp-content/uploads/2012/12/kneadgranite.gif\"><img alt=\"\" class=\"aligncenter size-full wp-image-1308\" data-jpibfi-post-excerpt=\"\" data-jpibfi-post-title=\"How to make croissants (a step-by-step guide with .gifs)\" data-jpibfi-post-url=\"https://topwithcinnamon.com/how-to-make-croissants/\" data-jpibfi-src=\"https://topwithcinnamon.com/wp-content/uploads/2012/12/kneadgranite.gif\" data-pin-title=\"How to make croissants (a step-by-step guide with .gifs)\" height=\"287\" src=\"https://topwithcinnamon.com/wp-content/uploads/2012/12/kneadgranite.gif\" width=\"384\"/></a></p>\n",
      "<p> </p>\n",
      "<p>3. When your dough has been in the fridge for 30 minutes, take your frozen butter (which has been left at room temperature for 20-30 minutes), and grate onto a piece of cling film (aka plastic wrap)</p>\n",
      "<p><a href=\"https://topwithcinnamon.com/wp-content/uploads/2012/12/gratebutter.gif\"><img alt=\"\" class=\"aligncenter size-full wp-image-1301\" data-jpibfi-post-excerpt=\"\" data-jpibfi-post-title=\"How to make croissants (a step-by-step guide with .gifs)\" data-jpibfi-post-url=\"https://topwithcinnamon.com/how-to-make-croissants/\" data-jpibfi-src=\"https://topwithcinnamon.com/wp-content/uploads/2012/12/gratebutter.gif\" data-pin-title=\"How to make croissants (a step-by-step guide with .gifs)\" height=\"293\" src=\"https://topwithcinnamon.com/wp-content/uploads/2012/12/gratebutter.gif\" width=\"390\"/></a></p>\n",
      "<p> </p>\n",
      "<p>4. Disperse the butter, and flatten into a rectangle, roughly 8″ x 5″. Fold up in the cling film and pat together <strong>well</strong> (seriously, like make sure it’s nicely compacted).  Refrigerate for 30 minutes.</p>\n",
      "<p><a href=\"https://topwithcinnamon.com/wp-content/uploads/2012/12/buttershape.gif\"><img alt=\"\" class=\"aligncenter size-full wp-image-1302\" data-jpibfi-post-excerpt=\"\" data-jpibfi-post-title=\"How to make croissants (a step-by-step guide with .gifs)\" data-jpibfi-post-url=\"https://topwithcinnamon.com/how-to-make-croissants/\" data-jpibfi-src=\"https://topwithcinnamon.com/wp-content/uploads/2012/12/buttershape.gif\" data-pin-title=\"How to make croissants (a step-by-step guide with .gifs)\" height=\"277\" src=\"https://topwithcinnamon.com/wp-content/uploads/2012/12/buttershape.gif\" width=\"368\"/></a></p>\n",
      "<p> </p>\n",
      "<p>5. Once the butter has been chilling for 25 minutes (cos he’s a cool dude, you know), tip the chilled dough out onto a lightly floured work surface and roll into a 16″ x 10″ rectangle.</p>\n",
      "<p><a href=\"https://topwithcinnamon.com/wp-content/uploads/2012/12/rolldough.gif\"><img alt=\"\" class=\"aligncenter size-full wp-image-1303\" data-jpibfi-post-excerpt=\"\" data-jpibfi-post-title=\"How to make croissants (a step-by-step guide with .gifs)\" data-jpibfi-post-url=\"https://topwithcinnamon.com/how-to-make-croissants/\" data-jpibfi-src=\"https://topwithcinnamon.com/wp-content/uploads/2012/12/rolldough.gif\" data-pin-title=\"How to make croissants (a step-by-step guide with .gifs)\" height=\"223\" src=\"https://topwithcinnamon.com/wp-content/uploads/2012/12/rolldough.gif\" width=\"387\"/></a></p>\n",
      "<p>6. Unwrap the chilled butter block and place into the centre of the dough. Fold the dough into thirds over the butter (like a business letter). Seal all the edges by pinching the dough together.</p>\n",
      "<p><a href=\"https://topwithcinnamon.com/wp-content/uploads/2012/12/butterfold.gif\"><img alt=\"\" class=\"aligncenter size-full wp-image-1304\" data-jpibfi-post-excerpt=\"\" data-jpibfi-post-title=\"How to make croissants (a step-by-step guide with .gifs)\" data-jpibfi-post-url=\"https://topwithcinnamon.com/how-to-make-croissants/\" data-jpibfi-src=\"https://topwithcinnamon.com/wp-content/uploads/2012/12/butterfold.gif\" data-pin-title=\"How to make croissants (a step-by-step guide with .gifs)\" height=\"246\" src=\"https://topwithcinnamon.com/wp-content/uploads/2012/12/butterfold.gif\" width=\"371\"/></a></p>\n",
      "<p> </p>\n",
      "<p>7. Rotate the dough 90 degrees, use the roiling pin to make regular indentations in the dough.</p>\n",
      "<p><a href=\"https://topwithcinnamon.com/wp-content/uploads/2012/12/rolldough2.gif\"><img alt=\"\" class=\"aligncenter size-full wp-image-1305\" data-jpibfi-post-excerpt=\"\" data-jpibfi-post-title=\"How to make croissants (a step-by-step guide with .gifs)\" data-jpibfi-post-url=\"https://topwithcinnamon.com/how-to-make-croissants/\" data-jpibfi-src=\"https://topwithcinnamon.com/wp-content/uploads/2012/12/rolldough2.gif\" data-pin-title=\"How to make croissants (a step-by-step guide with .gifs)\" height=\"287\" src=\"https://topwithcinnamon.com/wp-content/uploads/2012/12/rolldough2.gif\" width=\"384\"/></a></p>\n",
      "<p>8. Roll into a 15″ x 10″ rectangle.</p>\n",
      "<p> </p>\n",
      "<p>9. Fold into thirds like a business letter. Wrap the dough in cling film, and refrigerate for 1 hour. <strong> (steps 8+9 = ‘one turn’ of the dough)</strong></p>\n",
      "<p><a href=\"https://topwithcinnamon.com/wp-content/uploads/2012/12/one-turn.gif\"><img alt=\"\" class=\"aligncenter size-full wp-image-1306\" data-jpibfi-post-excerpt=\"\" data-jpibfi-post-title=\"How to make croissants (a step-by-step guide with .gifs)\" data-jpibfi-post-url=\"https://topwithcinnamon.com/how-to-make-croissants/\" data-jpibfi-src=\"https://topwithcinnamon.com/wp-content/uploads/2012/12/one-turn.gif\" data-pin-title=\"How to make croissants (a step-by-step guide with .gifs)\" height=\"223\" src=\"https://topwithcinnamon.com/wp-content/uploads/2012/12/one-turn.gif\" width=\"387\"/></a></p>\n",
      "<p> </p>\n",
      "<p>10. Remove the dough from the fridge, unwrap and complete <strong>1</strong><strong> turn </strong>(i.e. repeat steps 8 + 9). Re-wrap in the cling film, <strong>refrigerate for 1 hour</strong>.</p>\n",
      "<p>11. <strong>Repeat step 10,</strong> <strong>two</strong> more times, so you have done a <strong>total of 4 turns</strong>.</p>\n",
      "<p>12. Cut the dough into quarters. Wrap the quarters tightly in cling film and refrigerate for 8-12 hours, or freeze for up to 3 months (if you freeze it, let the dough defrost in the fridge overnight before shaping).</p>\n",
      "<p><img alt=\"Croissants-1\" class=\"aligncenter wp-image-1323\" data-jpibfi-post-excerpt=\"\" data-jpibfi-post-title=\"How to make croissants (a step-by-step guide with .gifs)\" data-jpibfi-post-url=\"https://topwithcinnamon.com/how-to-make-croissants/\" data-jpibfi-src=\"http://www.topwithcinnamon.com/wp-content/uploads/2012/12/Croissants-1.jpg\" data-pin-title=\"How to make croissants (a step-by-step guide with .gifs)\" height=\"420\" sizes=\"(max-width: 630px) 100vw, 630px\" src=\"http://www.topwithcinnamon.com/wp-content/uploads/2012/12/Croissants-1.jpg\" srcset=\"https://topwithcinnamon.com/wp-content/uploads/2012/12/Croissants-1.jpg 1050w, https://topwithcinnamon.com/wp-content/uploads/2012/12/Croissants-1-600x400.jpg 600w, https://topwithcinnamon.com/wp-content/uploads/2012/12/Croissants-1-300x200.jpg 300w, https://topwithcinnamon.com/wp-content/uploads/2012/12/Croissants-1-1024x682.jpg 1024w\" width=\"630\"/></p>\n",
      "<h2 style=\"text-align: left;\">For a guide to shaping + baking <a href=\"http://www.topwithcinnamon.com/2013/01/chocolate-croissants.html\" rel=\"noopener\" target=\"_blank\">Chocolate Croissants, click here!!</a></h2>\n",
      "<h2 style=\"text-align: left;\">or</h2>\n",
      "<h2 style=\"text-align: left;\">For a guide to shaping + baking <a href=\"http://www.topwithcinnamon.com/2013/01/cinnamon-raisin-danish-swirls.html\" rel=\"noopener\" target=\"_blank\">Cinnamon-Raisin Danish Swirls, click here!!</a></h2>\n",
      "<h2 style=\"text-align: left;\">or</h2>\n",
      "<h2 style=\"text-align: left;\">Continue reading for a guide to shaping + baking <span style=\"color: #333333;\">plain Croissants</span></h2>\n",
      "<p style=\"text-align: left;\"><strong>Shaping the dough</strong></p>\n",
      "<p>Remove one piece of dough from the fridge, unwrap it, and roll out on a lightly floured surface into a 16″ x 6″ rectangle.</p>\n",
      "<p>Cut into thirds, forming 3 smaller rectangles. Cut each of these rectangles in half diagonally forming 6 triangles.</p>\n",
      "<p> </p>\n",
      "<p><a href=\"https://topwithcinnamon.com/wp-content/uploads/2012/12/cutgif.gif\"><img alt=\"\" class=\"aligncenter size-full wp-image-1339\" data-jpibfi-post-excerpt=\"\" data-jpibfi-post-title=\"How to make croissants (a step-by-step guide with .gifs)\" data-jpibfi-post-url=\"https://topwithcinnamon.com/how-to-make-croissants/\" data-jpibfi-src=\"https://topwithcinnamon.com/wp-content/uploads/2012/12/cutgif.gif\" data-pin-title=\"How to make croissants (a step-by-step guide with .gifs)\" height=\"278\" src=\"https://topwithcinnamon.com/wp-content/uploads/2012/12/cutgif.gif\" width=\"371\"/></a></p>\n",
      "<p>Take one triangle of dough (I recommend putting the others in the fridge while you shape each one).<br/>\n",
      "Pull on the corners of the shortest edge, to even up the base of the triangle. Then gently stretch the dough a little</p>\n",
      "<p><a href=\"https://topwithcinnamon.com/wp-content/uploads/2012/12/stretchgif.gif\"><img alt=\"\" class=\"aligncenter size-full wp-image-1340\" data-jpibfi-post-excerpt=\"\" data-jpibfi-post-title=\"How to make croissants (a step-by-step guide with .gifs)\" data-jpibfi-post-url=\"https://topwithcinnamon.com/how-to-make-croissants/\" data-jpibfi-src=\"https://topwithcinnamon.com/wp-content/uploads/2012/12/stretchgif.gif\" data-pin-title=\"How to make croissants (a step-by-step guide with .gifs)\" height=\"244\" src=\"https://topwithcinnamon.com/wp-content/uploads/2012/12/stretchgif.gif\" width=\"339\"/></a><br/>\n",
      "Cut a small slit in the base of the triangle, stretch it, then roll the dough up.</p>\n",
      "<p><a href=\"https://topwithcinnamon.com/wp-content/uploads/2012/12/cutstretchandroll.gif\"><img alt=\"\" class=\"aligncenter size-full wp-image-1341\" data-jpibfi-post-excerpt=\"\" data-jpibfi-post-title=\"How to make croissants (a step-by-step guide with .gifs)\" data-jpibfi-post-url=\"https://topwithcinnamon.com/how-to-make-croissants/\" data-jpibfi-src=\"https://topwithcinnamon.com/wp-content/uploads/2012/12/cutstretchandroll.gif\" data-pin-title=\"How to make croissants (a step-by-step guide with .gifs)\" height=\"233\" src=\"https://topwithcinnamon.com/wp-content/uploads/2012/12/cutstretchandroll.gif\" width=\"339\"/></a></p>\n",
      "<p> </p>\n",
      "<p>Place it, tip side down, onto a lined cookie sheet. Repeat with the rest of the triangles, placing them 2″ apart.</p>\n",
      "<p>(at this point you can also freeze the shaped croissants on the baking sheet, then once frozen, transfer them to a plastic bag and leave in the freezer for up to 3 months, then defrost in the fridge overnight and proceed as below).</p>\n",
      "<p><strong>Bake: </strong></p>\n",
      "<p>Cover loosely with cling film and leave to rise in a cool place for around 2-3 hours ( if you’re making these the night before, you can actually shape them and leave them to rise in the fridge overnight instead).</p>\n",
      "<p>Once ready to bake, preheat the oven to 450 degrees F (22o degrees C) . Brush the croissants with beaten egg using a pastry brush and put into the oven. Immediately lower the temperature to 400 degrees F (200 degrees C), and bake for 10 minutes. Reduce the temperature to 350 degrees F (180 degrees C) and bake for a further 10-15 minutes until well browned and puffy.</p>\n",
      "<p>Let cool on a wire rack. Enjoy your 2 to I-literally-don’t-know-how-long-these-took-to-make-any-more day labour of love.</p>\n",
      "<div class=\"post-tags\">\n",
      "<a href=\"https://topwithcinnamon.com/tag/bread/\" rel=\"tag\">bread</a><a href=\"https://topwithcinnamon.com/tag/egg-free/\" rel=\"tag\">egg free</a><a href=\"https://topwithcinnamon.com/tag/tip/\" rel=\"tag\">tip</a> </div>\n",
      "</div>]\n"
     ]
    }
   ],
   "source": [
    "# url = 'https://www.marthastewart.com/312981/croissants' # 3 1st level is list. target dict is in 2nd position of list\n",
    "# url = 'https://sallysbakingaddiction.com/homemade-croissants/' # 1. type(data) dict. \n",
    "# url = 'https://www.kingarthurbaking.com/recipes/bakers-croissants-recipe' # 1target in dict?\n",
    "# url = 'https://www.finecooking.com/recipe/classic-croissants' # target in dict\n",
    "# url = 'https://www.jocooks.com/recipes/homemade-croissants/' # target in dict\n",
    "\n",
    "url = 'https://www.epicurious.com/recipes/food/views/butter-croissants-103989' #No application/ld+json. Yes to schema.org recipe, but old format\n",
    "url = 'https://www.weekendbakery.com/posts/classic-french-croissant-recipe/' # No application/ld+json\n",
    "url = 'https://gourmetier.com/french-croissants/'   # class=\"entry-content\". dict, but target not in dict\n",
    "url = 'https://topwithcinnamon.com/how-to-make-croissants/'  # dict, but target not in dict\n",
    "# url = 'https://www.noellecarterfood.com/blog/2019/9/20/better-baking-temperature-croissants-recipe' # dict, but target not in dict\n",
    "\n",
    "try:       \n",
    "    r = requests.get(url, allow_redirects=False, headers={'User-Agent': 'Mozilla/5.0'}) # Header assignment to avoid 403 errors\n",
    "    if r.status_code == 406:\n",
    "        r = requests.get(url, allow_redirects=False, headers={'User-Agent': 'XY'}) # Header assignment to avoid 406 errors\n",
    "    if r.status_code == 200:\n",
    "        soup = BeautifulSoup(r.content, 'html')\n",
    "#         print(soup.prettify())\n",
    "        result = soup.find_all('div', attrs={'class': ['body entry-content', 'entry-content', 'post-entry', 'recept', 'recipe-content']})\n",
    "        print(result)\n",
    "\n",
    "except Exception as e:\n",
    "    print('Exception', e)"
   ]
  },
  {
   "cell_type": "code",
   "execution_count": 288,
   "metadata": {},
   "outputs": [],
   "source": [
    "class ClassifyWebpage:\n",
    "    '''Classify webpage'''\n",
    "    def __init__(self, url, search_pattern_1, search_pattern_2):\n",
    "        self.url = None\n",
    "        self.page_type = ''\n",
    "        self.language = \"Not found in page source\"\n",
    "#         self.pastry_name_predict = PastryRecipeWebpage()\n",
    "        self.recipe_name = ''\n",
    "        self.cook_time = ''\n",
    "        self.ingredients = ''\n",
    "        self.instructions = ''\n",
    "        try:\n",
    "            r = requests.get(url, allow_redirects=False, headers={'User-Agent': 'Mozilla/5.0'}) # Header assignment to avoid 403 errors\n",
    "            if r.status_code == 406:\n",
    "                r = requests.get(url, allow_redirects=False, headers={'User-Agent': 'XY'}) # Header assignment to avoid 406 errors\n",
    "            if r.status_code == 200:\n",
    "#                 print(f'Pass {url}')\n",
    "                self.url = url\n",
    "                root = lxml.html.fromstring(r.text)\n",
    "                language_construct = root.xpath(\"//html/@lang\") # this xpath is reliable(in long-term), since this is a standard construct.\n",
    "                if language_construct:\n",
    "                    language = language_construct[0].split('-')[0]\n",
    "                    self.language = language    \n",
    "        \n",
    "                soup = BeautifulSoup(r.content, 'html')\n",
    "                json_data = soup.findAll(type=\"application/ld+json\")\n",
    "                print(len(json_data))\n",
    "\n",
    "                # For sites that follow schema.org for 'Recipe'\n",
    "                for i in range(len(json_data)):\n",
    "                    data = json.loads(json_data[i].string)\n",
    "                    self.ingredients = find_value_of_nested_dict_or_list(data,'recipeIngredient')\n",
    "                    self.instructions = find_value_of_nested_dict_or_list(data,'recipeInstructions')\n",
    "                    self.recipe_name = find_value_of_nested_dict_or_list(data,'name')\n",
    "                    self.cook_time = find_value_of_nested_dict_or_list(data,'cookTime')\n",
    "                \n",
    "                # For sites that do not follow schema.org for 'Recipe'\n",
    "                if len(json_data) == 0:\n",
    "                    self.instructions = soup.find_all('div', attrs={'class': ['body entry-content', 'entry-content', 'post-entry', 'recept', 'recipe-content']}, text=True)\n",
    "\n",
    "            else:\n",
    "                print(' ')\n",
    "#                 print(f'Fail {r.status_code}, {url}')\n",
    "        except Exception as e:\n",
    "            pass\n",
    "            print('Exception', e)\n",
    "            \n"
   ]
  },
  {
   "cell_type": "code",
   "execution_count": null,
   "metadata": {},
   "outputs": [],
   "source": [
    "class PastryRecipeWebpage:\n",
    "    '''A recipe for hand-made croissants'''\n",
    "    def __init__(self, instructions=None, initial_temp=None, second_temp=None):\n",
    "        '''Initialize the recipe's attributes'''\n",
    "        self.instructions = instructions\n",
    "        self.initial_temp = initial_temp\n",
    "        if initial_temp and initial_temp > 300:\n",
    "            self.initial_temp_range = 'US'\n",
    "        else:\n",
    "            self.initial_temp_range = 'Europe'\n",
    "        self.second_temp = second_temp\n",
    "    "
   ]
  },
  {
   "cell_type": "code",
   "execution_count": 208,
   "metadata": {
    "jupyter": {
     "source_hidden": true
    }
   },
   "outputs": [],
   "source": [
    "schema_org_dict = {\n",
    "        \"@context\": \"http://schema.org\",\n",
    "        \"@type\": \"Recipe\",\n",
    "        \"mainEntityOfPage\": \"https://www.marthastewart.com/312981/croissants\",\n",
    "        \"name\": \"Croissants\",\n",
    "        \"image\": {\n",
    "          \"@type\": \"ImageObject\",\n",
    "          \"url\": \"https://imagesvc.meredithcorp.io/v3/mm/image?url=https%3A%2F%2Fassets.marthastewart.com%2Fstyles%2Fwmax-300%2Fd24%2Fcroissant-0506-mla101839%2Fcroissant-0506-mla101839_vert.jpg%3Fitok%3DKKXZXmd-\",\n",
    "          \"width\": 300,\n",
    "          \"height\": 375\n",
    "        },\n",
    "        \"datePublished\": \"2010-11-24T07:44:05.000Z\",\n",
    "        \"description\": \"Follow our step-by-step recipe to make a classic baked good worthy of a French pastry shop.\",\n",
    "        \"prepTime\": None,\n",
    "        \"cookTime\": None,\n",
    "        \"totalTime\": None,\n",
    "        \"recipeYield\": \"Makes about 20 croissants\",\n",
    "        \"recipeIngredient\": [\n",
    "          \"1/2 ounce active dry yeast\",\n",
    "          \"1/4 cup warm water (110 degrees to 115 degrees)\",\n",
    "          \"1/4 cup sugar\",\n",
    "          \"2 tablespoons unsalted butter, melted, plus more for bowl\",\n",
    "          \"2 1/3 cups (12 ounces) bread flour\",\n",
    "          \"3 cups plus 3 tablespoons (1 pound) all-purpose flour, plus more for working\",\n",
    "          \"1 tablespoon salt\",\n",
    "          \"2 cups warm whole milk (100 degrees to 115 degrees)\",\n",
    "          \"1/4 cups all-purpose flour\",\n",
    "          \"2 cups (4 sticks) unsalted butter, slightly softened\",\n",
    "          \"1 large egg, lightly beaten\"\n",
    "        ],\n",
    "        \"recipeInstructions\": [\n",
    "          {\n",
    "            \"@type\": \"HowToStep\",\n",
    "            \"text\": \"Make the dough: Stir yeast, water, and 1 teaspoon sugar in a bowl. Let stand until foamy, about 5 minutes. Butter a large bowl; set aside. Put bread flour, all-purpose flour, remaining 3 tablespoons plus 2 teaspoons sugar, and the salt into the bowl of an electric mixer fitted with the dough hook; mix on low speed until combined. Add yeast mixture, milk, and butter; mix until dough just comes together.\"\n",
    "          },\n",
    "          {\n",
    "            \"@type\": \"HowToStep\",\n",
    "            \"text\": \"Knead dough: Scrape dough out onto a lightly floured work surface. Using lightly floured hands, knead until smooth, about 3 minutes. Transfer to buttered bowl, turning to coat.\"\n",
    "          },\n",
    "          {\n",
    "            \"@type\": \"HowToStep\",\n",
    "            \"text\": \"Let dough rise: Cover dough with plastic wrap; transfer to the refrigerator. Let rise until doubled in bulk, about 2 hours (dough should not spring back when you press it with your finger).\"\n",
    "          },\n",
    "          {\n",
    "            \"@type\": \"HowToStep\",\n",
    "            \"text\": \"Make the butter package: About 45 minutes after the dough begins rising, put flour and butter into the clean bowl of an electric mixer fitted with the paddle attachment. Mix on medium speeduntil well combined, 3 to 4 minutes. Scrape butter mixture out onto a piece of parchment paper; shape into a rectangle. Top with parchment, and roll out to an 8-by-10-inch rectangle. Transfer to a baking sheet, and refrigerate 30 minutes.\"\n",
    "          },\n",
    "          {\n",
    "            \"@type\": \"HowToStep\",\n",
    "            \"text\": \"Roll out dough: Turn out dough onto a lightly floured work surface; shape into a rectangle. Roll out to a 10 1/2-by-16-inch rectangle, about 1/2 inch thick, with short side facing you.\"\n",
    "          },\n",
    "          {\n",
    "            \"@type\": \"HowToStep\",\n",
    "            \"text\": \"Place butter package on dough: The butter package should be cool but pliable; your finger should leave an indentation but the butter should still hold its shape. If too soft, continue to refrigerate; if too firm, let stand at room temperature briefly. Place horizontally on bottom half of dough; remove parchment. Fold top half of dough over butter package, and pinch edges of dough to seal.\"\n",
    "          },\n",
    "          {\n",
    "            \"@type\": \"HowToStep\",\n",
    "            \"text\": \"Roll in butter: Turn dough so that a short side is facing you and the seam is on the right. Roll out to a 10-by-20-inch rectangle, about 1/2 inch thick (keep the corners as square as possible).\"\n",
    "          },\n",
    "          {\n",
    "            \"@type\": \"HowToStep\",\n",
    "            \"text\": \"Fold dough into thirds: Remove any excess flour with a pastry brush. Starting at the far end, fold rectangle in thirds as you would a business letter (this completes the first of 3 \\\"turns\\\").\"\n",
    "          },\n",
    "          {\n",
    "            \"@type\": \"HowToStep\",\n",
    "            \"text\": \"Mark dough: Mark the dough with your knuckle (later, this will help you remember how many turns have been completed). Wrap dough in plastic, and refrigerate 1 hour.\"\n",
    "          },\n",
    "          {\n",
    "            \"@type\": \"HowToStep\",\n",
    "            \"text\": \"Repeat process: Remove from refrigerator, and press the dough; it should be pliable but have some resistance. If too soft, return to refrigerator; if too firm, let stand at room temperature, 5 minutes. Repeat the preceding three steps to complete two more turns (make 2 marks for the second turn and 3 marks for the third turn); always start with a short side facing you and the seam on the right, rolling lengthwise before crosswise. After the second turn, wrap dough in plastic, and refrigerate 1 hour. After the third and final turn, wrap dough in plastic, and refrigerate 8 hours (or overnight).\"\n",
    "          },\n",
    "          {\n",
    "            \"@type\": \"HowToStep\",\n",
    "            \"text\": \"Roll out and chill dough: Turn out dough onto a lightly floured work surface, and roll out to a 30-by-16-inch rectangle. If dough becomes unmanageable, cut in half crosswise, and roll out two 15-by-16-inch rectangles (refrigerate 1 piece as you work with the other). Chill in freezer 15 minutes. Remove dough, and remeasure: It should match original dimensions; if not, roll out again. If dough becomes too warm or elastic, chill in freezer, 15 minutes.\"\n",
    "          },\n",
    "          {\n",
    "            \"@type\": \"HowToStep\",\n",
    "            \"text\": \"Cut dough: Cut dough into two 30-by-8-inch rectangles (or four 15-by-8-inch rectangles). Stack rectangles, lining up edges (if you have four smaller rectangles, make two stacks).\"\n",
    "          },\n",
    "          {\n",
    "            \"@type\": \"HowToStep\",\n",
    "            \"text\": \"Trim dough and cut into triangles: Using a pastry or pizza wheel and cutting at a 20-degree angle, trim a small wedge from one short side to create an angled side. Cut dough into triangles, each with a 4 1/2-inch base. You should have about 20 total.\"\n",
    "          },\n",
    "          {\n",
    "            \"@type\": \"HowToStep\",\n",
    "            \"text\": \"Cut slits: Cut a 1-inch slit in the middle of the base of each triangle. Separate the stacks, transferring half the triangles to a parchment-lined baking sheet; cover, and refrigerate.\"\n",
    "          },\n",
    "          {\n",
    "            \"@type\": \"HowToStep\",\n",
    "            \"text\": \"Begin shaping croissants: Working with one triangle at a time and keeping remaining triangles covered with a clean kitchen towel, hold the two corners of the base, and stretch to lengthen it slightly. Grasp inner corners formed by the slit in the base, and lift and stretch them toward the outer sides of the triangle; press to seal.\"\n",
    "          },\n",
    "          {\n",
    "            \"@type\": \"HowToStep\",\n",
    "            \"text\": \"Roll croissants: Using your fingertips, roll the base of the triangle up and away from you, stretching the dough slightly outward as you roll to elongate the point (when finished, the point should be tucked under the croissant).\"\n",
    "          },\n",
    "          {\n",
    "            \"@type\": \"HowToStep\",\n",
    "            \"text\": \"Finish shaping croissants: Bend the two ends toward you to form a crescent shape (the ends should almost touch). Transfer to parchment-lined baking sheets, spacing croissants 2 inches apart. Repeat with remaining triangles. Cover loosely with plastic wrap, and let stand in a warm place until croissants have doubled in bulk and are very soft, 1 1/2 hours to 2 1/4 hours, depending on the temperature of room.\"\n",
    "          },\n",
    "          {\n",
    "            \"@type\": \"HowToStep\",\n",
    "            \"text\": \"Brush with egg: Preheat oven to 400 degrees, with racks in upper and lower thirds. Brush tops of croissants with egg. Bake, rotating sheets halfway through, until croissants are puffed and golden brown, 20 to 25 minutes. Let cool slightly on sheets on wire racks. Serve warm or at room temperature.\"\n",
    "          }\n",
    "        ],\n",
    "        \"recipeCategory\": [\n",
    "          \"Food &amp; Cooking\",\n",
    "          \"Breakfast &amp; Brunch Recipes\"\n",
    "        ],\n",
    "        \"recipeCuisine\": [],\n",
    "        \"author\": {\n",
    "          \"@type\": \"Organization\",\n",
    "          \"name\": \"Martha Stewart\"\n",
    "        }\n",
    "    }"
   ]
  },
  {
   "cell_type": "markdown",
   "metadata": {},
   "source": [
    "## Step one\n",
    "### Get links for the target search term"
   ]
  },
  {
   "cell_type": "code",
   "execution_count": 12,
   "metadata": {},
   "outputs": [],
   "source": [
    "#  The easiest way to change the search is to type a search in google then copy and paste the address.\n",
    "#  Convert to an f string, find start=0 in the string and change it to start={bundle}.\n",
    "\n",
    "# us_google_url=f\"https://www.google.com/search?q=croissant+baking+temp&client=ubuntu&hs=bju&channel=fs&tbas=0&sxsrf=ALeKk01tinXVzgWJgZhSeeUfjrJd4FW4oA:1597161338731&ei=er8yX--YLLi50PEPiYu28A4&start={bundle}&sa=N&ved=2ahUKEwjvvfnRwZPrAhW4HDQIHYmFDe4Q8NMDegQIDhBA&biw=1920&bih=969\"\n",
    "# fr_google_url=f\"https://www.google.fr/search?q=temp%C3%A9rature+cuisson+croissant&ei=0PEzX4C2PMXk-gTv_ImwCA&start={bundle}&sa=N&ved=2ahUKEwiA3szk5ZXrAhVFsp4KHW9-AoYQ8NMDegQIDRBC&biw=1848&bih=942\"\n",
    "# uk_google_url=f\"https://www.google.co.uk/search?q=croissant+temperature&ei=OPQzX8T0KMj4-gSnn5moBw&start={bundle}&sa=N&ved=2ahUKEwjE8JaK6JXrAhVIvJ4KHadPBnUQ8NMDegQIDhA_&biw=1848&bih=942\"\n",
    "\n",
    "target_links = 140\n",
    "page_bundles = list(range(0,target_links,10))\n",
    "links=[]\n",
    "for bundle in page_bundles:\n",
    "    links_list = get_links_from_google_search(f\"https://www.google.com/search?q=croissant+baking+temp&client=ubuntu&hs=bju&channel=fs&tbas=0&sxsrf=ALeKk01tinXVzgWJgZhSeeUfjrJd4FW4oA:1597161338731&ei=er8yX--YLLi50PEPiYu28A4&start={bundle}&sa=N&ved=2ahUKEwjvvfnRwZPrAhW4HDQIHYmFDe4Q8NMDegQIDhBA&biw=1920&bih=969\")\n",
    "    for link in links_list:\n",
    "        links.append(link)"
   ]
  },
  {
   "cell_type": "markdown",
   "metadata": {},
   "source": [
    "### Write results to file from Google search function"
   ]
  },
  {
   "cell_type": "code",
   "execution_count": 10,
   "metadata": {},
   "outputs": [],
   "source": [
    "# Uncomment country to write results\n",
    "\n",
    "# uk_croissant_links = pd.DataFrame(links)\n",
    "# uk_croissant_links.to_csv('data/uk-croissant-links.txt')\n",
    "\n",
    "# us_croissant_links = pd.DataFrame(links)\n",
    "# us_croissant_links.to_csv('data/us-croissant-links.txt')\n",
    "\n",
    "# fr_croissant_links = pd.DataFrame(links)\n",
    "# fr_croissant_links.to_csv('data/fr-croissant-links.txt')"
   ]
  },
  {
   "cell_type": "markdown",
   "metadata": {},
   "source": [
    "## Step two\n",
    "### Read in links file and initiate web search"
   ]
  },
  {
   "cell_type": "code",
   "execution_count": 262,
   "metadata": {},
   "outputs": [],
   "source": [
    "# url_list = pd.read_csv('data/uk-croissant-links.txt',header=None)\n",
    "url_list = pd.read_csv('data/us-croissant-links.txt',header=None)\n",
    "# url_list = pd.read_csv('data/fr-croissant-links.txt',header=None)"
   ]
  },
  {
   "cell_type": "code",
   "execution_count": 289,
   "metadata": {},
   "outputs": [
    {
     "name": "stdout",
     "output_type": "stream",
     "text": [
      "1\n",
      "1\n",
      "0\n",
      "0\n",
      "2\n",
      "1\n",
      "2\n",
      "1\n",
      "1\n",
      "4\n",
      "1\n",
      "0\n",
      "1\n",
      "1\n",
      "1\n",
      "1\n",
      "1\n",
      "3\n",
      " \n",
      "Exception ('Connection aborted.', RemoteDisconnected('Remote end closed connection without response'))\n",
      "https://sallysbakingaddiction.com/homemade-croissants/\n",
      "[{'@type': 'HowToStep', 'text': 'Watch the video above and use the step-by-step photos before you begin. Read the recipe before beginning. Make room in the refrigerator for a baking sheet. In step 6 and again in step 13, you will need room for 2 baking sheets.', 'name': 'Preliminary notes', 'url': 'https://sallysbakingaddiction.com/homemade-croissants/#instruction-step-1'}, {'@type': 'HowToStep', 'text': 'Cut the butter in four 1-Tablespoon pieces and place in the bowl of an electric stand mixer fitted with the dough hook attachment (or you can use a handheld mixer or no mixer, but a stand mixer is ideal). Add the flour, sugar, salt, and yeast. Turn the mixer on low-medium speed to gently combine the ingredients for 1 minute. With the mixer running, slowly pour in the milk. Once all of the milk is added, turn the mixer up to medium-high speed and beat the dough for at least 5 full minutes. (If you don’t have a mixer, knead by hand for 5 minutes.) The dough will be soft. It will (mostly) pull away from the sides of the bowl and if you poke it with your finger, it will bounce back. If after 5 minutes the dough is too sticky, keep the mixer running until it pulls away from the sides of the bowl.', 'name': 'Make the dough', 'url': 'https://sallysbakingaddiction.com/homemade-croissants/#instruction-step-2'}, {'@type': 'HowToStep', 'text': 'Remove dough from the bowl and, with floured hands, work it into a ball. Place the dough on a lightly floured silicone baking mat lined, lightly floured parchment paper lined, or lightly floured baking sheet. (I highly recommend a silicone baking mat because you can roll the dough out in the next step directly on top and it won’t slide all over the counter.) Gently flatten the dough out, as I do in the video above, and cover with plastic wrap or aluminum foil. Place the entire baking sheet in the refrigerator and allow the covered dough to rest in the refrigerator for 30 minutes.', 'url': 'https://sallysbakingaddiction.com/homemade-croissants/#instruction-step-3'}, {'@type': 'HowToStep', 'text': 'Remove the dough from the refrigerator. I like to keep the dough on the silicone baking mat when I’m rolling it in this step because the mat is nonstick and it’s a handy guide for the exact measurement. Begin flattening out the dough with your hands. You’re rolling it out into a rectangle in this step, so shaping it with your hands first helps the stretchy dough. Roll it into a 14&#215;10-inch rectangle. The dough isn&#8217;t extremely cold after only 30 minutes in the refrigerator, so it will feel more like soft play-doh. Be precise with the measurement. The dough will want to be oval shaped, but keep working the edges with your hands and rolling pin until you have the correct size rectangle.', 'name': 'Shape the dough', 'url': 'https://sallysbakingaddiction.com/homemade-croissants/#instruction-step-4'}, {'@type': 'HowToStep', 'text': 'Place the rolled out dough back onto the baking sheet (this is why I prefer a silicone baking mat or parchment because you can easily transfer the dough). Cover the rolled out dough with plastic wrap or aluminum foil, place the entire baking sheet in the refrigerator and allow the covered dough to rest in the refrigerator for 4 hours or overnight.\\xa0(Up to 24 hours is ok.)', 'name': 'Long rest', 'url': 'https://sallysbakingaddiction.com/homemade-croissants/#instruction-step-5'}, {'@type': 'HowToStep', 'text': 'In a large bowl using a hand-held mixer or stand mixer fitted with a paddle or whisk attachment, beat the butter and flour together until smooth and combined. Transfer the mixture to a silicone baking mat lined or parchment paper lined baking sheet. (Silicone baking mat is preferred because you can easily peel the butter off in the next step.) Using a spoon or small spatula, smooth out into a 7&#215;10-inch rectangle. Be as precise as you can with this measurement. Place the entire baking sheet in the refrigerator and chill the butter layer for 30 minutes. (No need to cover it for only 30 minutes.) You want the butter layer firm, but still pliable. If it gets too firm, let it sit out on the counter for a few minutes to gently soften. The more firm the butter layer is the more difficult it will be to laminate the dough in the next step.', 'name': 'Butter layer (begin this 35 minutes before the next step so the butter can chill for 30 minutes)', 'url': 'https://sallysbakingaddiction.com/homemade-croissants/#instruction-step-6'}, {'@type': 'HowToStep', 'text': '\\xa0In this next step, you will be rolling out the dough into a large rectangle. Do this on a lightly floured counter instead of rolling out on your silicone baking mat. The counter is typically a little cooler (great for keeping the dough cold) and the silicone baking mat is smaller than the measurement you need. Remove both the dough and butter layers from the refrigerator. Place the butter layer in the center of the dough and fold each end of the dough over it. If the butter wasn’t an exact 7&#215;10-inch rectangle, use a pizza cutter or sharp knife to even out the edges. Seal the dough edges over the butter layer as best you can with your fingers. On a lightly floured counter, roll the dough into a 10&#215;20-inch rectangle. It’s best to roll back and forth with the shorter end of the dough facing you, like I do in the video above. Use your fingers if you need to. The dough is very cold, so it will take a lot of arm muscle to roll. Again, the dough will want to be oval shaped, but keep working it with your hands and rolling pin until you have the correct size rectangle. Fold the dough lengthwise into thirds as if you were folding a letter. This was the 1st turn.', 'name': 'Laminate the dough', 'url': 'https://sallysbakingaddiction.com/homemade-croissants/#instruction-step-7'}, {'@type': 'HowToStep', 'text': 'If the dough is now too warm to work with, place folded dough on the baking sheet, cover with plastic wrap or aluminum foil, and refrigerate for 30 minutes before the 2nd turn.\\xa0I usually don’t have to.', 'url': 'https://sallysbakingaddiction.com/homemade-croissants/#instruction-step-8'}, {'@type': 'HowToStep', 'text': '\\xa0Turn the dough so the short end is facing you. Roll the dough out once again into a 10&#215;20-inch rectangle, then fold the dough lengthwise into thirds as if you were folding a letter. The dough must be refrigerated between the 2nd\\xa0and 3rd turn because it has been worked with a lot by this point. Place the folded dough on the baking sheet, cover with plastic wrap or aluminum foil, and refrigerate for 30 minutes before the 3rd turn.', 'name': '2nd turn', 'url': 'https://sallysbakingaddiction.com/homemade-croissants/#instruction-step-9'}, {'@type': 'HowToStep', 'text': 'Roll the dough out once again into a 10&#215;20-inch rectangle. Fold the dough lengthwise into thirds as if you were folding a letter.', 'name': '3rd turn', 'url': 'https://sallysbakingaddiction.com/homemade-croissants/#instruction-step-10'}, {'@type': 'HowToStep', 'text': 'Place the folded dough on the lined baking sheet, cover with plastic wrap or aluminum foil, and refrigerate for 4 hours or overnight.\\xa0(Up to 24 hours is ok.)', 'name': '\\xa0Long rest', 'url': 'https://sallysbakingaddiction.com/homemade-croissants/#instruction-step-11'}, {'@type': 'HowToStep', 'text': 'At the end of the next step, you’ll need 2 baking sheets lined with silicone baking mats or parchment paper. The dough is currently on a lined baking sheet in the refrigerator, so you already have 1 prepared!', 'url': 'https://sallysbakingaddiction.com/homemade-croissants/#instruction-step-12'}, {'@type': 'HowToStep', 'text': 'Remove the dough from the refrigerator. On a lightly floured counter, roll the dough out into an 8&#215;20-inch rectangle. Use your fingers if you need to. Once again, the dough is very cold, so it will take a lot of arm muscle to roll. The dough will want to be oval shaped, but keep working it with your hands and rolling pin until you have the correct size rectangle. Using a pizza cutter or sharp knife, slice the dough in half vertically. Each skinny rectangle will be 4-inches wide. Then cut 3 even slices horizontally, yielding 8 4&#215;5-inch rectangles. See photo and video above for a visual. Cut each rectangle diagonally to make 2 triangles. You have 16 triangles now. Work with one triangle at a time. Using your fingers or a rolling pin, stretch the triangle to be about 8 inches long. Do this gently as you do not want to flatten the layers. Cut a small slit at the wide end of the triangle, then tightly roll up into a crescent shape making sure the tip is underneath. Slightly bend the ends in towards each other. Repeat with remaining dough, placing the shaped croissants on 2 lined baking sheets, 8 per sheet. Loosely cover with plastic wrap or aluminum foil and allow to rest at room temperature (no warmer! I suggest just keeping on the counter) for 1 hour, then place in the refrigerator to rest for 1 hour or up to 12 hours. (Or freeze, see freezing instructions.) I prefer the shaped croissants to be cold going into the oven. When you poke the dough with your finger, it will slowly bounce back. That means they are ready to be baked.', 'name': 'Shape the croissants', 'url': 'https://sallysbakingaddiction.com/homemade-croissants/#instruction-step-13'}, {'@type': 'HowToStep', 'text': 'Preheat oven to 400°F (204°C).', 'url': 'https://sallysbakingaddiction.com/homemade-croissants/#instruction-step-14'}, {'@type': 'HowToStep', 'text': 'Whisk the egg wash ingredients together.\\xa0Remove the croissants from the refrigerator. Brush each lightly with egg wash.', 'name': 'Egg wash', 'url': 'https://sallysbakingaddiction.com/homemade-croissants/#instruction-step-15'}, {'@type': 'HowToStep', 'text': '\\xa0Bake until croissants are golden brown, about 20 minutes. Rotate the pans halfway through baking. If croissants show signs of darkening too quickly, reduce the oven to 375°F (190°C).', 'name': 'Bake the croissants', 'url': 'https://sallysbakingaddiction.com/homemade-croissants/#instruction-step-16'}, {'@type': 'HowToStep', 'text': 'Remove croissants from the oven and place on a wire rack to cool for a few minutes before serving. They will slightly deflate as they cool.', 'url': 'https://sallysbakingaddiction.com/homemade-croissants/#instruction-step-17'}, {'@type': 'HowToStep', 'text': 'Croissants taste best the same day they’re baked. Cover any leftover croissants and store at room temperature for a few days or in the refrigerator for up to 1 week. You can also freeze for up to 3 months, then thaw on the counter or overnight in the refrigerator. Warm up to your liking.', 'url': 'https://sallysbakingaddiction.com/homemade-croissants/#instruction-step-18'}]\n",
      "https://www.kingarthurbaking.com/recipes/bakers-croissants-recipe\n",
      "For the dough: Put the eggs and water in a large mixing bowl. Add 1 tablespoon of the sugar, 3 cups (362g) of the flour, and the yeast. Mix until well blended; set aside to let the sponge work., For the butter: Cut the butter into 1˝ chunks and combine with the salt and flour at low speed in a stand mixer just until smooth, with no lumps. Be careful not to beat too much; you don’t want to incorporate any air., Spread the butter on a piece of plastic wrap and shape into an 8˝ square. Wrap and refrigerate for 30 minutes., Finish the dough: Add the melted butter to the sponge. Whisk together the remaining sugar, 2 1/2 cups (298g) of the flour, the dry milk, and salt and add to the sponge. Mix until the dough forms. Knead for 5 minutes; touch the dough lightly with your finger. If it’s still sticky, add the remaining flour 2 tablespoons at a time until the dough is the desired consistency. Once the dough is smooth and elastic, pat it into a 9˝ square, then wrap and refrigerate for 30 minutes., To laminate the dough: Remove the chilled dough from the refrigerator and gently roll it to a 12\" square., Unwrap the butter square and place it in the center of the dough at a 45° angle, so it looks like a diamond in a square. Pull the corners of the dough into the center of the butter diamond. Moisten the edges with a little water and pinch the seams together well to enclose the butter. Dust the top with flour and turn the packet over., Tap the dough all over with a rolling pin, encouraging it into a rectangular shape. Once it’s pliable, roll it to a 20˝ x 10˝ rectangle, picking it up and dusting lightly with flour as needed., When you’ve reached the proper size, use a dry brush to sweep off any excess flour and fold the dough in thirds, like a business letter. Take care to keep the edges straight and line them up directly over each other. If the dough slides around, use a little water at the corners to tack them in place. This is your first turn., Rotate the dough out so it looks like a book about to be opened. Roll the dough out once more to 20˝ x 10˝ and fold it as before. This is the second turn. Wrap the dough and refrigerate it for 30 minutes to allow the gluten in the dough to relax., Give the dough two more turns after its rest, then wrap the dough well and refrigerate for at least 1 hour or overnight before using. You can also freeze the dough at this point., To shape the croissants: Cut the packet of dough in half. Wrap and refrigerate or freeze one half., Roll the other half to a 13˝ x 18˝ rectangle. Trim the edges about 1/4˝ all the way around with a ruler and pizza cutter. This removes the folded edges that would inhibit the dough’s rise., Cut the dough in thirds lengthwise and in half down the center. This will give you six 4˝ x 9˝ pieces. Cut these pieces in half diagonally and arrange them so the points are facing away from you. Stretch them gently to make them a little longer, then cut a 1˝ notch in the center of the base of each triangle., Take the two inside corners of the notch and roll them up toward you, building a curved shape as you roll the base of the dough toward the tip. Make sure the tip ends up under the bottom of the croissant. Place the shaped pastry on a parchment-lined baking sheet, curving the ends toward each other. Refrigerate for 30 minutes., Take the croissants out of the refrigerator, and let them warm and rise for 60 to 90 minutes at room temperature. They should expand noticeably, and when you gently press one with your finger, the indentation should remain., Towards the end of the rise time, preheat the oven to 425°F. Brush each croissant with an egg beaten with 1 tablespoon water. Bake for 15 minutes, then reduce the oven’s temperature to 350°F and bake for 10 to 15 minutes more, until deep golden brown and no raw dough is visible where the layers overlap. Remove from the oven and let cool on the pan on a rack for 20 minutes before serving.\n",
      "https://www.epicurious.com/recipes/food/views/butter-croissants-103989\n",
      "[]\n",
      "https://www.weekendbakery.com/posts/classic-french-croissant-recipe/\n",
      "[]\n",
      "https://www.finecooking.com/recipe/classic-croissants\n",
      "['Combine all of the dough ingredients in the bowl of a stand mixer fitted with the dough hook. Mix on low speed for 3 minutes, scraping the sides of the mixing bowl once if necessary. Mix on medium speed for 3 minutes. Transfer the dough to a lightly floured 10-inch pie pan or a dinner plate. Lightly flour the top of the dough and wrap well with plastic so it doesn’t dry out. Refrigerate overnight.', 'The next day, cut the cold butter lengthwise into 1/2-inch-thick slabs. Arrange the pieces on a piece of parchment or waxed paper to form a 5- to 6-inch square, cutting the butter crosswise as necessary to fit. Top with another piece of parchment or waxed paper. With a rolling pin, pound the butter with light, even strokes. As the pieces begin to adhere, use more force. Pound the butter until it’s about 7-1/2 inches square and then trim the edges of the butter. Put the trimmings on top of the square and pound them in lightly with the rolling pin. Refrigerate while you roll out the dough.', 'Unwrap and lay the dough on a lightly floured work surface. Roll into a 10-1/2-inch square. Brush excess flour off the dough. Remove the butter from the refrigerator—it should be pliable but cold. If not, refrigerate a bit longer. Unwrap and place the butter on the dough so that the points of the butter square are centered along the sides of the dough. Fold one flap of dough over the butter toward you, stretching it slightly so that the point just reaches the center of the butter. Repeat with the other flaps . Then press the edges together to completely seal the butter inside the dough. (A complete seal ensures butter won’t escape.)', 'Lightly flour the top and bottom of the dough. With the rolling pin, firmly press the dough to elongate it slightly and then begin rolling instead of pressing, focusing on lengthening rather than widening the dough and keeping the edges straight.', 'Roll the dough until it’s 8 by 24 inches. If the ends lose their square shape, gently reshape the corners with your hands. Brush any flour off the dough. Pick up one short end of the dough and fold it back over the dough, leaving one-third of the other end of dough exposed. Brush the flour off and then fold the exposed dough over the folded side. Put the dough on a baking sheet, cover with plastic wrap, and freeze for 20 minutes to relax and chill the dough.', 'Repeat the rolling and folding, this time rolling in the direction of the two open ends until the dough is about 8 by 24 inches. Fold the dough in thirds again, as shown in the photo\\xa0above, brushing off excess flour and turning under any rounded edges or short ends with exposed or smeared layers. Cover and freeze for another 20 minutes.Give the dough a third rolling and folding. Put the dough on the baking sheet and cover with plastic wrap, tucking the plastic under all four sides. Refrigerate overnight.', 'The next day, unwrap and lightly flour the top and bottom of the dough. With the rolling pin, “wake the dough up” by pressing firmly along its length—you don’t want to widen the dough but simply begin to lengthen it with these first strokes. Roll the dough into a long and narrow strip, 8 inches by about 44 inches. If the dough sticks as you roll, sprinkle with flour. Once the dough is about half to two-thirds of its final length, it may start to resist rolling and even shrink back. If this happens, fold the dough in thirds, cover, and refrigerate for about 10 minutes; then unfold the dough and finish rolling. Lift the dough an inch or so off the table at its midpoint and allow it to shrink from both sides—this helps prevent the dough from shrinking when it’s cut. Check that there’s enough excess dough on either end to allow you to trim the ends so they’re straight and the strip of dough is 40 inches long. Trim the dough.', 'Lay a yardstick or tape measure lengthwise along the top of the dough. With a knife, mark the top of the dough at 5-inch intervals along the length (there will be 7 marks in all). Position the yardstick along the bottom of the dough. Make a mark 2-1/2 inches in from the end of the dough. Make marks at 5-inch intervals from this point all along the bottom of the dough. You’ll have 8 marks that fall halfway between the marks at the top.', 'Make diagonal cuts by positioning the yardstick at the top corner and the first bottom mark. With a knife or pizza wheel, cut the dough along this line. Move the yardstick to the next set of marks and cut. Repeat until you have cut the dough diagonally at the same angle along its entire length—you’ll have made 8 cuts. Now change the angle of the yardstick to connect the other top corner and bottom mark and cut the dough along this line to make triangles. Repeat along the entire length of dough. You’ll end up with 15 triangles and a small scrap of dough at each end.', 'Using a paring knife or a bench knife, make a 1/2- to 3/4-inch-long notch in the center of the short side of each triangle. The notch helps the rolled croissant curl into a crescent. Hold a dough triangle so that the short notched side is on top and gently elongate to about 10 inches without squeezing or compressing the dough—this step results in more layers and loft.', 'Lay the croissant on the work surface with the notched side closest to you. With one hand on each side of the notch, begin to roll the dough away from you, towards the pointed end.', 'Flare your hands outward as you roll so that the “legs” become longer. Press down on the dough with enough force to make the layers stick together, but avoid excess compression, which could smear the layers. Roll the dough all the way down its length until the pointed end of the triangle is directly underneath the croissant. Now bend the two legs towards you to form a tight crescent shape and gently press the tips of the legs together (they’ll come apart while proofing but keep their crescent shape).', 'Shape the remaining croissants in the same manner, arranging them on two large parchment-lined rimmed baking sheets (8 on one pan and 7 on the other). Keep as much space as possible between them, as they will rise during the final proofing and again when baked.', 'Make the egg wash by whisking the egg with 1 tsp. water in a small bowl until very smooth. Lightly brush it on each croissant.', 'Refrigerate the remaining egg wash (you’ll need it again). Put the croissants in a draft-free spot at 75° to 80°F. Wherever you proof them, be sure the temperature is not so warm that the butter melts out of the dough. They will take 1-1/2 to 2 hours to fully proof. You’ll know they’re ready if you can see the layers of dough when the croissants are viewed from the side, and if you shake the sheets, the croissants will wiggle. Finally, the croissants will be distinctly larger (though not doubled) than they were when first shaped.', 'Shortly before the croissants are fully proofed, position racks in the top and lower thirds of the oven and heat it to 400°F convection, or 425°F conventional. Brush the croissants with egg wash a second time. Put the sheets in the oven. After 10 minutes, rotate the sheets and swap their positions. Continue baking until the bottoms are an even brown, the tops richly browned, and the edges show signs of coloring, another 8 to 10 minutes. If they appear to be darkening too quickly during baking, lower the oven temperature by 10°F. Let cool on baking sheets on racks.']\n",
      "https://www.jocooks.com/recipes/homemade-croissants/\n",
      "[{'@type': 'HowToStep', 'text': 'Bloom the yeast: In the bowl of a mixer, add the warm milk, brown sugar, yeast and stir it with a fork slightly. Let it stand for about 5 minutes. If the yeast is good, the mixture will get all foamy as the yeast dissolves. It could take a bit longer but if your yeast does not dissolve, see recipe notes.', 'name': 'Bloom the yeast: In the bowl of a mixer, add the warm milk, brown sugar, yeast and stir it with a fork slightly. Let it stand for about 5 minutes. If the yeast is good, the mixture will get all foamy as the yeast dissolves. It could take a bit longer but if your yeast does not dissolve, see recipe notes.', 'url': 'https://www.jocooks.com/recipes/homemade-croissants/#wprm-recipe-13988-step-0-0'}, {'@type': 'HowToStep', 'text': 'Make the dough: Add the flour and salt to the bowl. Using the dough hook, mix on low speed for about 5 minutes until the dough is smooth and very soft. I used about 3 1/4 cups of flour, but if you need more because the dough is too sticky than just add more, about 1 tbsp at a time. You might want to start with 3 cups and add as needed. Remove the dough from the mixing bowl and knead for a couple more minutes on your working surface. The dough needs to be soft and slightly sticky. Place the dough back in the bowl, wrap it with plastic wrap and refrigerate it for an hour.', 'name': 'Make the dough: Add the flour and salt to the bowl. Using the dough hook, mix on low speed for about 5 minutes until the dough is smooth and very soft. I used about 3 1/4 cups of flour, but if you need more because the dough is too sticky than just add more, about 1 tbsp at a time. You might want to start with 3 cups and add as needed. Remove the dough from the mixing bowl and knead for a couple more minutes on your working surface. The dough needs to be soft and slightly sticky. Place the dough back in the bowl, wrap it with plastic wrap and refrigerate it for an hour.', 'url': 'https://www.jocooks.com/recipes/homemade-croissants/#wprm-recipe-13988-step-0-1'}, {'@type': 'HowToStep', 'text': 'Prepare the butter: While the dough is chilling, prepare the butter. Arrange the sticks of butter horizontally on a piece of plastic wrap. Cover the butter with another piece of plastic wrap. Pound and roll out on both sides until the butter forms a nice 8 by 5 inch rectangle. Cover with plastic wrap and refrigerate until ready to use.&nbsp;', 'name': 'Prepare the butter: While the dough is chilling, prepare the butter. Arrange the sticks of butter horizontally on a piece of plastic wrap. Cover the butter with another piece of plastic wrap. Pound and roll out on both sides until the butter forms a nice 8 by 5 inch rectangle. Cover with plastic wrap and refrigerate until ready to use.&nbsp;', 'url': 'https://www.jocooks.com/recipes/homemade-croissants/#wprm-recipe-13988-step-0-2'}, {'@type': 'HowToStep', 'text': \"Laminate the dough: Flour your work surface lightly then roll out the dough into a big rectangle that's about 16 by 10 inches. Place the butter directly in the center of the dough and fold the dough as you would a letter, bottom third of dough over butter, then top third down over the dough. If you have any excess flour, make sure you brush that off.\", 'name': \"Laminate the dough: Flour your work surface lightly then roll out the dough into a big rectangle that's about 16 by 10 inches. Place the butter directly in the center of the dough and fold the dough as you would a letter, bottom third of dough over butter, then top third down over the dough. If you have any excess flour, make sure you brush that off.\", 'url': 'https://www.jocooks.com/recipes/homemade-croissants/#wprm-recipe-13988-step-0-3'}, {'@type': 'HowToStep', 'text': 'Turn the dough so that the short side is nearest you and start rolling it another 16 by 10 inch rectangle. Fold in thirds like a letter again. This was the first fold. Wrap it up in plastic wrap and chill it for another hour.', 'name': 'Turn the dough so that the short side is nearest you and start rolling it another 16 by 10 inch rectangle. Fold in thirds like a letter again. This was the first fold. Wrap it up in plastic wrap and chill it for another hour.', 'url': 'https://www.jocooks.com/recipes/homemade-croissants/#wprm-recipe-13988-step-0-4'}, {'@type': 'HowToStep', 'text': 'Repeat as above. With the short side near you, start rolling until you get another 16 by 10 inch rectangle. Fold it in thirds again, wrap and chill for another hour. Repeat this 3 more times so that it will make a total of 5 folds. After the last fold, refrigerate it over night or at least for 8 hours.', 'name': 'Repeat as above. With the short side near you, start rolling until you get another 16 by 10 inch rectangle. Fold it in thirds again, wrap and chill for another hour. Repeat this 3 more times so that it will make a total of 5 folds. After the last fold, refrigerate it over night or at least for 8 hours.', 'url': 'https://www.jocooks.com/recipes/homemade-croissants/#wprm-recipe-13988-step-0-5'}, {'@type': 'HowToStep', 'text': \"Shape croissants: Cut the dough in half, freeze half if you're only going to use half of it. Roll out each piece of dough into a long rectangle, so that it's about 1/4 of an inch in thickness. I found it easier if I cut the piece into 3 pieces, so that I work with 3 squares. Using a pizza cutter, cut each square into 4 triangles.\", 'name': \"Shape croissants: Cut the dough in half, freeze half if you're only going to use half of it. Roll out each piece of dough into a long rectangle, so that it's about 1/4 of an inch in thickness. I found it easier if I cut the piece into 3 pieces, so that I work with 3 squares. Using a pizza cutter, cut each square into 4 triangles.\", 'url': 'https://www.jocooks.com/recipes/homemade-croissants/#wprm-recipe-13988-step-0-6'}, {'@type': 'HowToStep', 'text': \"Using one triangle at a time, start rolling from the wide side, at the same time, stretching the end of the triangle. Continue rolling the croissant, and as you'll notice because you stretched into a long piece, you'll be able to roll the croissant a few times.\", 'name': \"Using one triangle at a time, start rolling from the wide side, at the same time, stretching the end of the triangle. Continue rolling the croissant, and as you'll notice because you stretched into a long piece, you'll be able to roll the croissant a few times.\", 'url': 'https://www.jocooks.com/recipes/homemade-croissants/#wprm-recipe-13988-step-0-7'}, {'@type': 'HowToStep', 'text': 'Repeat this with remaining dough and place the croissants on an ungreased baking sheet, with about 1 to 2 inches in between them.', 'name': 'Repeat this with remaining dough and place the croissants on an ungreased baking sheet, with about 1 to 2 inches in between them.', 'url': 'https://www.jocooks.com/recipes/homemade-croissants/#wprm-recipe-13988-step-0-8'}, {'@type': 'HowToStep', 'text': \"Let the croissants sit for another hour, you'll notice they'll rise a bit, then brush them with egg wash. You can make the croissants ahead of time and refrigerate them for up to 18 hours before baking. If you're making them ahead, make sure to cover the baking sheet with plastic wrap.\", 'name': \"Let the croissants sit for another hour, you'll notice they'll rise a bit, then brush them with egg wash. You can make the croissants ahead of time and refrigerate them for up to 18 hours before baking. If you're making them ahead, make sure to cover the baking sheet with plastic wrap.\", 'url': 'https://www.jocooks.com/recipes/homemade-croissants/#wprm-recipe-13988-step-0-9'}, {'@type': 'HowToStep', 'text': 'Bake croissants: Preheat your oven to 400 F degrees. Place the baking sheet in the oven and bake the croissants for 8 to 12 minutes at 400 F degrees then turn down the heat to 375 F degrees and bake them for another 8 to 12 minutes. You want to make sure they are nice and golden brown.', 'name': 'Bake croissants: Preheat your oven to 400 F degrees. Place the baking sheet in the oven and bake the croissants for 8 to 12 minutes at 400 F degrees then turn down the heat to 375 F degrees and bake them for another 8 to 12 minutes. You want to make sure they are nice and golden brown.', 'url': 'https://www.jocooks.com/recipes/homemade-croissants/#wprm-recipe-13988-step-0-10'}]\n",
      "https://topwithcinnamon.com/how-to-make-croissants/\n",
      "False\n",
      "https://gourmetier.com/french-croissants/\n",
      "False\n",
      "https://www.marthastewart.com/312981/croissants\n",
      "[{'@type': 'HowToStep', 'text': 'Make the dough: Stir yeast, water, and 1 teaspoon sugar in a bowl. Let stand until foamy, about 5 minutes. Butter a large bowl; set aside. Put bread flour, all-purpose flour, remaining 3 tablespoons plus 2 teaspoons sugar, and the salt into the bowl of an electric mixer fitted with the dough hook; mix on low speed until combined. Add yeast mixture, milk, and butter; mix until dough just comes together.'}, {'@type': 'HowToStep', 'text': 'Knead dough: Scrape dough out onto a lightly floured work surface. Using lightly floured hands, knead until smooth, about 3 minutes. Transfer to buttered bowl, turning to coat.'}, {'@type': 'HowToStep', 'text': 'Let dough rise: Cover dough with plastic wrap; transfer to the refrigerator. Let rise until doubled in bulk, about 2 hours (dough should not spring back when you press it with your finger).'}, {'@type': 'HowToStep', 'text': 'Make the butter package: About 45 minutes after the dough begins rising, put flour and butter into the clean bowl of an electric mixer fitted with the paddle attachment. Mix on medium speeduntil well combined, 3 to 4 minutes. Scrape butter mixture out onto a piece of parchment paper; shape into a rectangle. Top with parchment, and roll out to an 8-by-10-inch rectangle. Transfer to a baking sheet, and refrigerate 30 minutes.'}, {'@type': 'HowToStep', 'text': 'Roll out dough: Turn out dough onto a lightly floured work surface; shape into a rectangle. Roll out to a 10 1/2-by-16-inch rectangle, about 1/2 inch thick, with short side facing you.'}, {'@type': 'HowToStep', 'text': 'Place butter package on dough: The butter package should be cool but pliable; your finger should leave an indentation but the butter should still hold its shape. If too soft, continue to refrigerate; if too firm, let stand at room temperature briefly. Place horizontally on bottom half of dough; remove parchment. Fold top half of dough over butter package, and pinch edges of dough to seal.'}, {'@type': 'HowToStep', 'text': 'Roll in butter: Turn dough so that a short side is facing you and the seam is on the right. Roll out to a 10-by-20-inch rectangle, about 1/2 inch thick (keep the corners as square as possible).'}, {'@type': 'HowToStep', 'text': 'Fold dough into thirds: Remove any excess flour with a pastry brush. Starting at the far end, fold rectangle in thirds as you would a business letter (this completes the first of 3 \"turns\").'}, {'@type': 'HowToStep', 'text': 'Mark dough: Mark the dough with your knuckle (later, this will help you remember how many turns have been completed). Wrap dough in plastic, and refrigerate 1 hour.'}, {'@type': 'HowToStep', 'text': 'Repeat process: Remove from refrigerator, and press the dough; it should be pliable but have some resistance. If too soft, return to refrigerator; if too firm, let stand at room temperature, 5 minutes. Repeat the preceding three steps to complete two more turns (make 2 marks for the second turn and 3 marks for the third turn); always start with a short side facing you and the seam on the right, rolling lengthwise before crosswise. After the second turn, wrap dough in plastic, and refrigerate 1 hour. After the third and final turn, wrap dough in plastic, and refrigerate 8 hours (or overnight).'}, {'@type': 'HowToStep', 'text': 'Roll out and chill dough: Turn out dough onto a lightly floured work surface, and roll out to a 30-by-16-inch rectangle. If dough becomes unmanageable, cut in half crosswise, and roll out two 15-by-16-inch rectangles (refrigerate 1 piece as you work with the other). Chill in freezer 15 minutes. Remove dough, and remeasure: It should match original dimensions; if not, roll out again. If dough becomes too warm or elastic, chill in freezer, 15 minutes.'}, {'@type': 'HowToStep', 'text': 'Cut dough: Cut dough into two 30-by-8-inch rectangles (or four 15-by-8-inch rectangles). Stack rectangles, lining up edges (if you have four smaller rectangles, make two stacks).'}, {'@type': 'HowToStep', 'text': 'Trim dough and cut into triangles: Using a pastry or pizza wheel and cutting at a 20-degree angle, trim a small wedge from one short side to create an angled side. Cut dough into triangles, each with a 4 1/2-inch base. You should have about 20 total.'}, {'@type': 'HowToStep', 'text': 'Cut slits: Cut a 1-inch slit in the middle of the base of each triangle. Separate the stacks, transferring half the triangles to a parchment-lined baking sheet; cover, and refrigerate.'}, {'@type': 'HowToStep', 'text': 'Begin shaping croissants: Working with one triangle at a time and keeping remaining triangles covered with a clean kitchen towel, hold the two corners of the base, and stretch to lengthen it slightly. Grasp inner corners formed by the slit in the base, and lift and stretch them toward the outer sides of the triangle; press to seal.'}, {'@type': 'HowToStep', 'text': 'Roll croissants: Using your fingertips, roll the base of the triangle up and away from you, stretching the dough slightly outward as you roll to elongate the point (when finished, the point should be tucked under the croissant).'}, {'@type': 'HowToStep', 'text': 'Finish shaping croissants: Bend the two ends toward you to form a crescent shape (the ends should almost touch). Transfer to parchment-lined baking sheets, spacing croissants 2 inches apart. Repeat with remaining triangles. Cover loosely with plastic wrap, and let stand in a warm place until croissants have doubled in bulk and are very soft, 1 1/2 hours to 2 1/4 hours, depending on the temperature of room.'}, {'@type': 'HowToStep', 'text': 'Brush with egg: Preheat oven to 400 degrees, with racks in upper and lower thirds. Brush tops of croissants with egg. Bake, rotating sheets halfway through, until croissants are puffed and golden brown, 20 to 25 minutes. Let cool slightly on sheets on wire racks. Serve warm or at room temperature.'}]\n",
      "https://www.noellecarterfood.com/blog/2019/9/20/better-baking-temperature-croissants-recipe\n",
      "False\n",
      "https://bakingamoment.com/easy-homemade-croissant-recipe/\n",
      "[{'@type': 'HowToStep', 'text': 'Place the flour, sugar, yeast, and salt in a large bowl and whisk together until combined.&nbsp;', 'name': 'Place the flour, sugar, yeast, and salt in a large bowl and whisk together until combined.&nbsp;', 'url': 'https://bakingamoment.com/easy-homemade-croissant-recipe/#wprm-recipe-83543-step-0-0'}, {'@type': 'HowToStep', 'text': 'Slice the butter into 1/8-inch thick slices and toss in the flour mixture to coat.', 'name': 'Slice the butter into 1/8-inch thick slices and toss in the flour mixture to coat.', 'url': 'https://bakingamoment.com/easy-homemade-croissant-recipe/#wprm-recipe-83543-step-0-1'}, {'@type': 'HowToStep', 'text': 'Add the milk and stir together until a stiff dough forms.&nbsp;', 'name': 'Add the milk and stir together until a stiff dough forms.&nbsp;', 'url': 'https://bakingamoment.com/easy-homemade-croissant-recipe/#wprm-recipe-83543-step-0-2'}, {'@type': 'HowToStep', 'text': 'Wrap the dough tightly in plastic wrap and chill for 1 hour.&nbsp;', 'name': 'Wrap the dough tightly in plastic wrap and chill for 1 hour.&nbsp;', 'url': 'https://bakingamoment.com/easy-homemade-croissant-recipe/#wprm-recipe-83543-step-0-3'}, {'@type': 'HowToStep', 'text': 'On a lightly floured surface, roll the dough into a long rectangle shape.&nbsp;&nbsp;', 'name': 'On a lightly floured surface, roll the dough into a long rectangle shape.&nbsp;&nbsp;', 'url': 'https://bakingamoment.com/easy-homemade-croissant-recipe/#wprm-recipe-83543-step-0-4'}, {'@type': 'HowToStep', 'text': 'Fold it into thirds (like a letter), turn 90 degrees, and repeat 4 to 6 more times, or until the dough has large streaks of butter in it but it is smooth and flat.  (If at any point the butter starts to feel soft, chill it in the refrigerator or freezer until stiff.)&nbsp;', 'name': 'Fold it into thirds (like a letter), turn 90 degrees, and repeat 4 to 6 more times, or until the dough has large streaks of butter in it but it is smooth and flat.  (If at any point the butter starts to feel soft, chill it in the refrigerator or freezer until stiff.)&nbsp;', 'url': 'https://bakingamoment.com/easy-homemade-croissant-recipe/#wprm-recipe-83543-step-0-5'}, {'@type': 'HowToStep', 'text': 'Wrap tightly and chill for 1 more hour, then divide the dough in half and roll each portion out to a thickness of about 1/8-inch, in a long rectangle shape (approx. 10-inches wide by 22-inches long).&nbsp;', 'name': 'Wrap tightly and chill for 1 more hour, then divide the dough in half and roll each portion out to a thickness of about 1/8-inch, in a long rectangle shape (approx. 10-inches wide by 22-inches long).&nbsp;', 'url': 'https://bakingamoment.com/easy-homemade-croissant-recipe/#wprm-recipe-83543-step-0-6'}, {'@type': 'HowToStep', 'text': 'Cut the dough into long, skinny triangles (about 5-inches at the wide end).&nbsp;', 'name': 'Cut the dough into long, skinny triangles (about 5-inches at the wide end).&nbsp;', 'url': 'https://bakingamoment.com/easy-homemade-croissant-recipe/#wprm-recipe-83543-step-0-7'}, {'@type': 'HowToStep', 'text': 'Notch the wide end of each triangle with about a 1/2-inch cut, then roll from the wide end to the pointed end, tucking the point under the croissant.&nbsp;', 'name': 'Notch the wide end of each triangle with about a 1/2-inch cut, then roll from the wide end to the pointed end, tucking the point under the croissant.&nbsp;', 'url': 'https://bakingamoment.com/easy-homemade-croissant-recipe/#wprm-recipe-83543-step-0-8'}, {'@type': 'HowToStep', 'text': 'Place on a parchment-lined baking sheet, cover loosely with plastic wrap, and allow to proof until doubled in size (1 to 2 hours).\\xa0', 'name': 'Place on a parchment-lined baking sheet, cover loosely with plastic wrap, and allow to proof until doubled in size (1 to 2 hours).\\xa0', 'url': 'https://bakingamoment.com/easy-homemade-croissant-recipe/#wprm-recipe-83543-step-0-9'}, {'@type': 'HowToStep', 'text': 'Preheat the oven to 375 degrees F, and gently brush the croissants with egg wash.', 'name': 'Preheat the oven to 375 degrees F, and gently brush the croissants with egg wash.', 'url': 'https://bakingamoment.com/easy-homemade-croissant-recipe/#wprm-recipe-83543-step-0-10'}, {'@type': 'HowToStep', 'text': 'Bake for 15 to 20 minutes, or until puffed, golden brown, and flaky.&nbsp;&nbsp;', 'name': 'Bake for 15 to 20 minutes, or until puffed, golden brown, and flaky.&nbsp;&nbsp;', 'url': 'https://bakingamoment.com/easy-homemade-croissant-recipe/#wprm-recipe-83543-step-0-11'}]\n",
      "https://www.joyofbaking.com/breads/HomemadeCroissants.html\n",
      "[]\n",
      "https://www.foodandwine.com/recipes/croissants\n",
      "In a medium bowl, combine the flour, water and yeast and mix well with a wooden spoon. Cover with plastic wrap and refrigerate overnight. Let the sponge stand at room temperature for 30 minutes. Lightly grease a large bowl with olive oil. In a small saucepan, heat the milk until lukewarm. In the bowl of a stand mixer fitted with the dough hook, combine both of the flours with the sugar, salt and yeast. Scrape in the sponge. At low speed, drizzle in the lukewarm milk and mix just until the dough comes together. Let stand for 10 minutes. Knead the dough at low speed until it forms a ball, about 3 minutes. Transfer to the prepared bowl, cover with plastic wrap and let stand at room temperature for 30 minutes. Punch down and refrigerate for 3 hours. Meanwhile, on a sheet of parchment paper, arrange the sticks of butter side by side so they touch. Cover with another sheet of parchment. Using a rolling pin, pound the butter flat and roll out to a 10-by-12-inch rectangle. Refrigerate until ready to use. Remove the butter from the refrigerator and let stand at room temperature for about 10 minutes, until soft and pliable—the butter should yield gently when you press it with your finger and hold the indent, like a ripe avocado. On a lightly floured surface, using a lightly floured rolling pin, roll out the dough to a 12-by-28-inch rectangle. If the dough springs back, cover it with a kitchen towel and let rest for 5 minutes before rolling. Arrange the butter in the center of the dough so the short sides are parallel. Fold over the 2 short sides of the dough so they meet in the center; pinch together to seal. Pinch the long sides of the dough together to completely seal in the butter. Turn the dough so that a long side is facing you and roll out to a 12-by-28-inch rectangle. Starting from the bottom, fold the dough into thirds like a letter. Brush off any excess flour and wrap the dough in plastic. Chill until firm but pliable, about 1 hour. Arrange the dough on a lightly floured surface with a short side facing you. Using a lightly floured rolling pin, roll out the dough to a 12-by-28-inch rectangle. Fold into thirds like a letter, wrap in plastic and freeze overnight. Before baking, let thaw in the refrigerator until semi-firm and pliable, about 3 hours. Line 3 rimmed baking sheets with parchment paper. On a lightly floured surface, using a lightly floured rolling pin, roll out the layered dough to a 13-by-36-inch rectangle. Using a pizza cutter or sharp knife, cut the dough crosswise to form nine 13-by-4-inch strips. Halve each strip lengthwise on the diagonal to make 18 long triangles. Starting at the shortest side, roll each triangle into a crescent shape. Arrange the croissants on the prepared sheets, tip side down and spaced 3 inches apart. Cover loosely with plastic wrap and let rise at room temperature until doubled in size, 1 to 2 hours. Preheat the oven to 400°. In a small bowl, beat the eggs with 1 tablespoon of water. Brush the croissants with the egg wash and bake until deep golden brown and crisp, 20 to 23 minutes. Transfer the croissants to a rack to cool.\n",
      "https://bakerpedia.com/processes/croissant/\n",
      "False\n",
      "https://www.halfbakedharvest.com/homemade-croissants-step-step-photos/\n",
      "[{'@type': 'HowToStep', 'text': 'In a small bowl or bowl of a stand mixer, dissolve the yeast and a pinch of the sugar in the warm water. Let stand until foamy, about 5 to 10 minutes.', 'name': 'In a small bowl or bowl of a stand mixer, dissolve the yeast and a pinch of the sugar in the warm water. Let stand until foamy, about 5 to 10 minutes.', 'url': 'https://www.halfbakedharvest.com/homemade-croissants-step-step-photos/#wprm-recipe-26595-step-0-0'}, {'@type': 'HowToStep', 'text': 'To mix the dough by hand, In a large bowl, combine the remaining sugar, the salt, melted butter, milk, the yeast mixture and 1/2 cup of the flour, and mix with a wooden spoon until blended. Gradually add the remaining flour 1/2 cup at a time and mix just until the dough comes together in a sticky ball.', 'name': 'To mix the dough by hand, In a large bowl, combine the remaining sugar, the salt, melted butter, milk, the yeast mixture and 1/2 cup of the flour, and mix with a wooden spoon until blended. Gradually add the remaining flour 1/2 cup at a time and mix just until the dough comes together in a sticky ball.', 'url': 'https://www.halfbakedharvest.com/homemade-croissants-step-step-photos/#wprm-recipe-26595-step-0-1'}, {'@type': 'HowToStep', 'text': 'To mix the dough by stand mixer, In the large bowl of a stand mixer fitted with the paddle attachment, combine the remaining sugar, the salt, melted butter, milk and the yeast mixture and mix on medium speed until combined. Gradually add the flour 1/2 cup at a time and mix just until the dough comes together in a stick ball.', 'name': 'To mix the dough by stand mixer, In the large bowl of a stand mixer fitted with the paddle attachment, combine the remaining sugar, the salt, melted butter, milk and the yeast mixture and mix on medium speed until combined. Gradually add the flour 1/2 cup at a time and mix just until the dough comes together in a stick ball.', 'url': 'https://www.halfbakedharvest.com/homemade-croissants-step-step-photos/#wprm-recipe-26595-step-0-2'}, {'@type': 'HowToStep', 'text': 'On a lightly floured surface, roll out the dough into a rectangle about 1/2 inch thick. Transfer to a large baking sheet and cover with plastic wrap. Place in the fridge until chilled, about 40 minutes.', 'name': 'On a lightly floured surface, roll out the dough into a rectangle about 1/2 inch thick. Transfer to a large baking sheet and cover with plastic wrap. Place in the fridge until chilled, about 40 minutes.', 'url': 'https://www.halfbakedharvest.com/homemade-croissants-step-step-photos/#wprm-recipe-26595-step-0-3'}, {'@type': 'HowToStep', 'text': \"While the dough is chilling make the butter package. I found it was easiest to place all four sticks of butter together in a gallon size ziplock bag. Then using a rolling pin, beat the butter on a work surface to flatten it. Continue to gently beat the butter with the rolling pin to shape the butter into a 6-by-8-inch rectangle. This part was really kind of hard, but just keep working it. Once the butter is in the shape of a rectangle place it back in the fridge to stiffen up again. Don't worry if your butter is not in a perfect rectangle. It's still going to work.\", 'name': \"While the dough is chilling make the butter package. I found it was easiest to place all four sticks of butter together in a gallon size ziplock bag. Then using a rolling pin, beat the butter on a work surface to flatten it. Continue to gently beat the butter with the rolling pin to shape the butter into a 6-by-8-inch rectangle. This part was really kind of hard, but just keep working it. Once the butter is in the shape of a rectangle place it back in the fridge to stiffen up again. Don't worry if your butter is not in a perfect rectangle. It's still going to work.\", 'url': 'https://www.halfbakedharvest.com/homemade-croissants-step-step-photos/#wprm-recipe-26595-step-0-4'}, {'@type': 'HowToStep', 'text': 'Now it is time to laminate the dough, which just means fold the dough with the butter to create layers. On a lightly floured work surface, roll out the dough into a 16-by-10-inch rectangle. With a short side facing you, place the butter in the middle of the dough. Fold the ends up like a letter. Fold over the upper half to cover the butter and press the edges together to seal. Then fold over the remaining lower half and press the edges together to seal. Turn dough again so the short side is facing you, and use the rolling pin to press down equally on the dough to help flatten it. Roll dough into a 15 x 10 inch rectangle. Then fold the dough like a letter again, with a short side facing you, fold the bottom third up, then fold the top third down. Use your hands to pull the dough into a rectangle shape. You should now have a roughly 11 x 6 inch rectangle. This completes the first turn. Wrap in plastic wrap and place in the fridge to chill for 45 minutes.', 'name': 'Now it is time to laminate the dough, which just means fold the dough with the butter to create layers. On a lightly floured work surface, roll out the dough into a 16-by-10-inch rectangle. With a short side facing you, place the butter in the middle of the dough. Fold the ends up like a letter. Fold over the upper half to cover the butter and press the edges together to seal. Then fold over the remaining lower half and press the edges together to seal. Turn dough again so the short side is facing you, and use the rolling pin to press down equally on the dough to help flatten it. Roll dough into a 15 x 10 inch rectangle. Then fold the dough like a letter again, with a short side facing you, fold the bottom third up, then fold the top third down. Use your hands to pull the dough into a rectangle shape. You should now have a roughly 11 x 6 inch rectangle. This completes the first turn. Wrap in plastic wrap and place in the fridge to chill for 45 minutes.', 'url': 'https://www.halfbakedharvest.com/homemade-croissants-step-step-photos/#wprm-recipe-26595-step-0-5'}, {'@type': 'HowToStep', 'text': 'Return the chilled dough to the lightly floured work surface with a folded side to your left and repeat the process to make 3 more turns, rolling, folding and chilling the dough each time, for a total of 4 turns. After the final turn, refrigerate the dough for at least 4 hours or overnight (I chilled mine overnight).', 'name': 'Return the chilled dough to the lightly floured work surface with a folded side to your left and repeat the process to make 3 more turns, rolling, folding and chilling the dough each time, for a total of 4 turns. After the final turn, refrigerate the dough for at least 4 hours or overnight (I chilled mine overnight).', 'url': 'https://www.halfbakedharvest.com/homemade-croissants-step-step-photos/#wprm-recipe-26595-step-0-6'}, {'@type': 'HowToStep', 'text': 'To form the croissants, cut the dough in half and place one half in the fridge while working with the other half. Roll out one half of the pastry on a lightly floured work surface into a 9-by-18-inch rectangle. Using a pizza cutter or sharp knife cut the dough in half lengthwise, and then cut the dough into triangles. Cut a small vertical slit right into the middle of the straight end, and using both hands, roll croissant up pushing the sides out to either side. Place on a baking sheet about 2-3 inches apart, cover with a towel and set in a warm place to rise for 1-2 hours. The croissants will not double in size like other yeast doughs do. After one hour position a rack in the middle of the oven and preheat to 425 degrees F.', 'name': 'To form the croissants, cut the dough in half and place one half in the fridge while working with the other half. Roll out one half of the pastry on a lightly floured work surface into a 9-by-18-inch rectangle. Using a pizza cutter or sharp knife cut the dough in half lengthwise, and then cut the dough into triangles. Cut a small vertical slit right into the middle of the straight end, and using both hands, roll croissant up pushing the sides out to either side. Place on a baking sheet about 2-3 inches apart, cover with a towel and set in a warm place to rise for 1-2 hours. The croissants will not double in size like other yeast doughs do. After one hour position a rack in the middle of the oven and preheat to 425 degrees F.', 'url': 'https://www.halfbakedharvest.com/homemade-croissants-step-step-photos/#wprm-recipe-26595-step-0-7'}, {'@type': 'HowToStep', 'text': 'Lightly brush the tops of the pastries with the egg mixture. Bake the pastries, 1 sheet at a time, until golden brown, 15-18 minutes. Transfer to a wire rack and let cool on the pan. Serve warm or at room temperature. Store in an airtight container at room temperature for up to 1 day. Makes 25-32 croissants.', 'name': 'Lightly brush the tops of the pastries with the egg mixture. Bake the pastries, 1 sheet at a time, until golden brown, 15-18 minutes. Transfer to a wire rack and let cool on the pan. Serve warm or at room temperature. Store in an airtight container at room temperature for up to 1 day. Makes 25-32 croissants.', 'url': 'https://www.halfbakedharvest.com/homemade-croissants-step-step-photos/#wprm-recipe-26595-step-0-8'}, {'@type': 'HowToStep', 'text': 'To freeze the croissants before baking, complete the steps through step 8. Once all the croissants have been rolled place them on a baking sheet lined with wax or parchment paper. Cover the baking sheets and freeze for about 2 hours. Remove the pans and place the croissants in a freezer safe bag and seal. Immediately place back in the freezer and freeze for up to 6 months. To bake, allow the croissants to thaw overnight in the fridge and then bake as directed.', 'name': 'To freeze the croissants before baking, complete the steps through step 8. Once all the croissants have been rolled place them on a baking sheet lined with wax or parchment paper. Cover the baking sheets and freeze for about 2 hours. Remove the pans and place the croissants in a freezer safe bag and seal. Immediately place back in the freezer and freeze for up to 6 months. To bake, allow the croissants to thaw overnight in the fridge and then bake as directed.', 'url': 'https://www.halfbakedharvest.com/homemade-croissants-step-step-photos/#wprm-recipe-26595-step-0-9'}, {'@type': 'HowToStep', 'text': 'Optional fillings for the croissants:&nbsp;1-2 teaspoons of pure pumpkin&nbsp;1 -2 teaspoons peanut butter + 1 square of chocolate&nbsp;1 teaspoon cinnamon sugar&nbsp;1-2 teaspoons NutellaRoll each triangle up as directed. Brush each top with egg wash and for the pumpkin and cinnamon sugar croissants, sprinkle with more cinnamon sugar. Bake as directed.', 'name': 'Optional fillings for the croissants:&nbsp;1-2 teaspoons of pure pumpkin&nbsp;1 -2 teaspoons peanut butter + 1 square of chocolate&nbsp;1 teaspoon cinnamon sugar&nbsp;1-2 teaspoons NutellaRoll each triangle up as directed. Brush each top with egg wash and for the pumpkin and cinnamon sugar croissants, sprinkle with more cinnamon sugar. Bake as directed.', 'url': 'https://www.halfbakedharvest.com/homemade-croissants-step-step-photos/#wprm-recipe-26595-step-0-10'}]\n",
      "https://www.foodnetwork.com/recipes/food-network-kitchen/homemade-croissants-5277802\n",
      "[{'@type': 'HowToStep', 'text': 'Combine the flour, milk, sugar, yeast, salt, 3 tablespoons room-temperature butter and 1/2 cup cold water in the bowl of a stand mixer fitted with the dough hook. Mix on low speed until the dough starts to come together, about 2 minutes. Increase the speed to medium and continue to mix until completely combined and gathered into a ball that is no longer sticky to the touch, about 5 minutes. Transfer the dough to a lightly floured baking sheet, dust the top with flour and wrap in plastic wrap. Refrigerate overnight.'}, {'@type': 'HowToStep', 'text': 'The following day, put the remaining cold butter pieces (2 1/2 sticks) in the middle of a piece of parchment and dust with a generous pinch of flour. Top with another piece of parchment. With a rolling pin, pound the butter to form a 7-inch square, using a bench scraper or ruler to help even out the sides. Refrigerate while you roll out the dough.'}, {'@type': 'HowToStep', 'text': 'To roll and fold the dough: Unwrap the dough and lay it on a lightly floured work surface. Roll into a 12-inch square, dusting with flour as needed. Peel the parchment off the butter square and position the butter in the middle of the dough. Fold the top flap of dough over the butter towards you, stretching it slightly so that it reaches just past the center of the butter. Repeat with the opposite flap so they overlap by a couple inches. Turn the dough so that one of the open ends is closest to you.'}, {'@type': 'HowToStep', 'text': 'Using the rolling pin, gently pound the dough so the butter is spread out evenly in the middle of the dough. Then, roll the dough to an 8-by-24-inch rectangle. Pick up one short end of the dough and fold it back over the dough, leaving one-third of the other end of dough exposed. Then fold the exposed dough over the folded side (like folding a letter). Put the dough back on the baking sheet, cover with plastic wrap and chill so the dough relaxes and the butter firms slightly, 20 to 30 minutes.\\xa0'}, {'@type': 'HowToStep', 'text': 'Lay the dough on a lightly floured work surface folded-side down. Roll in the direction of the 2 open ends, until the dough is about an 8-by-24-inch rectangle. Fold the dough in thirds again like a letter, put back on the baking sheet, cover and chill for another 20 minutes.\\xa0'}, {'@type': 'HowToStep', 'text': 'Give the dough a third rolling, then fold one side to the middle of the dough and fold the other side to meet it in the middle. Fold the dough in half so it resembles a book. Put the dough on the baking sheet and cover with plastic wrap, tucking the plastic under all sides. Refrigerate for 2 hours and up to overnight.'}, {'@type': 'HowToStep', 'text': 'To divide the dough: Unwrap the dough and lightly flour the top and bottom. Roll the dough into a 10-by-35-inch rectangle. Lay the dough in front of you so the long sides are horizontal. Position a ruler lengthwise along the bottom side of the dough (the side closest to you) and mark with a paring knife every 5 inches along the length of the dough. Move the ruler to the top side of the dough (the side farthest from you) and make a mark on the dough at 2 1/2 inches. Move the ruler to the 2 1/2-inch mark, then make marks every 5 inches along the length of the dough from that point.\\xa0'}, {'@type': 'HowToStep', 'text': 'Using a pizza cutter or long sharp knife, make a diagonal cut from the bottom left corner to the first mark on the top edge (at 2 1/2 inches), then cut diagonally down from that mark to the first 5-inch mark on the bottom edge of the dough, to make a triangle. Continue cutting diagonally from bottom mark to top mark and back again to create 15 triangles total (2 will be from the ends and a little smaller but still useable).'}, {'@type': 'HowToStep', 'text': 'Line 2 baking sheets with parchment. Lay one triangle on the work surface with the short side closest to you. Gently pull to extend the tip at the top. With one hand on each side of the short end of the triangle, start to roll the dough away from you towards the pointed end. Press down on the dough with enough force to make the layers stick together. Arrange the croissant on one of the lined baking sheets with the tip of the dough on the bottom. Repeat with the remaining dough triangles.'}, {'@type': 'HowToStep', 'text': 'Whisk the egg with a splash of water in a small bowl until combined. Lightly brush some of the egg wash on each croissant. (Refrigerate the remaining egg wash for later.) Put the croissants in a warm spot to proof, until puffy looking and about 1 1/2 times larger, about 2 hours.'}, {'@type': 'HowToStep', 'text': 'Position oven racks in the upper and lower thirds of the oven and preheat to 425 degrees F.\\xa0'}, {'@type': 'HowToStep', 'text': 'Brush the croissants again with the egg wash. Bake for 10 minutes, then rotate the sheets from front to back and top to bottom. Continue baking until dark golden, another 8 to 10 minutes. Let cool on the baking sheets on wire racks.'}]\n",
      "https://www.tastingtable.com/cook/recipes/croissants-recipe-french-pastry\n",
      "1. Make the preferment: In a medium bowl, whisk together 1 cup of the flour with the water and a pinch of the yeast until smooth. Cover in plastic wrap and let sit somewhere warm for 5 hours. 2. In the bowl of a stand mixer fitted with the dough hook attachment, combine the preferment and the remaining 2½ cups of flour, the remaining yeast, the milk, sugar, salt and softened butter. Mix until a dough comes together, then transfer to a lightly floured work surface and knead until smooth, 2 minutes. On a parchment-lined sheet pan, shape the dough into a rectangle and wrap in plastic wrap. Refrigerate overnight. 3. The next day, laminate the dough: On a lightly floured work surface, roll the dough into a 14-by-20-inch horizontal rectangle. 4. On a floured sheet of parchment paper, beat the 2½ sticks of unsalted butter with a rolling pin to flatten. Using flour as needed, roll the butter into a 9-by-13-inch rectangle. Peel off the parchment paper and place the butter insert on the right half of the dough. 5. Fold the dough over the butter and seal the edges. Fold the top third and bottom third of the dough in like a letter and place the folded dough, seal down, on a parchment-lined sheet pan. Chill for 30 minutes. 6. Roll the chilled dough into a 14-by-16-inch horizontal rectangle, then complete a trifold, folding the left and right ends in like a letter. Chill the dough for 30 minutes. Repeat this process 2 more times for a total of 4 trifolds, and then chill again for 30 minutes. 7. Roll the laminated dough into a 9-by-40-inch horizontal rectangle (this will take about 10 minutes). Using a sharp knife, cut 5-inch notches into the top edge of the rectangle. Begin to cut triangles, cutting to the centerpoint of each notch. You should end up with 14 triangles. 8. Working from the wide end of the triangle, roll the dough into a croissant shape, tucking the end of the dough underneath. Place the rolled croissants on 2 parchment-lined sheet pans, 2 inches apart. Lightly brush each one with some of the beaten egg, then place them somewhere warm to proof for 2 hours, until the croissants have risen and you can see the layers of butter. 9. Preheat the oven to 350º. After proofing, brush the croissants again with the remaining egg, then bake, rotating every 10 minutes, until golden brown and risen, 30 minutes. Let cool completely, then serve.\n",
      "https://www.bbcgoodfood.com/recipes/croissants\n",
      "False\n",
      "NO DATA\n",
      "NO DATA\n",
      "TOTAL PAGES READ: 18\n"
     ]
    }
   ],
   "source": [
    "# search_string_1 = r'([A-Z][^.]*(?:four|cuisson|cuir|chauff)[^.]*\\d{3}(?:º|°|F| ºF| °F| F|C| ºC| °C| C)[^.]*(?:[.]|[\\s]))' #French regex\n",
    "# search_string_1 = r'([A-Z][^.]*(?:reheat|ake|oven)[^.]*\\d{3}(?:ºC| ºC|°C| °C|C| C)[^.]*(?:[.]|[\\s]))' #UK regex\n",
    "search_string_1 = r'([A-Z][^.]*(?:reheat|ake|oven)[^.]*\\d{3}(?:º|°|F| ºF| °F| F|C| ºC| °C| C)[^.]*(?:[.]|[\\s]))' #US regex\n",
    "search_string_2 = r'(\\d{3})'\n",
    "\n",
    "good_url, instr, init_temp, init_temp_range = [], [], [], []\n",
    "# range(len(url_list)):\n",
    "tally = 0\n",
    "recipe_dict = []\n",
    "[recipe_dict.append(ClassifyWebpage(url_list[1][i], search_string_1, search_string_2)) for i in range(20)]\n",
    "\n",
    "for page in recipe_dict:\n",
    "    if page.url:\n",
    "            print(page.url)\n",
    "#             print(page.recipe_name)\n",
    "            print(page.instructions)\n",
    "            tally += 1\n",
    "    else:\n",
    "        print(\"NO DATA\")\n",
    "print(f'TOTAL PAGES READ: {tally}')\n",
    "\n",
    "#     if page.pastry_recipe.instructions and page.pastry_recipe.initial_temp_range == 'US':\n",
    "#         good_url.append(page.url)\n",
    "#         instr.append(page.pastry_recipe.instructions)\n",
    "#         init_temp.append(page.pastry_recipe.initial_temp)\n",
    "#         init_temp_range.append(page.pastry_recipe.initial_temp_range)\n",
    "\n",
    "# df = pd.DataFrame([good_url, instr, init_temp]).T"
   ]
  },
  {
   "cell_type": "code",
   "execution_count": 130,
   "metadata": {
    "collapsed": true,
    "jupyter": {
     "outputs_hidden": true
    }
   },
   "outputs": [
    {
     "data": {
      "text/plain": [
       "0     250\n",
       "1     240\n",
       "2     220\n",
       "3     200\n",
       "4     210\n",
       "5     200\n",
       "6     240\n",
       "7     220\n",
       "8     170\n",
       "9     200\n",
       "10    180\n",
       "11    180\n",
       "12    170\n",
       "13    190\n",
       "14    160\n",
       "15    200\n",
       "16    190\n",
       "17    150\n",
       "18    270\n",
       "19    180\n",
       "20    210\n",
       "21    260\n",
       "22    200\n",
       "23    220\n",
       "24    190\n",
       "25    180\n",
       "26    180\n",
       "27    200\n",
       "28    230\n",
       "29    220\n",
       "30    170\n",
       "31    200\n",
       "32    180\n",
       "33    170\n",
       "34    160\n",
       "35    180\n",
       "36    190\n",
       "37    220\n",
       "38    220\n",
       "39    170\n",
       "40    170\n",
       "41    180\n",
       "42    175\n",
       "43    180\n",
       "44    100\n",
       "45    220\n",
       "46    175\n",
       "47    180\n",
       "48    180\n",
       "49    190\n",
       "50    170\n",
       "51    220\n",
       "52    100\n",
       "53    200\n",
       "54    180\n",
       "Name: 2, dtype: object"
      ]
     },
     "execution_count": 130,
     "metadata": {},
     "output_type": "execute_result"
    }
   ],
   "source": [
    "df.iloc[:,2]"
   ]
  },
  {
   "cell_type": "markdown",
   "metadata": {},
   "source": [
    "### Write search results to file"
   ]
  },
  {
   "cell_type": "code",
   "execution_count": 131,
   "metadata": {},
   "outputs": [],
   "source": [
    "# Uncomment country to write results\n",
    "\n",
    "# us_df = pd.DataFrame(df)\n",
    "# us_df.to_csv('data/us_results.csv')\n",
    "\n",
    "# uk_df = pd.DataFrame(df)\n",
    "# uk_df.to_csv('data/uk_results.csv')\n",
    "\n",
    "# fr_df = pd.DataFrame(df)\n",
    "# fr_df.to_csv('data/fr_results.csv')"
   ]
  },
  {
   "cell_type": "markdown",
   "metadata": {},
   "source": [
    "## Results and visualizations\n",
    "- Of the 100 links obtained from the Google search by country, 35-40 usable temperatures were obtained for the US distribution and for the French distribution.\n",
    "- Only 10 usable temperatures were obtained for the UK distribution. This is likely due to many recipes of US origin appearing in the google.uk search and being filtered out due to the restriction that temps needed to be expressed primarily in celsius.\n",
    "- Mean temperatures are similar for all three countries.\n",
    "- The distributions are different for the countries with the US having a narrower distribution of initial baking temperature and the French distribution being wider."
   ]
  },
  {
   "cell_type": "code",
   "execution_count": 132,
   "metadata": {},
   "outputs": [],
   "source": [
    "data_us = pd.read_csv('data/us_results.csv',header=None)\n",
    "data_uk = pd.read_csv('data/uk_results.csv',header=None)\n",
    "data_fr = pd.read_csv('data/fr_results.csv',header=None)"
   ]
  },
  {
   "cell_type": "code",
   "execution_count": 139,
   "metadata": {},
   "outputs": [
    {
     "data": {
      "image/png": "[encoded data removed]",
      "text/plain": [
       "<Figure size 720x432 with 1 Axes>"
      ]
     },
     "metadata": {
      "needs_background": "light"
     },
     "output_type": "display_data"
    }
   ],
   "source": [
    "fig, ax = plt.subplots(figsize=(10,6))\n",
    "\n",
    "ax.hist(data_us.iloc[:,3], color='tab:cyan')\n",
    "ax.set_ylabel('Count')\n",
    "ax.set_xlabel('Temperature (°F)')\n",
    "ax.set_xlim(300, 500)\n",
    "fig.suptitle('Inital Baking Temperature--US Croissant Recipes', size =20)\n",
    "ax.set_title(f'Mean temp {data_us.iloc[:,3].mean():.0f}')\n",
    "plt.savefig('img/us-croissant-baketemp-distribution.png')\n"
   ]
  },
  {
   "cell_type": "code",
   "execution_count": 140,
   "metadata": {},
   "outputs": [
    {
     "data": {
      "image/png": "[encoded data removed]",
      "text/plain": [
       "<Figure size 720x432 with 1 Axes>"
      ]
     },
     "metadata": {
      "needs_background": "light"
     },
     "output_type": "display_data"
    }
   ],
   "source": [
    "fig, ax = plt.subplots(figsize=(10,6))\n",
    "\n",
    "ax.hist((data_fr.iloc[:,3]*9/5+32), color='tab:olive')\n",
    "ax.set_ylabel('Count')\n",
    "ax.set_xlabel('Temperature (°F)')\n",
    "ax.set_xlim(300, 500)\n",
    "fig.suptitle('Inital Baking Temperature--French Croissant Recipes', size =20)\n",
    "ax.set_title(f'Mean temp {(data_fr.iloc[:,3]*9/5+32).mean():.0f}')\n",
    "plt.savefig('img/fr-croissant-baketemp-distribution.png')\n",
    "# (data_uk.iloc[:,2]*9/5+32).hist()\n",
    "# (data_fr.iloc[:,2]*9/5+32).hist()\n"
   ]
  },
  {
   "cell_type": "code",
   "execution_count": 141,
   "metadata": {},
   "outputs": [
    {
     "data": {
      "image/png": "[encoded data removed]",
      "text/plain": [
       "<Figure size 720x432 with 1 Axes>"
      ]
     },
     "metadata": {
      "needs_background": "light"
     },
     "output_type": "display_data"
    }
   ],
   "source": [
    "fig, ax = plt.subplots(figsize=(10,6))\n",
    "\n",
    "ax.hist((data_uk.iloc[:,3]*9/5+32), color='tab:purple')\n",
    "ax.set_ylabel('Count')\n",
    "ax.set_xlabel('Temperature (°F)')\n",
    "ax.set_xlim(300, 500)\n",
    "fig.suptitle('Inital Baking Temperature--British Croissant Recipes', size =20)\n",
    "ax.set_title(f'Mean temp {(data_uk.iloc[:,3]*9/5+32).mean():.0f}')\n",
    "plt.savefig('img/uk-croissant-baketemp-distribution.png')\n"
   ]
  },
  {
   "cell_type": "markdown",
   "metadata": {},
   "source": [
    "## Future Research\n",
    "- Seek to obtain more usable temperatures by grabbing more links from Google and/or by refining the sifting of the websites to obtain a better yield.\n",
    "- Consider how best to compare the distributions.\n",
    "- Explore other parameters of croissant preparation and baking.\n",
    "- Explore the comments for the various websites to determine if people in the respective countries interact differently with recipe authors."
   ]
  },
  {
   "cell_type": "code",
   "execution_count": null,
   "metadata": {},
   "outputs": [],
   "source": []
  }
 ],
 "metadata": {
  "kernelspec": {
   "display_name": "Python 3",
   "language": "python",
   "name": "python3"
  },
  "language_info": {
   "codemirror_mode": {
    "name": "ipython",
    "version": 3
   },
   "file_extension": ".py",
   "mimetype": "text/x-python",
   "name": "python",
   "nbconvert_exporter": "python",
   "pygments_lexer": "ipython3",
   "version": "3.7.7"
  }
 },
 "nbformat": 4,
 "nbformat_minor": 4
}
