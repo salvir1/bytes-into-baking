{
 "cells": [
  {
   "cell_type": "markdown",
   "metadata": {},
   "source": [
    "# Bytes Into Baking\n",
    "\n",
    "## Project Overview\n",
    "- Food is one of the most common topics on the internet, with content being published on the web by big businesses such as *foodnetwork* and *allrecipes* to home chefs writing their own blogs. \n",
    "- Food is trendy--keeping on top of food trends could be valuable to people who work in the food or food publishing industries.\n",
    "- The purpose of this project is to gather recipe data from a variety of different websites and then use supervised and unsupervised NLP models to discover useful information from the data\n",
    "\n",
    "## Project Phases\n",
    "- Create a utility web scraper to capture recipes from a variety of different websites\n",
    "- Use ML to compare and contrast recipes\n",
    "\n",
    "## Goals\n",
    "- Generate a list of target websites for a particular recipe class by pulling urls from Google search\n",
    "- Develop a utility scraper to identify recipes and then grab pertinent information about the recipe from the recipe section--starting with instructions\n",
    "- Test the results of the scraper on a supervised model that classifies the vectorized recipes\n",
    "- Explore the possibiliity of identifying different groupings within a specific recipe class\n",
    "\n",
    "## Tools and techniques used in this project\n",
    "- **Tools**\n",
    "> - Python, Beautiful Soup, Pandas, Numpy, Gensim\n",
    "- **Visualization**\n",
    "> - Matplotlib, Plotly\n",
    "- **Techniques**\n",
    "> - Web-scraping, K Fold cross validation, Multinomial Naive Bayes Classification, Non-negative Matrix Factoring (NMF)\n",
    "\n",
    "## In this Notebook (phase two of the project)\n",
    "- Corpus preprocessing and turning documents into vectors\n",
    "- Using a supervised model (multinomial naive bayes) to predict recipe class (after target words like 'croissant' or 'puff pastry' have been removed from the feature set)\n",
    "- Using unsupervised machine learning to look for similarities and differences between recipes of a certain class"
   ]
  },
  {
   "cell_type": "code",
   "execution_count": 76,
   "metadata": {},
   "outputs": [],
   "source": [
    "import numpy as np\n",
    "import pandas as pd\n",
    "from numpy.linalg import svd\n",
    "# import string\n",
    "\n",
    "import matplotlib.pyplot as plt\n",
    "%matplotlib inline\n",
    "\n",
    "import nltk\n",
    "from nltk.corpus import stopwords\n",
    "from nltk.tokenize import word_tokenize\n",
    "from nltk.stem.wordnet import WordNetLemmatizer\n",
    "# from nltk.stem.porter import PorterStemmer\n",
    "# from nltk.stem.snowball import SnowballStemmer\n",
    "from sklearn.feature_extraction.text import CountVectorizer, TfidfVectorizer\n",
    "from sklearn.decomposition import NMF\n",
    "from sklearn.cluster import KMeans \n",
    "from sklearn.feature_extraction.text import CountVectorizer, TfidfVectorizer\n",
    "from sklearn.metrics.pairwise import linear_kernel\n",
    "\n",
    "from sklearn.model_selection import train_test_split, KFold\n",
    "from sklearn.naive_bayes import MultinomialNB\n",
    "\n",
    "from sklearn.metrics import confusion_matrix"
   ]
  },
  {
   "cell_type": "code",
   "execution_count": 77,
   "metadata": {},
   "outputs": [
    {
     "name": "stdout",
     "output_type": "stream",
     "text": [
      "The autoreload extension is already loaded. To reload it, use:\n",
      "  %reload_ext autoreload\n"
     ]
    }
   ],
   "source": [
    "%load_ext autoreload\n",
    "%autoreload 2"
   ]
  },
  {
   "cell_type": "markdown",
   "metadata": {},
   "source": [
    "## Step 1\n",
    "\n",
    "### Corpus preprocessing\n",
    "- Turned the recipe documents into vectors for a supervised machine learning classifier problem--can recipe instructions be used to predict recipe class?\n",
    "- Text preprocessing pipeline included removing punctuation, tokenization, word lemmatization, removing stop words\n",
    "- Additionally, removed target words (like croissant, puff pastry etc) that appear in the feature set to build a more robust model\n",
    "- Converted documents into uni-gram count vectors"
   ]
  },
  {
   "cell_type": "markdown",
   "metadata": {},
   "source": [
    "## Preprocessing functions and methods"
   ]
  },
  {
   "cell_type": "code",
   "execution_count": 78,
   "metadata": {},
   "outputs": [
    {
     "name": "stderr",
     "output_type": "stream",
     "text": [
      "[nltk_data] Downloading package stopwords to\n",
      "[nltk_data]     /home/salvir1/nltk_data...\n",
      "[nltk_data]   Package stopwords is already up-to-date!\n"
     ]
    },
    {
     "data": {
      "text/plain": [
       "True"
      ]
     },
     "execution_count": 78,
     "metadata": {},
     "output_type": "execute_result"
    }
   ],
   "source": [
    "wordnet = WordNetLemmatizer()\n",
    "# porter = PorterStemmer()\n",
    "# snowball = SnowballStemmer('english')\n",
    "nltk.download('stopwords')"
   ]
  },
  {
   "cell_type": "code",
   "execution_count": 79,
   "metadata": {},
   "outputs": [],
   "source": [
    "titles_to_remove = ['ciambellone', 'ciambella','puff','croissant', 'croissants', 'pie crust', 'pie dough', 'pie', 'crescent', 'brioche']"
   ]
  },
  {
   "cell_type": "code",
   "execution_count": 80,
   "metadata": {},
   "outputs": [],
   "source": [
    "import re\n",
    "def remove_punc(string:str) -> str:\n",
    "    '''Given a string, removes all punctuation and returned punctuation-less string'''\n",
    "    return re.sub(r\"(@[A-Za-z0-9]+)|([^0-9A-Za-z \\t])|(\\w+:\\/\\/\\S+)|^rt|http.+?\", \"\", string)"
   ]
  },
  {
   "cell_type": "code",
   "execution_count": 81,
   "metadata": {},
   "outputs": [],
   "source": [
    "def tokenize(str):\n",
    "    '''\n",
    "    Tokenize a str and return a tokenized list.\n",
    "    '''\n",
    "    return [word for word in word_tokenize(str)]"
   ]
  },
  {
   "cell_type": "code",
   "execution_count": 82,
   "metadata": {},
   "outputs": [],
   "source": [
    "def lemmatize(doc):\n",
    "    '''Takes in a doc and lemmatizes tokens in doc\n",
    "    Parameters\n",
    "    ----------\n",
    "    doc: list of tokens\n",
    "    \n",
    "    Returns\n",
    "    -------\n",
    "    lemmatized tokens\n",
    "    '''\n",
    "    return [wordnet.lemmatize(tkn) for tkn in doc]"
   ]
  },
  {
   "cell_type": "code",
   "execution_count": 83,
   "metadata": {},
   "outputs": [],
   "source": [
    "def rm_stop_words(doc, stops=set(stopwords.words('english'))):\n",
    "    '''Takes in a doc and removes stop words\n",
    "    Parameters\n",
    "    ----------\n",
    "    doc: list of tokens\n",
    "    \n",
    "    Returns\n",
    "    -------\n",
    "    Tokens with stop words removed\n",
    "    '''\n",
    "    return([w for w in doc if w not in stops])"
   ]
  },
  {
   "cell_type": "code",
   "execution_count": 84,
   "metadata": {},
   "outputs": [],
   "source": [
    "def rm_title_words(doc, title_words):\n",
    "    '''Takes in a doc and removes title words to allow algorithm to focus on other keywords\n",
    "    Parameters\n",
    "    ----------\n",
    "    doc: list of tokens\n",
    "    \n",
    "    Returns\n",
    "    -------\n",
    "    Tokens with title words removed\n",
    "    '''\n",
    "    return([w for w in doc if w not in title_words])"
   ]
  },
  {
   "cell_type": "code",
   "execution_count": 85,
   "metadata": {},
   "outputs": [],
   "source": [
    "def preprocess_corpus(content):\n",
    "    '''\n",
    "    Add docstring. Make flexible to allow for doing, or not doing, preprocessing functions. \n",
    "    Parameters\n",
    "    ----------\n",
    "    content (str): a collection of strings\n",
    "    Returns\n",
    "    -------\n",
    "    A list of lists: each list contains a tokenized version of the original string\n",
    "    '''\n",
    "    preprocessed = []\n",
    "    for i in range(len(content)):\n",
    "        step_1 = remove_punc(content[i].lower())\n",
    "        step_2 = tokenize(step_1)\n",
    "        step_3 = lemmatize(step_2)\n",
    "        step_4 = rm_stop_words(step_3)\n",
    "        step_5 = rm_title_words(step_4, titles_to_remove)\n",
    "        preprocessed.append(step_5)\n",
    "    return preprocessed"
   ]
  },
  {
   "cell_type": "code",
   "execution_count": 86,
   "metadata": {},
   "outputs": [],
   "source": [
    "# loading sample data to check functions\n",
    "df_piecrust = pd.read_csv('data/us_piecrust.csv')\n",
    "df_csnt = pd.read_csv('data/us_croissant.csv')\n",
    "df_ciambellone = pd.read_csv('data/us_ciambellone.csv')\n",
    "df_puff = pd.read_csv('data/us_puff.csv')\n",
    "df_brioche = pd.read_csv('data/us_brioche.csv')\n",
    "df = pd.concat([df_piecrust, df_csnt, df_ciambellone, df_puff, df_brioche], axis=0, ignore_index=True) \n",
    "df.columns = ['drop','url','instructions','recipe type']\n",
    "df = df.drop('drop', axis = 1)\n",
    "corpus = df['instructions']\n",
    "y = df['recipe type']"
   ]
  },
  {
   "cell_type": "code",
   "execution_count": 87,
   "metadata": {},
   "outputs": [
    {
     "data": {
      "text/plain": [
       "0      Mix the flour and salt together in a large bow...\n",
       "1      Add&nbsp;flour, salt to a large mixing bowl.&n...\n",
       "2      Add&nbsp;flour, salt to a large mixing bowl.&n...\n",
       "3      Pour cold water into a small dish with a few p...\n",
       "4      In the bowl of a food processor; add the flour...\n",
       "                             ...                        \n",
       "339    In a medium mixing bowl, whisk together the wa...\n",
       "340    Combine 1/3 cup of milk and 1 tablespoon of fl...\n",
       "341    In a small bowl, whisk the yeast with the butt...\n",
       "342    Warm the milk, transfer to a bowl and crumble ...\n",
       "343    In a glass measuring cup, combine one cup warm...\n",
       "Name: instructions, Length: 344, dtype: object"
      ]
     },
     "execution_count": 87,
     "metadata": {},
     "output_type": "execute_result"
    }
   ],
   "source": [
    "corpus"
   ]
  },
  {
   "cell_type": "markdown",
   "metadata": {},
   "source": [
    "### Preprocessing--data load and function calls"
   ]
  },
  {
   "cell_type": "code",
   "execution_count": 88,
   "metadata": {},
   "outputs": [],
   "source": [
    "cleaned_tokenized = preprocess_corpus(corpus) # cleaned and tokenized\n",
    "str_cleaned_tokenized = [\" \".join(x) for x in cleaned_tokenized] # string version of cleaned and tokenized "
   ]
  },
  {
   "cell_type": "code",
   "execution_count": 89,
   "metadata": {},
   "outputs": [],
   "source": [
    "pd.Series(str_cleaned_tokenized).to_csv('data/str_cleaned_tokenized.csv', index=False)"
   ]
  },
  {
   "cell_type": "markdown",
   "metadata": {},
   "source": [
    "## Step 2\n",
    "## Multinomial naive bayes text classifer\n",
    "- First pass: train test split to get a sense of how well the model appears to be interpreting the data\n",
    "- Second pass: K Fold cross validation for a more robust approach\n",
    "- MNB Usually done on word vector counts\n",
    "> - The distribution is parametrized by theta_y vectors for each class\n",
    "> - theta_y is estimated by a smoothed version of maximum likelihood, i.e. relative frequency counting\n",
    "\n",
    "## Results\n",
    "- Mean accuracy of about 90% for the train test split set\n",
    "- Similar results from the K Fold cross validation approach\n",
    "\n",
    "## Analysis\n",
    "- What goes wrong when it goes wrong? Is it bad data (from the scraping process), insufficient data, or was the model just fooled?\n",
    "- Most of the errors occurred before the ML model step. In several cases, the recipe author misclassified their recipe. One common mistake is to classify a pie crust as a puff pastry--they are not the same. Google search also can have a relatively high rate of type 2 errors--false positives. Non-recipe websites were weeded out by the web scraper, but some non-target recipes made it through. For instance, a breakfast sausage croissant sandwich recipe made it through.\n",
    "- The scraper grabbed insufficient data in one case.\n",
    "- The model made bad predictions in two cases.\n",
    "\n",
    "| Error type | Number | Percent (%) |\n",
    "| :--- |  :---: | :---: |\n",
    "| Recipe author miscategorization or inaccurate Google search data | 7 | 8% |\n",
    "| Scraper error | 1 | 1% |\n",
    "| Bad prediction by model | 2 | 2% |"
   ]
  },
  {
   "cell_type": "code",
   "execution_count": 90,
   "metadata": {},
   "outputs": [],
   "source": [
    "# 'Bag of words function'\n",
    "vect = CountVectorizer(max_features=500)\n",
    "word_counts = vect.fit_transform(str_cleaned_tokenized)"
   ]
  },
  {
   "cell_type": "code",
   "execution_count": 91,
   "metadata": {},
   "outputs": [],
   "source": [
    "feature_words = vect.get_feature_names()"
   ]
  },
  {
   "cell_type": "code",
   "execution_count": 92,
   "metadata": {},
   "outputs": [],
   "source": [
    "X_train, X_test, y_train, y_test = train_test_split(word_counts, y, random_state=3)"
   ]
  },
  {
   "cell_type": "code",
   "execution_count": 93,
   "metadata": {},
   "outputs": [
    {
     "name": "stdout",
     "output_type": "stream",
     "text": [
      "\n",
      "Mean accuracy: 0.8837209302325582\n",
      "\n",
      "     Prediction:          Actual                Prob brioche       Prob ciam         Prob crsnt      Prob pie      Prob puff\n",
      "     ----------           ------                ------------       ---------         ----------      --------      ---------\n",
      "P:  pie_crust       A:  puff_pastry        Probs:   0.00000          0.00000          0.00000          0.53683          0.46317\n",
      "P:  puff_pastry     A:  pie_crust          Probs:   0.00003          0.00004          0.14669          0.31792          0.53531\n",
      "P:  croissant       A:  puff_pastry        Probs:   0.00000          0.00000          1.00000          0.00000          0.00000\n",
      "P:  brioche         A:  puff_pastry        Probs:   0.99988          0.00000          0.00010          0.00000          0.00002\n",
      "P:  croissant       A:  puff_pastry        Probs:   0.00000          0.00000          1.00000          0.00000          0.00000\n",
      "P:  brioche         A:  croissant          Probs:   1.00000          0.00000          0.00000          0.00000          0.00000\n",
      "P:  brioche         A:  pie_crust          Probs:   0.99961          0.00000          0.00000          0.00039          0.00000\n",
      "P:  brioche         A:  ciambellone        Probs:   1.00000          0.00000          0.00000          0.00000          0.00000\n",
      "P:  pie_crust       A:  puff_pastry        Probs:   0.37340          0.00003          0.00000          0.62657          0.00000\n",
      "P:  ciambellone     A:  croissant          Probs:   0.02923          0.87627          0.05386          0.04065          0.00000\n"
     ]
    }
   ],
   "source": [
    "clf = MultinomialNB(alpha=1)\n",
    "clf.fit(X_train, y_train)\n",
    "\n",
    "scoreboard = zip(clf.predict_proba(X_test), clf.predict(X_test), y_test)\n",
    "spc=''\n",
    "print(f'\\nMean accuracy: {clf.score(X_test, y_test)}\\n')\n",
    "\n",
    "print(f'     Prediction:          Actual                Prob brioche       Prob ciam         Prob crsnt      Prob pie      Prob puff')\n",
    "print(f'     ----------           ------                ------------       ---------         ----------      --------      ---------')\n",
    "for i in scoreboard:\n",
    "    if i[2] != i[1]:\n",
    "        print(f'P:  {i[1]:<15} A:  {i[2]:<18} Probs:   {i[0][0]:.5f}{spc:<10}{i[0][1]:.5f}{spc:<10}{i[0][2]:.5f}{spc:<10}{i[0][3]:.5f}{spc:<10}{i[0][4]:.5f}')\n"
   ]
  },
  {
   "cell_type": "markdown",
   "metadata": {},
   "source": [
    "### Errors analysis"
   ]
  },
  {
   "cell_type": "code",
   "execution_count": 94,
   "metadata": {},
   "outputs": [
    {
     "data": {
      "text/html": [
       "<div>\n",
       "<style scoped>\n",
       "    .dataframe tbody tr th:only-of-type {\n",
       "        vertical-align: middle;\n",
       "    }\n",
       "\n",
       "    .dataframe tbody tr th {\n",
       "        vertical-align: top;\n",
       "    }\n",
       "\n",
       "    .dataframe thead th {\n",
       "        text-align: right;\n",
       "    }\n",
       "</style>\n",
       "<table border=\"1\" class=\"dataframe\">\n",
       "  <thead>\n",
       "    <tr style=\"text-align: right;\">\n",
       "      <th></th>\n",
       "      <th>url</th>\n",
       "      <th>instructions</th>\n",
       "      <th>recipe type</th>\n",
       "    </tr>\n",
       "  </thead>\n",
       "  <tbody>\n",
       "    <tr>\n",
       "      <th>222</th>\n",
       "      <td>https://www.homemadefoodjunkie.com/homemade-pu...</td>\n",
       "      <td>Pour flour and salt into a medium size mixing ...</td>\n",
       "      <td>puff_pastry</td>\n",
       "    </tr>\n",
       "    <tr>\n",
       "      <th>15</th>\n",
       "      <td>https://www.crazyforcrust.com/favorite-all-but...</td>\n",
       "      <td>Make sure your butter is diced and cold before...</td>\n",
       "      <td>pie_crust</td>\n",
       "    </tr>\n",
       "    <tr>\n",
       "      <th>273</th>\n",
       "      <td>http://cooklikeyourgrandmother.com/how-to-make...</td>\n",
       "      <td>This is not the post I planned on writing. Thi...</td>\n",
       "      <td>puff_pastry</td>\n",
       "    </tr>\n",
       "    <tr>\n",
       "      <th>239</th>\n",
       "      <td>https://www.cookwithmanali.com/easy-puff-pastry/</td>\n",
       "      <td>In the steel bowl of your stand mixer whisk to...</td>\n",
       "      <td>puff_pastry</td>\n",
       "    </tr>\n",
       "    <tr>\n",
       "      <th>218</th>\n",
       "      <td>https://sallysbakingaddiction.com/danish-pastr...</td>\n",
       "      <td>To help guarantee success, I recommend reading...</td>\n",
       "      <td>puff_pastry</td>\n",
       "    </tr>\n",
       "    <tr>\n",
       "      <th>115</th>\n",
       "      <td>https://lifemadesimplebakes.com/overnight-saus...</td>\n",
       "      <td>In a large skillet, brown the sausage over med...</td>\n",
       "      <td>croissant</td>\n",
       "    </tr>\n",
       "    <tr>\n",
       "      <th>66</th>\n",
       "      <td>https://boulderlocavore.com/all-butter-pie-crust/</td>\n",
       "      <td>Cut the butter into ½-inch cubes. Place in the...</td>\n",
       "      <td>pie_crust</td>\n",
       "    </tr>\n",
       "    <tr>\n",
       "      <th>155</th>\n",
       "      <td>https://anitalianinmykitchen.com/italian-cake/</td>\n",
       "      <td>Pre-heat oven to 320F (160C), grease and flour...</td>\n",
       "      <td>ciambellone</td>\n",
       "    </tr>\n",
       "    <tr>\n",
       "      <th>275</th>\n",
       "      <td>https://flourandfloral.com/heart-shaped-fruit-...</td>\n",
       "      <td>Roll out puff-pastry onto a lightly floured su...</td>\n",
       "      <td>puff_pastry</td>\n",
       "    </tr>\n",
       "    <tr>\n",
       "      <th>146</th>\n",
       "      <td>https://amandascookin.com/john-wayne-casserole/</td>\n",
       "      <td>Preheat oven to 350 F and place your oven rack...</td>\n",
       "      <td>croissant</td>\n",
       "    </tr>\n",
       "  </tbody>\n",
       "</table>\n",
       "</div>"
      ],
      "text/plain": [
       "                                                   url  \\\n",
       "222  https://www.homemadefoodjunkie.com/homemade-pu...   \n",
       "15   https://www.crazyforcrust.com/favorite-all-but...   \n",
       "273  http://cooklikeyourgrandmother.com/how-to-make...   \n",
       "239   https://www.cookwithmanali.com/easy-puff-pastry/   \n",
       "218  https://sallysbakingaddiction.com/danish-pastr...   \n",
       "115  https://lifemadesimplebakes.com/overnight-saus...   \n",
       "66   https://boulderlocavore.com/all-butter-pie-crust/   \n",
       "155     https://anitalianinmykitchen.com/italian-cake/   \n",
       "275  https://flourandfloral.com/heart-shaped-fruit-...   \n",
       "146    https://amandascookin.com/john-wayne-casserole/   \n",
       "\n",
       "                                          instructions  recipe type  \n",
       "222  Pour flour and salt into a medium size mixing ...  puff_pastry  \n",
       "15   Make sure your butter is diced and cold before...    pie_crust  \n",
       "273  This is not the post I planned on writing. Thi...  puff_pastry  \n",
       "239  In the steel bowl of your stand mixer whisk to...  puff_pastry  \n",
       "218  To help guarantee success, I recommend reading...  puff_pastry  \n",
       "115  In a large skillet, brown the sausage over med...    croissant  \n",
       "66   Cut the butter into ½-inch cubes. Place in the...    pie_crust  \n",
       "155  Pre-heat oven to 320F (160C), grease and flour...  ciambellone  \n",
       "275  Roll out puff-pastry onto a lightly floured su...  puff_pastry  \n",
       "146  Preheat oven to 350 F and place your oven rack...    croissant  "
      ]
     },
     "execution_count": 94,
     "metadata": {},
     "output_type": "execute_result"
    }
   ],
   "source": [
    "yhat = clf.predict(X_test)\n",
    "msk = (y_test == yhat)\n",
    "df.iloc[msk[~msk].index]"
   ]
  },
  {
   "cell_type": "code",
   "execution_count": 95,
   "metadata": {},
   "outputs": [
    {
     "data": {
      "text/plain": [
       "'croissant'"
      ]
     },
     "execution_count": 95,
     "metadata": {},
     "output_type": "execute_result"
    }
   ],
   "source": [
    "df.iloc[146][2]"
   ]
  },
  {
   "cell_type": "code",
   "execution_count": 96,
   "metadata": {},
   "outputs": [
    {
     "name": "stdout",
     "output_type": "stream",
     "text": [
      "\n",
      "Confusion matrix. Predictions in rows. Actuals in columns\n",
      "\n",
      "\t\t     Br  Cm  Cs Pi Pf\n",
      "\t\t     --  --  -- -- --\n",
      "\t\tBrio [11  1  1  1  1]\n",
      "\t\tCiam [ 0 11  1  0  0]\n",
      "\t\tCsnt [ 0  0 18  0  2]\n",
      "\t\tPie  [ 0  0  0 17  2]\n",
      "\t\tPuff [ 0  0  0  1 19]\n",
      "\n",
      "Mean accuracy: 0.8837209302325582\n",
      "\n"
     ]
    }
   ],
   "source": [
    "print(f'\\nConfusion matrix. Predictions in rows. Actuals in columns\\n')\n",
    "\n",
    "print(f'\\t\\t     Br  Cm  Cs Pi Pf')\n",
    "print(f'\\t\\t     --  --  -- -- --')\n",
    "print(f'\\t\\tBrio {confusion_matrix( clf.predict(X_test), y_test)[0]}')\n",
    "print(f'\\t\\tCiam {confusion_matrix( clf.predict(X_test), y_test)[1]}')\n",
    "print(f'\\t\\tCsnt {confusion_matrix( clf.predict(X_test), y_test)[2]}')\n",
    "print(f'\\t\\tPie  {confusion_matrix( clf.predict(X_test), y_test)[3]}')\n",
    "print(f'\\t\\tPuff {confusion_matrix( clf.predict(X_test), y_test)[4]}')\n",
    "\n",
    "print(f'\\nMean accuracy: {clf.score(X_test, y_test)}\\n')\n"
   ]
  },
  {
   "cell_type": "code",
   "execution_count": 97,
   "metadata": {},
   "outputs": [
    {
     "name": "stdout",
     "output_type": "stream",
     "text": [
      "0.8866581415174766\n"
     ]
    }
   ],
   "source": [
    "kf = KFold(n_splits=5, shuffle=True)  # almost always use shuffle=True\n",
    "fold_scores = []\n",
    "\n",
    "for train, test in kf.split(word_counts):\n",
    "    model = MultinomialNB()\n",
    "    model.fit(word_counts[train], y[train])\n",
    "    fold_scores.append(model.score(word_counts[test], y[test]))\n",
    "    \n",
    "print(np.mean(fold_scores))"
   ]
  },
  {
   "cell_type": "markdown",
   "metadata": {},
   "source": [
    "### Exploring the features which are most important to the supervised model \n",
    "\n",
    "- The predictive power of the model is good\n",
    "- What are the key words that the model is relying upon?\n",
    "- This exploration is where the model isn't so helpful. The significant words repeat across each class. The model is not weighing certain obvious key words as highly as one would expect--*lamination*, *yeast*, *eggs*, and *cold* are feature words that should be present in every case for certain recipes and not others.\n",
    "- The model prediction may be good, but it suffers from a lack of solid intuition. Ideally the most significant words would clearly identify class. \n",
    "- This could be due to the small data set. Given that the web scraper yield from part 1 was only 47%, it may be worthwhile to look to look for ways to improve the yield.\n",
    "\n",
    "- Can an unsupervised model look within a particular recipe class to identify different schools of thought for that particular product? E.g. Can it identify different types of croissant recipes?"
   ]
  },
  {
   "cell_type": "code",
   "execution_count": 98,
   "metadata": {},
   "outputs": [
    {
     "name": "stdout",
     "output_type": "stream",
     "text": [
      "\n",
      "          Recipe class: brioche\n",
      "Most significant words: ['dough', 'butter', 'place', 'minute', 'roll', 'cup', 'bowl', 'make', 'milk', 'add', 'warm', 'yeast', 'two', 'flour', 'one', 'pan', 'tablespoon', 'mix', 'speed', 'turn']\n",
      "\n",
      "\n",
      "          Recipe class: ciambellone\n",
      "Most significant words: ['dough', 'butter', 'cup', 'baking', 'make', 'one', 'flour', 'add', 'milk', 'pan', 'sugar', 'wa', 'minute', 'place', 'two', 'teaspoon', 'bowl', 'recipe', 'mix', 'mixture']\n",
      "\n",
      "\n",
      "          Recipe class: croissant\n",
      "Most significant words: ['dough', 'butter', 'roll', 'make', 'place', 'fold', 'baking', 'third', 'one', 'water', 'sheet', 'yeast', 'minute', 'flour', 'two', 'cup', 'milk', 'pastry', 'warm', 'turn']\n",
      "\n",
      "\n",
      "          Recipe class: pie_crust\n",
      "Most significant words: ['dough', 'butter', 'roll', 'pastry', 'water', 'place', 'make', 'add', 'flour', 'cup', 'tablespoon', 'two', 'baking', 'fold', 'use', 'together', 'mixture', 'minute', 'one', 'bowl']\n",
      "\n",
      "\n",
      "          Recipe class: puff_pastry\n",
      "Most significant words: ['dough', 'butter', 'pastry', 'roll', 'fold', 'make', 'third', 'place', 'flour', 'water', 'cup', 'two', 'one', 'square', 'add', 'sheet', 'baking', 'turn', 'minute', 'use']\n",
      "\n"
     ]
    }
   ],
   "source": [
    "for j in range(5):\n",
    "    print(f'\\n          Recipe class: {clf.classes_[j]}')\n",
    "    print(f'Most significant words: {[feature_words[i] for i in (word_counts.toarray()[273] * np.exp(clf.feature_log_prob_[j])).argsort()[-20:][::-1]]}\\n')"
   ]
  },
  {
   "cell_type": "code",
   "execution_count": 99,
   "metadata": {},
   "outputs": [
    {
     "name": "stdout",
     "output_type": "stream",
     "text": [
      "\n",
      "Target: 0, name: brioche\n",
      "Top 20 tokens:  ['dough', 'minute', 'bowl', 'butter', 'flour', 'egg', 'place', 'add', 'loaf', 'let', 'mixer', 'cover', 'pan', 'piece', 'side', 'ball', 'oven', 'hour', 'mix', 'speed']\n",
      "\n",
      "Target: 1, name: ciambellone\n",
      "Top 20 tokens:  ['cake', 'flour', 'baking', 'pan', 'sugar', 'egg', 'minute', 'oven', 'add', 'bowl', 'recipe', 'italian', 'cup', 'oil', 'one', 'ingredient', 'dough', 'batter', 'mix', 'powder']\n",
      "\n",
      "Target: 2, name: croissant\n",
      "Top 20 tokens:  ['dough', 'butter', 'oven', 'roll', 'minute', 'make', 'flour', 'baking', 'place', 'fold', 'side', 'time', 'rectangle', 'one', 'rolling', 'cut', 'water', 'use', 'temperature', 'triangle']\n",
      "\n",
      "Target: 3, name: pie crust\n",
      "Top 20 tokens:  ['dough', 'crust', 'butter', 'flour', 'water', 'add', 'roll', 'edge', 'use', 'wrap', 'pastry', 'together', 'place', 'mixture', 'minute', 'rolling', 'time', 'make', 'plate', 'bowl']\n",
      "\n",
      "Target: 4, name: puff pastry\n",
      "Top 20 tokens:  ['dough', 'butter', 'pastry', 'flour', 'fold', 'roll', 'make', 'wrap', 'time', 'minute', 'water', 'use', 'recipe', 'rolling', 'plastic', 'rectangle', 'third', 'add', 'one', 'place']\n"
     ]
    }
   ],
   "source": [
    "# Here's another way to gauge model output. Can you figure out the recipe class based upon the top n tokens the model uses for that class? \n",
    "\n",
    "# feature_words = word_counts.get_feature_names()\n",
    "n = 20 #number of top words associated with the category that we wish to see\n",
    "target_names = ['brioche', 'ciambellone', 'croissant', 'pie crust', 'puff pastry']\n",
    "\n",
    "for cat in range(5):\n",
    "    print(f\"\\nTarget: {cat}, name: {target_names[cat]}\")\n",
    "    log_prob = clf.feature_log_prob_[cat]\n",
    "    i_topn = np.argsort(log_prob)[::-1][:n]\n",
    "    features_topn = [feature_words[i] for i in i_topn]\n",
    "    print(f\"Top {n} tokens: \", features_topn)"
   ]
  },
  {
   "cell_type": "markdown",
   "metadata": {},
   "source": [
    "## Word2Vec\n",
    "- For future consideration as a way to improve MNB model intuition\n",
    "- Would be better to have more data to improve the ability of word2vec to identify similarities"
   ]
  },
  {
   "cell_type": "code",
   "execution_count": 100,
   "metadata": {},
   "outputs": [],
   "source": [
    "from gensim.models import Word2Vec"
   ]
  },
  {
   "cell_type": "code",
   "execution_count": 101,
   "metadata": {},
   "outputs": [],
   "source": [
    "word2vec = Word2Vec(cleaned_tokenized)\n",
    "#A value of 2 for min_count specifies to include only those words in the Word2Vec model that appear at least twice in the corpus."
   ]
  },
  {
   "cell_type": "code",
   "execution_count": 102,
   "metadata": {},
   "outputs": [],
   "source": [
    "vocabulary = word2vec.wv.vocab\n",
    "#vocabulary = word2vec objects containing words appearing two or more times in the corpus"
   ]
  },
  {
   "cell_type": "code",
   "execution_count": 103,
   "metadata": {},
   "outputs": [
    {
     "data": {
      "text/plain": [
       "[('ice', 0.9970027208328247),\n",
       " ('allpurpose', 0.9941170811653137),\n",
       " ('unsalted', 0.9933470487594604),\n",
       " ('dry', 0.9926989078521729),\n",
       " ('blend', 0.9918620586395264),\n",
       " ('oil', 0.9898955821990967),\n",
       " ('sift', 0.9894220232963562),\n",
       " ('stir', 0.989389181137085),\n",
       " ('pour', 0.9891209602355957),\n",
       " ('fennel', 0.9891183376312256)]"
      ]
     },
     "execution_count": 103,
     "metadata": {},
     "output_type": "execute_result"
    }
   ],
   "source": [
    "word2vec.wv.most_similar('cold')\n",
    "# method that returns the most similar words to the given word, not association, but similarity supposedly"
   ]
  },
  {
   "cell_type": "markdown",
   "metadata": {},
   "source": [
    "# Unsupervised NLP Models"
   ]
  },
  {
   "cell_type": "markdown",
   "metadata": {},
   "source": [
    "## K Means"
   ]
  },
  {
   "cell_type": "markdown",
   "metadata": {},
   "source": [
    "- How well is an unsupervised K Means model able to cluster the recipes into groupings that identify with one of the five classes? \n",
    "\n",
    "> - Investigate the 'centroids' to find out what \"topics\" Kmeans has discovered by mapping these vectors back into the 'word space'.  Think of each feature/dimension of the centroid vector as representing the \"average\" article or the average occurrences of words for that cluster.\n",
    "   \n",
    "> - With a k= 6, four classes are fairly clear. The first centroid refers to pie crust recipes, the second looks like it identifies puff pastry recipes, the third appears to be for brioche, and the sixth is picking up on ciambellone recipes.\n",
    "\n",
    "> - The groupings aren't super clear though. There are quite a few overlapping words.\n"
   ]
  },
  {
   "cell_type": "code",
   "execution_count": 104,
   "metadata": {},
   "outputs": [],
   "source": [
    "tfidfvect = TfidfVectorizer(max_features=500)\n",
    "tfidf_vectorized = tfidfvect.fit_transform(str_cleaned_tokenized)\n",
    "tf_idf= tfidf_vectorized.toarray()"
   ]
  },
  {
   "cell_type": "code",
   "execution_count": 105,
   "metadata": {},
   "outputs": [],
   "source": [
    "clusters = 8\n",
    "kmeans = KMeans(n_clusters=clusters, \n",
    "                random_state=0).fit(tfidf_vectorized)"
   ]
  },
  {
   "cell_type": "code",
   "execution_count": 106,
   "metadata": {},
   "outputs": [
    {
     "name": "stdout",
     "output_type": "stream",
     "text": [
      "pulse dough processor food wrap water time add butter shortening mixture together form disc flour clump disk crust \n",
      "\n",
      "dough butter pastry flour fold roll wrap rectangle rolling make third water turn square time layer fridge recipe \n",
      "\n",
      "dough bowl loaf minute mixer let egg cover speed rise yeast ball pan butter flour add place hour \n",
      "\n",
      "pastry cheese oven dough baking sheet egg half minute bread almond recipe make set cook slice place one \n",
      "\n",
      "dough rectangle triangle roll butter inch fold sheet side cut baking half minute wrap end place rolling third \n",
      "\n",
      "batter cake pan sugar bundt minute powder oven flour baking zest egg preheat oil cool whisk come bowl \n",
      "\n"
     ]
    }
   ],
   "source": [
    "def Sort(sub_li): \n",
    "    return sorted(sub_li, key = lambda x: x[0], reverse=True)\n",
    "\n",
    "def get_word(centroid):\n",
    "    return [x[1] for x in centroid]\n",
    "\n",
    "for k in range(6):\n",
    "    matched = zip(kmeans.cluster_centers_[k], tfidfvect.get_feature_names())\n",
    "    match = Sort(list(matched))\n",
    "    print(' '.join(get_word(match[:18])), '\\n')"
   ]
  },
  {
   "cell_type": "markdown",
   "metadata": {},
   "source": [
    "## Cosine similarity\n",
    "- Unsupervised learning\n",
    "\n",
    "- Use the cosine similarity to compare similarity between documents.\n",
    "\n",
    "- sklearn's [linear_kernel](http://scikit-learn.org/stable/modules/generated/sklearn.metrics.pairwise.linear_kernel.html) (computes dot product) can be used on tfidf to compute the cosine similarity since rows are normalized.*\n",
    "\n",
    "- Here's a page on cosine similarity from [sklearn documentation](http://scikit-learn.org/stable/modules/metrics.html#cosine-similarity) and a relevant [stack overflow post](http://stackoverflow.com/questions/12118720/python-tf-idf-cosine-to-find-document-similarity).\n",
    "\n",
    "- *The stack overflow post is helpful. It provides instruction over how to slice the tfidf and then how to apply cosine similarity between one doc and all of the rest.*"
   ]
  },
  {
   "cell_type": "code",
   "execution_count": 107,
   "metadata": {},
   "outputs": [],
   "source": [
    "cosine_similarities = linear_kernel(tfidf_vectorized[101:103], tfidf_vectorized[1:500]).flatten() # This is comparing cs for article #2 and the next 500."
   ]
  },
  {
   "cell_type": "code",
   "execution_count": 108,
   "metadata": {},
   "outputs": [
    {
     "name": "stdout",
     "output_type": "stream",
     "text": [
      "[100 444 420 138]\n"
     ]
    },
    {
     "data": {
      "text/plain": [
       "array([1.        , 1.        , 0.76497509, 0.69481212])"
      ]
     },
     "execution_count": 108,
     "metadata": {},
     "output_type": "execute_result"
    }
   ],
   "source": [
    "related_docs_indices = cosine_similarities.argsort()[:-5:-1] # This identifies the index of the top 5 most similar.\n",
    "print(related_docs_indices)\n",
    "\n",
    "cosine_similarities[related_docs_indices] # and their related cs"
   ]
  },
  {
   "cell_type": "code",
   "execution_count": 109,
   "metadata": {},
   "outputs": [
    {
     "ename": "IndexError",
     "evalue": "single positional indexer is out-of-bounds",
     "output_type": "error",
     "traceback": [
      "\u001b[0;31m---------------------------------------------------------------------------\u001b[0m",
      "\u001b[0;31mIndexError\u001b[0m                                Traceback (most recent call last)",
      "\u001b[0;32m<ipython-input-109-ea192b0b0e97>\u001b[0m in \u001b[0;36m<module>\u001b[0;34m\u001b[0m\n\u001b[0;32m----> 1\u001b[0;31m \u001b[0mdf\u001b[0m\u001b[0;34m.\u001b[0m\u001b[0miloc\u001b[0m\u001b[0;34m[\u001b[0m\u001b[0;36m443\u001b[0m\u001b[0;34m]\u001b[0m \u001b[0;31m# Going step by step pulling up the most similar articles by index\u001b[0m\u001b[0;34m\u001b[0m\u001b[0;34m\u001b[0m\u001b[0m\n\u001b[0m",
      "\u001b[0;32m~/anaconda3/lib/python3.7/site-packages/pandas/core/indexing.py\u001b[0m in \u001b[0;36m__getitem__\u001b[0;34m(self, key)\u001b[0m\n\u001b[1;32m    877\u001b[0m \u001b[0;34m\u001b[0m\u001b[0m\n\u001b[1;32m    878\u001b[0m             \u001b[0mmaybe_callable\u001b[0m \u001b[0;34m=\u001b[0m \u001b[0mcom\u001b[0m\u001b[0;34m.\u001b[0m\u001b[0mapply_if_callable\u001b[0m\u001b[0;34m(\u001b[0m\u001b[0mkey\u001b[0m\u001b[0;34m,\u001b[0m \u001b[0mself\u001b[0m\u001b[0;34m.\u001b[0m\u001b[0mobj\u001b[0m\u001b[0;34m)\u001b[0m\u001b[0;34m\u001b[0m\u001b[0;34m\u001b[0m\u001b[0m\n\u001b[0;32m--> 879\u001b[0;31m             \u001b[0;32mreturn\u001b[0m \u001b[0mself\u001b[0m\u001b[0;34m.\u001b[0m\u001b[0m_getitem_axis\u001b[0m\u001b[0;34m(\u001b[0m\u001b[0mmaybe_callable\u001b[0m\u001b[0;34m,\u001b[0m \u001b[0maxis\u001b[0m\u001b[0;34m=\u001b[0m\u001b[0maxis\u001b[0m\u001b[0;34m)\u001b[0m\u001b[0;34m\u001b[0m\u001b[0;34m\u001b[0m\u001b[0m\n\u001b[0m\u001b[1;32m    880\u001b[0m \u001b[0;34m\u001b[0m\u001b[0m\n\u001b[1;32m    881\u001b[0m     \u001b[0;32mdef\u001b[0m \u001b[0m_is_scalar_access\u001b[0m\u001b[0;34m(\u001b[0m\u001b[0mself\u001b[0m\u001b[0;34m,\u001b[0m \u001b[0mkey\u001b[0m\u001b[0;34m:\u001b[0m \u001b[0mTuple\u001b[0m\u001b[0;34m)\u001b[0m\u001b[0;34m:\u001b[0m\u001b[0;34m\u001b[0m\u001b[0;34m\u001b[0m\u001b[0m\n",
      "\u001b[0;32m~/anaconda3/lib/python3.7/site-packages/pandas/core/indexing.py\u001b[0m in \u001b[0;36m_getitem_axis\u001b[0;34m(self, key, axis)\u001b[0m\n\u001b[1;32m   1494\u001b[0m \u001b[0;34m\u001b[0m\u001b[0m\n\u001b[1;32m   1495\u001b[0m             \u001b[0;31m# validate the location\u001b[0m\u001b[0;34m\u001b[0m\u001b[0;34m\u001b[0m\u001b[0;34m\u001b[0m\u001b[0m\n\u001b[0;32m-> 1496\u001b[0;31m             \u001b[0mself\u001b[0m\u001b[0;34m.\u001b[0m\u001b[0m_validate_integer\u001b[0m\u001b[0;34m(\u001b[0m\u001b[0mkey\u001b[0m\u001b[0;34m,\u001b[0m \u001b[0maxis\u001b[0m\u001b[0;34m)\u001b[0m\u001b[0;34m\u001b[0m\u001b[0;34m\u001b[0m\u001b[0m\n\u001b[0m\u001b[1;32m   1497\u001b[0m \u001b[0;34m\u001b[0m\u001b[0m\n\u001b[1;32m   1498\u001b[0m             \u001b[0;32mreturn\u001b[0m \u001b[0mself\u001b[0m\u001b[0;34m.\u001b[0m\u001b[0mobj\u001b[0m\u001b[0;34m.\u001b[0m\u001b[0m_ixs\u001b[0m\u001b[0;34m(\u001b[0m\u001b[0mkey\u001b[0m\u001b[0;34m,\u001b[0m \u001b[0maxis\u001b[0m\u001b[0;34m=\u001b[0m\u001b[0maxis\u001b[0m\u001b[0;34m)\u001b[0m\u001b[0;34m\u001b[0m\u001b[0;34m\u001b[0m\u001b[0m\n",
      "\u001b[0;32m~/anaconda3/lib/python3.7/site-packages/pandas/core/indexing.py\u001b[0m in \u001b[0;36m_validate_integer\u001b[0;34m(self, key, axis)\u001b[0m\n\u001b[1;32m   1435\u001b[0m         \u001b[0mlen_axis\u001b[0m \u001b[0;34m=\u001b[0m \u001b[0mlen\u001b[0m\u001b[0;34m(\u001b[0m\u001b[0mself\u001b[0m\u001b[0;34m.\u001b[0m\u001b[0mobj\u001b[0m\u001b[0;34m.\u001b[0m\u001b[0m_get_axis\u001b[0m\u001b[0;34m(\u001b[0m\u001b[0maxis\u001b[0m\u001b[0;34m)\u001b[0m\u001b[0;34m)\u001b[0m\u001b[0;34m\u001b[0m\u001b[0;34m\u001b[0m\u001b[0m\n\u001b[1;32m   1436\u001b[0m         \u001b[0;32mif\u001b[0m \u001b[0mkey\u001b[0m \u001b[0;34m>=\u001b[0m \u001b[0mlen_axis\u001b[0m \u001b[0;32mor\u001b[0m \u001b[0mkey\u001b[0m \u001b[0;34m<\u001b[0m \u001b[0;34m-\u001b[0m\u001b[0mlen_axis\u001b[0m\u001b[0;34m:\u001b[0m\u001b[0;34m\u001b[0m\u001b[0;34m\u001b[0m\u001b[0m\n\u001b[0;32m-> 1437\u001b[0;31m             \u001b[0;32mraise\u001b[0m \u001b[0mIndexError\u001b[0m\u001b[0;34m(\u001b[0m\u001b[0;34m\"single positional indexer is out-of-bounds\"\u001b[0m\u001b[0;34m)\u001b[0m\u001b[0;34m\u001b[0m\u001b[0;34m\u001b[0m\u001b[0m\n\u001b[0m\u001b[1;32m   1438\u001b[0m \u001b[0;34m\u001b[0m\u001b[0m\n\u001b[1;32m   1439\u001b[0m     \u001b[0;31m# -------------------------------------------------------------------\u001b[0m\u001b[0;34m\u001b[0m\u001b[0;34m\u001b[0m\u001b[0;34m\u001b[0m\u001b[0m\n",
      "\u001b[0;31mIndexError\u001b[0m: single positional indexer is out-of-bounds"
     ]
    }
   ],
   "source": [
    "df.iloc[443] # Going step by step pulling up the most similar articles by index"
   ]
  },
  {
   "cell_type": "markdown",
   "metadata": {},
   "source": [
    "## Non-negative Matrix Factorization (NMF)\n",
    "- Unsupervised learning\n",
    "- Good for situations when there's some potentially valid grouping to both rows and columns, such as putting Joe and Sam in the same group because they like similar movies (as opposed to traditional supervised models where there are features and targets)\n",
    "\n",
    "\n",
    "\n",
    "NMF will factorize a document-term matrix `V` into a matrix `W` (where each row is a latent vector of a single document in the corpus) and a matrix `H` (where each column is a latent vector of a single word in the vocabulary). See the docstring of the NMF.fit() method:"
   ]
  },
  {
   "cell_type": "code",
   "execution_count": 113,
   "metadata": {},
   "outputs": [],
   "source": [
    "from src.nmf_helpers import build_text_vectorizer, hand_label_topics, analyze_recipe\n",
    "from src.my_nmf import NMF"
   ]
  },
  {
   "cell_type": "code",
   "execution_count": 114,
   "metadata": {},
   "outputs": [
    {
     "data": {
      "text/plain": [
       "0      Mix the flour and salt together in a large bow...\n",
       "1      Add&nbsp;flour, salt to a large mixing bowl.&n...\n",
       "2      Add&nbsp;flour, salt to a large mixing bowl.&n...\n",
       "3      Pour cold water into a small dish with a few p...\n",
       "4      In the bowl of a food processor; add the flour...\n",
       "                             ...                        \n",
       "339    In a medium mixing bowl, whisk together the wa...\n",
       "340    Combine 1/3 cup of milk and 1 tablespoon of fl...\n",
       "341    In a small bowl, whisk the yeast with the butt...\n",
       "342    Warm the milk, transfer to a bowl and crumble ...\n",
       "343    In a glass measuring cup, combine one cup warm...\n",
       "Name: instructions, Length: 344, dtype: object"
      ]
     },
     "execution_count": 114,
     "metadata": {},
     "output_type": "execute_result"
    }
   ],
   "source": [
    "corpus"
   ]
  },
  {
   "cell_type": "code",
   "execution_count": 115,
   "metadata": {},
   "outputs": [
    {
     "name": "stderr",
     "output_type": "stream",
     "text": [
      "/home/salvir1/anaconda3/lib/python3.7/site-packages/sklearn/feature_extraction/text.py:484: UserWarning: The parameter 'token_pattern' will not be used since 'tokenizer' is not None'\n",
      "  warnings.warn(\"The parameter 'token_pattern' will not be used\"\n"
     ]
    }
   ],
   "source": [
    "# Build text-to-vector vectorizer, then vectorize corpus. This is using a hand-built model to allow for certain functions not available in sklearn.\n",
    "\n",
    "vectorizer, vocabulary = build_text_vectorizer(corpus,\n",
    "                             use_tfidf=True,\n",
    "                             use_stemmer=False,\n",
    "                             max_features=5000)\n",
    "X = vectorizer(corpus)"
   ]
  },
  {
   "cell_type": "code",
   "execution_count": 121,
   "metadata": {},
   "outputs": [
    {
     "name": "stdout",
     "output_type": "stream",
     "text": [
      "iter 0 : reconstruction error: 70.54309328037031\n",
      "iter 1 : reconstruction error: 25.103364659738038\n",
      "iter 2 : reconstruction error: 18.395053848077264\n",
      "iter 3 : reconstruction error: 16.827955129362245\n",
      "iter 4 : reconstruction error: 16.29152935209108\n",
      "iter 5 : reconstruction error: 16.09270500029098\n",
      "iter 6 : reconstruction error: 16.004785836816694\n",
      "iter 7 : reconstruction error: 15.958451306944863\n",
      "iter 8 : reconstruction error: 15.930653778803974\n",
      "iter 9 : reconstruction error: 15.91258574888887\n",
      "iter 10 : reconstruction error: 15.900066717981336\n",
      "iter 11 : reconstruction error: 15.89085475539772\n",
      "iter 12 : reconstruction error: 15.883757314463967\n",
      "iter 13 : reconstruction error: 15.878110757490578\n",
      "iter 14 : reconstruction error: 15.873514385507304\n",
      "iter 15 : reconstruction error: 15.86971285744077\n",
      "iter 16 : reconstruction error: 15.866539679502852\n",
      "iter 17 : reconstruction error: 15.86386478441709\n",
      "iter 18 : reconstruction error: 15.861594757390776\n",
      "iter 19 : reconstruction error: 15.859670003212502\n",
      "iter 20 : reconstruction error: 15.858039782055625\n",
      "iter 21 : reconstruction error: 15.856663466749914\n",
      "iter 22 : reconstruction error: 15.855506606550357\n",
      "iter 23 : reconstruction error: 15.8545333842671\n",
      "iter 24 : reconstruction error: 15.85371618516047\n",
      "iter 25 : reconstruction error: 15.853033126923672\n",
      "iter 26 : reconstruction error: 15.852467184915652\n",
      "iter 27 : reconstruction error: 15.852004859290364\n",
      "iter 28 : reconstruction error: 15.851632612458049\n",
      "iter 29 : reconstruction error: 15.851336884009589\n",
      "iter 30 : reconstruction error: 15.85110150139212\n",
      "iter 31 : reconstruction error: 15.850912582914175\n",
      "iter 32 : reconstruction error: 15.850759677263932\n",
      "iter 33 : reconstruction error: 15.85063616686198\n",
      "iter 34 : reconstruction error: 15.850536230059141\n",
      "FINAL reconstruction error: 15.850456244593197 \n",
      "\n"
     ]
    }
   ],
   "source": [
    "np.random.seed(12345)\n",
    "\n",
    "# Find k latent topics using our NMF model.\n",
    "factorizer = NMF(k=5, max_iters=35, alpha=0.5)\n",
    "W, H = factorizer.fit(X, verbose=True)"
   ]
  },
  {
   "cell_type": "code",
   "execution_count": 119,
   "metadata": {},
   "outputs": [
    {
     "name": "stdout",
     "output_type": "stream",
     "text": [
      "topic 0\n",
      "--> nbsp large paper parchment dish gently flat pin disk hands pastry place together dampen plate rolling smoothly long larger blender\n"
     ]
    },
    {
     "name": "stdin",
     "output_type": "stream",
     "text": [
      "please label this topic:  pie crust\n"
     ]
    },
    {
     "name": "stdout",
     "output_type": "stream",
     "text": [
      "\n",
      "topic 1\n",
      "--> dough minutes bowl mixer cover let speed 1 yeast loaf rise egg place hours 2 oven medium stand doubled loaves\n"
     ]
    },
    {
     "name": "stdin",
     "output_type": "stream",
     "text": [
      "please label this topic:  brioche\n"
     ]
    },
    {
     "name": "stdout",
     "output_type": "stream",
     "text": [
      "\n",
      "topic 2\n",
      "--> crust dough pulse water processor plate add wrap shortening mixture flour food butter together ice 1 cold fork plastic disc\n"
     ]
    },
    {
     "name": "stdin",
     "output_type": "stream",
     "text": [
      "please label this topic:  pi crust\n"
     ]
    },
    {
     "name": "stdout",
     "output_type": "stream",
     "text": [
      "\n",
      "topic 3\n",
      "--> cake pan batter powder oil sugar zest baking bundt vanilla lemon eggs oven flour add italian beat toothpick pour orange\n"
     ]
    },
    {
     "name": "stdin",
     "output_type": "stream",
     "text": [
      "please label this topic:  ciambellone\n"
     ]
    },
    {
     "name": "stdout",
     "output_type": "stream",
     "text": [
      "\n",
      "topic 4\n",
      "--> dough butter roll fold pastry rectangle flour rolling square wrap make 1 inch 2 fridge third cut inches side place\n"
     ]
    },
    {
     "name": "stdin",
     "output_type": "stream",
     "text": [
      "please label this topic:  croissant\n"
     ]
    },
    {
     "name": "stdout",
     "output_type": "stream",
     "text": [
      "\n"
     ]
    }
   ],
   "source": [
    "# Label topics and analyze a few recipes.\n",
    "hand_labels = hand_label_topics(H, vocabulary)"
   ]
  },
  {
   "cell_type": "code",
   "execution_count": 120,
   "metadata": {},
   "outputs": [
    {
     "name": "stdout",
     "output_type": "stream",
     "text": [
      "You can always depend on this cake - it always turns out just right, with a zesty lemon flavour to boot. Olive oil means that it has a marvellous moist texture, even a day or two after cooking.We recently harvested over 700kg of olives from Carlo's family property and they have been cold pressed into a peppery olive oil. So it's the perfect time to make the luscious Tuscan ciambellone to eat with our coffee.In Australia it's often said that you don't cook with extra virgin olive oil - that you should use a lighter olive oil for cooking. But this cake is an exception to the rule, hence I always make it when our family-made Italian olive oil comes back from being pressed.Enjoy!Sioban Ciambellone Recipe (Italian Olive oil cake) Serves 8 Ingredients 2 x 50g eggs1 ¼ cups caster sugar¾ cup extra virgin olive oil¾ cup skim milkzest of 2 lemons and juice of 1 lemon1 ¼ cup plain flour1 heaped tsp baking powder (or 1 16 g sachet of lievito)¼ tsp baking soda (don’t add this if you have the lievito)dash of salticing sugar for dusting Method Preheat oven to 170° C and butter and flour a 9-inch round cake pan.In a large bowl, whisk eggs and sugar.Add olive oil, milk and lemon zest and juice and mix well.In a separate bowl, sift flour, baking powder, baking soda and salt (or 1 pack of lievito).Add to olive oil batter and stir just until smooth.Pour into prepared pan and bake for 30 to 40 minutes, or until cooked.Let cake cool completely, then turn out onto a plate and dust with icing sugar.\n",
      "\n",
      "\n",
      "\n",
      "\n",
      "\n",
      "\n",
      "\n",
      "\n",
      "--> 0.00% pie crust\n",
      "--> 0.00% brioche\n",
      "--> 0.00% pi crust\n",
      "--> 100.00% ciambellone\n",
      "--> 0.00% croissant\n",
      "\n",
      "\n",
      "On Coquinaria are several historical recipes for puff pastry. On this page is a modern version. While I was searching online I saw some recipes for puff pastry that are actually just for flaky dough. Puff pastry is a kind of flaky dough, but to make puff pastry it takes something extra. Because just folding and rolling out several times flaky dough is not enough.\n",
      "Modern puff pastry is made with a lot of butter and without eggs, although the puff pastry from Lancelot de Casteau does contain eggs. The basic dough for puff pastry is made with butter, and during the first time the dough is rolled out, extra butter is added. The butter must remain visible in the dough. During the baking process the butter separates the dough into very thin layers. There are several methods to add the butter. The French method is (naturally) the most exquisite but also the most complicated. The German method is rather unwieldy, the Dutch method is more simple and handy, but of course my own method is not bad at all. The recipe below is inspired by the recipe for puff pastry by Glasse and Farley from the eighteenth and nineteenth century.\n",
      "In short\n",
      "\n",
      "French puff pastry – Make a flaky dough with 20% of the total weight of flour in butter, and let it rest for a half hour in the refrigerator. Then roll out the dough and put a large square lump of butter on it. Fold the dough over the butter and roll it out again. Fold in three and roll out once more. Fold again and let rest for a half hour.\n",
      "German puff pastry – Prepare a dough with just flour and water (let it rest for a half hour), and a second dough with 20% of the total weight of flour in butter. Roll out the water dough, roll out the butter dough (on baking paper), and put that on one half of the sheet of water dough. Fold the other half of the water dough over the butter dough and seal the edges with water. Roll out the dough, fold, let rest, et cetera.\n",
      "Dutch puff pastry – Make a flaky dough with 20% of the total weight of flour in butter, and let it rest for a half hour in the refrigerator. Then knead the rest of the butter in small pieces through the dough, take care that the butter pieces remain visible. Roll out, fold, let rest, et cetera.\n",
      "My puff pastry – Make a flaky dough with 20% of the total weight of flour in butter, and let it rest for a half hour in the refrigerator. Roll out the dough, and cover one half with thin slices of cold butter. Fold the other half of the dough over the butter. Roll out, fold, let rest, et cetera.\n",
      "\n",
      "My puff pastry recipe in detail\n",
      "\n",
      "250 gr (2 cups) sifted flour\n",
      "50 gr (3 Tbsp + 1 tsp) cold butter in small cubes\n",
      "½ tsp salt\n",
      "1⅜ dl ice cold water (137 gr)\n",
      "120 to 150 gr cold butter, thinly sliced\n",
      "Preparation\n",
      "Put the water in the refrigerator for about 30 minutes (especially during summer!).\n",
      "Sift the flour, dice the butter. I always add a little flour to the butter to prevent the lumps of butter sticking together.\n",
      "Knead flour, salt and water into a dough, than add the pieces of butter and knead again. The butter must remain visible. Cover the dough and let is rest for a half hour in the refrigerator.\n",
      "Sprinkle some flour on the worktop. Roll out the dough to a more or less rectangular sheet. Use a slicer or knife to cut thin slices from a stick of butter, and cover one half of the dough with them. Leave ½ to 1 inch (1 to 2 cm) free around the edges. Fold the other half over the butter slices, press the edges to seal the butter inside. Roll the dough out again, fold it and let rest, wrapped in plastic foil, in the refrigerator for about 30 minutes.\n",
      "Then take the dough out again and roll out once more: first in one direction, fold, then in the other direction (at 90° angle). Repeat two more times.\n",
      "Puff pastry can be baked at high temperatures, as it does not contain any sugar (220 °C/430 °F or more). It takes about 20 minutes to bake puff pastry. This has consequences for the stuffing: it has to be done in that time too.\n",
      "Puff pastry dough is easy to freeze, but do that as a sheet, and not as a big round ball of dough.\n",
      "\n",
      "\n",
      "--> 0.00% pie crust\n",
      "--> 0.00% brioche\n",
      "--> 0.00% pi crust\n",
      "--> 0.00% ciambellone\n",
      "--> 100.00% croissant\n",
      "\n",
      "\n",
      "\n",
      "Basic Brioche Dough \n",
      "Here’s a standard brioche dough that will make twelve 1.6-ounce brioche à têtes, one single loaf, or a batch of cinnamon (a.k.a. “sticky”) buns. Start by putting into a bowl:\n",
      "2 tablespoons milk\n",
      "1 tablespoon sugar\n",
      "1/4 teaspoon instant yeast\n",
      "3 ounces all-purpose flour\n",
      "1 egg\n",
      "\n",
      "Stir all of it together withe a fork until the mixture is the consistency of a thick batter. \n",
      "\n",
      "This is your sponge. Use it right away or, for best flavor, make it a day ahead of time, let it ferment for an hour at room temperature then refrigerate it overnight. When you’re ready to prepare your dough scrape it into the bowl of an electric mixer.\n",
      "\n",
      "Then whisk together a mixture of:\n",
      "6 ounces all-purpose flour\n",
      "2 tablespoons sugar\n",
      "1 1/4 teaspoons instant yeast\n",
      "1/2 teaspoon salt \n",
      "Like so:\n",
      "\n",
      "…and sprinkle over the sponge in the mixer bowl. \n",
      "\n",
      "Let it sit for 2 hours, 2 1/2 – 3 if the sponge was refrigerated. The dome of dry mix will crack as the sponge expands. It may even bubble through in a few spots. This is good. \n",
      "\n",
      "To mix, add two cold eggs and using the dough hook, beat the mixture for 2-3 minutes on medium speed. \n",
      "\n",
      "When it gets to looking like so…\n",
      "\n",
      "…start adding your butter. With the machine running, begin to add 4 ounces of very soft butter. If you want the brioche to rise high, say for a  large brioche loaf, go a little lighter, maybe 2 1/2 ounces. If you’re making something rich like cinnamon rolls, the full four ounces work great. For maximum flavor use an ounce or two of browned butter. Add it a tablespoon at a time, letting the dough absorb each addition before adding another, about two minutes of mixing per tablespoon of butter. \n",
      "\n",
      "Notice how light and sticky the dough gets. This is a terrific consistency for something like cinnamon rolls or têtes-de-brioche. Again if you want a higher-rising brioche, keep kneading the dough for another ten minutes or so to develop more structure (gluten). \n",
      "\n",
      "Once the dough is uniform (and it might take an extra bowl scraping or two), scrape it into a oiled bowl or rising container.  \n",
      "\n",
      "Let it rise another 1 1/2 hours until it looks about like so:\n",
      "\n",
      "Drape a piece of plastic wrap over it and deflate it by gently pressing down on it with your hand.\n",
      "\n",
      "Put it into the refrigerator, letting it chill for a minimum of two hours, preferably overnight, to firm it (you’ll likely need to deflate it one more time after the first hour or so). For maximum flavor let it ripen for up to  three days in the fridge. It can be frozen for several months. \n",
      "\n",
      "--> 0.01% pie crust\n",
      "--> 99.77% brioche\n",
      "--> 0.10% pi crust\n",
      "--> 0.02% ciambellone\n",
      "--> 0.10% croissant\n",
      "\n",
      "To help guarantee success, I recommend reading through the recipe, watching the video tutorial, and reading the explanations below this recipe. (All answer many FAQs.) Do not use an electric mixer for this dough. It&#8217;s best if the dough is folded together with a wooden spoon or rubber spatula since it is so sticky. There is very minimal mixing required.Whisk the warm water, yeast, and 1 Tablespoon (6g) of sugar together in a large bowl. Cover and allow to rest until foamy on top, about 5 minutes. If the surface doesn&#8217;t have bubbles on top or look foamy after 15 minutes (it should if the yeast isn&#8217;t expired), start over with a fresh packet of yeast. Whisk in remaining sugar, the milk, egg, and salt. Once these wet ingredients are mixed together, lightly cover and set the bowl aside as you work on the next step.Cut the cold butter into 1/4 inch slices and add to a food processor or blender. Top with 2 and 1/2 cups flour. Pulse the mixture 12-15 times, until butter is crumbled into pea-size bits. See photo below for a visual. Using a food processor or blender is best for this dough. Keeping that in mind, if you don&#8217;t have one, you can use a pastry cutter to work in the butter.Pour the flour mixture into the wet yeast mixture. Very gently fold everything together using a rubber spatula or wooden spoon. Fold *just until* the dry ingredients are moistened. The butter must remain in pieces and crumbles, which creates a flaky pastry. Turn the sticky dough out onto a large piece of plastic wrap, parchment paper, aluminum foil, or into any container you can tightly cover.Wrap the dough/cover up tightly and refrigerate for at least 4 hours and up to 48 hours.Take the dough out of the refrigerator to begin the “rolling and folding” process. If the dough sat for more than 4 hours, it may have slightly puffed up and that&#8217;s ok. (It will deflate as you shape it, which is also ok.) Very generously flour a work surface. The dough is very sticky, so make sure you have more flour nearby as you roll and fold. Using the palm of your hands, gently flatten the dough into a small square. Using a rolling pin, roll out into a 15&#215;8 inch rectangle. When needed, flour the work surface and dough as you are rolling. Fold the dough into thirds as if it were a business letter. (See photos and video tutorial.) Turn it clockwise and roll it out into a 15 inch long rectangle again. Then, fold into thirds again. Turn it clockwise. You’ll repeat rolling and folding 1 more time for a total of 3 times.Wrap up/seal tightly and refrigerate for at least 1 hour and up to 24 hours. You can also freeze the dough at this point. See freezing instructions.Line two large baking sheets with parchment paper or silicone baking mats. Rimmed baking sheets are best because butter may leak from the dough as it bakes. If you don&#8217;t have rimmed baking sheets, when it&#8217;s time to preheat the oven, place another baking sheet on the oven rack below to catch any butter that may drip.Take the dough out of the refrigerator and cut it in half. Wrap 1 half up and keep refrigerated as you work with the first half. (You can freeze half of the dough at this point, use the freezing instructions below.)On a floured work surface, roll dough out into a 12&#215;8 inch rectangle. You can roll out the dough on a lightly floured piece of parchment paper or lightly floured silicone baking mat instead because you will transfer the shaped dough to a lined baking sheet next.Using a sharp knife, cut off two corners of the dough (on one 8-inch side) and then two small triangles 3 inches apart from each other on the other end (the other 8-inch side). See visual below.Spread 1/2 of the filling (raspberry or cream cheese) down the length of the center of the strip, which should be about 3 inches wide. Using a sharp knife, pastry wheel, or pizza cutter, cut 10 slanting strips (3/4 &#8211; 1 inch wide each) along both sides. Fold strips over filling, alternating each side to resemble a twist or a braid. Fold the bottom end up to seal the filling inside. Repeat with the second half of the dough and the rest of the filling. The braids may seem very narrow, but they puff up and out as they bake.Whisk the egg wash ingredients together. Brush all over the dough.I strongly recommend refrigerating the shaped braids before baking for at least 15 minutes and up to 1 hour before baking. The braids tend to leak more butter and/or lose more shape if they haven&#8217;t chilled.Preheat oven to 400°F (204°C).Bake each braid for 18-22 minutes or until golden brown. Some butter may leak from the dough, that&#8217;s completely normal and expected. Feel free to remove the baking sheets from the oven halfway through baking and brush the dough with any of the leaking butter, then place back in the oven to finish baking. (That&#8217;s what I do!)Remove baked danish braids from the oven and cool for at least 5 minutes before cutting and serving.\n",
      "--> 0.00% pie crust\n",
      "--> 0.01% brioche\n",
      "--> 0.00% pi crust\n",
      "--> 0.00% ciambellone\n",
      "--> 99.99% croissant\n",
      "\n",
      "Make the dough: Stir yeast, water, and 1 teaspoon sugar in a bowl. Let stand until foamy, about 5 minutes. Butter a large bowl; set aside. Put bread flour, all-purpose flour, remaining 3 tablespoons plus 2 teaspoons sugar, and the salt into the bowl of an electric mixer fitted with the dough hook; mix on low speed until combined. Add yeast mixture, milk, and butter; mix until dough just comes together.Knead dough: Scrape dough out onto a lightly floured work surface. Using lightly floured hands, knead until smooth, about 3 minutes. Transfer to buttered bowl, turning to coat.Let dough rise: Cover dough with plastic wrap; transfer to the refrigerator. Let rise until doubled in bulk, about 2 hours (dough should not spring back when you press it with your finger).Make the butter package: About 45 minutes after the dough begins rising, put flour and butter into the clean bowl of an electric mixer fitted with the paddle attachment. Mix on medium speeduntil well combined, 3 to 4 minutes. Scrape butter mixture out onto a piece of parchment paper; shape into a rectangle. Top with parchment, and roll out to an 8-by-10-inch rectangle. Transfer to a baking sheet, and refrigerate 30 minutes.Roll out dough: Turn out dough onto a lightly floured work surface; shape into a rectangle. Roll out to a 10 1/2-by-16-inch rectangle, about 1/2 inch thick, with short side facing you.Place butter package on dough: The butter package should be cool but pliable; your finger should leave an indentation but the butter should still hold its shape. If too soft, continue to refrigerate; if too firm, let stand at room temperature briefly. Place horizontally on bottom half of dough; remove parchment. Fold top half of dough over butter package, and pinch edges of dough to seal.Roll in butter: Turn dough so that a short side is facing you and the seam is on the right. Roll out to a 10-by-20-inch rectangle, about 1/2 inch thick (keep the corners as square as possible).Fold dough into thirds: Remove any excess flour with a pastry brush. Starting at the far end, fold rectangle in thirds as you would a business letter (this completes the first of 3 \"turns\").Mark dough: Mark the dough with your knuckle (later, this will help you remember how many turns have been completed). Wrap dough in plastic, and refrigerate 1 hour.Repeat process: Remove from refrigerator, and press the dough; it should be pliable but have some resistance. If too soft, return to refrigerator; if too firm, let stand at room temperature, 5 minutes. Repeat the preceding three steps to complete two more turns (make 2 marks for the second turn and 3 marks for the third turn); always start with a short side facing you and the seam on the right, rolling lengthwise before crosswise. After the second turn, wrap dough in plastic, and refrigerate 1 hour. After the third and final turn, wrap dough in plastic, and refrigerate 8 hours (or overnight).Roll out and chill dough: Turn out dough onto a lightly floured work surface, and roll out to a 30-by-16-inch rectangle. If dough becomes unmanageable, cut in half crosswise, and roll out two 15-by-16-inch rectangles (refrigerate 1 piece as you work with the other). Chill in freezer 15 minutes. Remove dough, and remeasure: It should match original dimensions; if not, roll out again. If dough becomes too warm or elastic, chill in freezer, 15 minutes.Cut dough: Cut dough into two 30-by-8-inch rectangles (or four 15-by-8-inch rectangles). Stack rectangles, lining up edges (if you have four smaller rectangles, make two stacks).Trim dough and cut into triangles: Using a pastry or pizza wheel and cutting at a 20-degree angle, trim a small wedge from one short side to create an angled side. Cut dough into triangles, each with a 4 1/2-inch base. You should have about 20 total.Cut slits: Cut a 1-inch slit in the middle of the base of each triangle. Separate the stacks, transferring half the triangles to a parchment-lined baking sheet; cover, and refrigerate.Begin shaping croissants: Working with one triangle at a time and keeping remaining triangles covered with a clean kitchen towel, hold the two corners of the base, and stretch to lengthen it slightly. Grasp inner corners formed by the slit in the base, and lift and stretch them toward the outer sides of the triangle; press to seal.Roll croissants: Using your fingertips, roll the base of the triangle up and away from you, stretching the dough slightly outward as you roll to elongate the point (when finished, the point should be tucked under the croissant).Finish shaping croissants: Bend the two ends toward you to form a crescent shape (the ends should almost touch). Transfer to parchment-lined baking sheets, spacing croissants 2 inches apart. Repeat with remaining triangles. Cover loosely with plastic wrap, and let stand in a warm place until croissants have doubled in bulk and are very soft, 1 1/2 hours to 2 1/4 hours, depending on the temperature of room.Brush with egg: Preheat oven to 400 degrees, with racks in upper and lower thirds. Brush tops of croissants with egg. Bake, rotating sheets halfway through, until croissants are puffed and golden brown, 20 to 25 minutes. Let cool slightly on sheets on wire racks. Serve warm or at room temperature.\n",
      "--> 0.00% pie crust\n",
      "--> 0.02% brioche\n",
      "--> 0.00% pi crust\n",
      "--> 0.00% ciambellone\n",
      "--> 99.98% croissant\n",
      "\n",
      "\n",
      "\n",
      "Listen to this: My editor at Bazaar took me out to lunch before the holidays and congratulated me for eating the bread out of the bread basket that was placed on the table while we waited for our meal. (The chewy, delicious bread, I might add, though I would have eaten it even if it hadn't been good, because I am a human and it was lunchtime and I was hungry.)\n",
      "She.\n",
      "Congratulated.\n",
      "Me.\n",
      "She ate the bread, too, mind. It's just that she's the only person she knows - besides me now, I guess - who still actually eats bread. And pasta. And springs for two courses on a business lunch. Sigh.\n",
      "You all know I like a good New Year's resolution as much as the next person. I'm all about fresh starts and good intentions, I really am. Why, just the other day I ordered a ginger-apple-carrot juice with breakfast myself! But when congratulations are offered on eating a piece of bread, for the love of Pete, I feel like this whole cleanse/no-carb/juice/detox mania has officially reached crazy-making levels. (Exhibit A: Elevating Adaptogenic Latte. What?) And while I'm at it: can we once and for all get rid of the term \"clean eating\"? It makes my head hurt.\n",
      "So, in light of all of this, I've decided to post a second recipe for cake in one week. I feel like it's my civic duty or something.\n",
      "Without further ado: Ciambellone! (chahm-bell-ohn-eh) Also known as the only cake my mother knows how to make. (More or less.)\n",
      "Ciambellone is a sunny, simple tube cake made with yogurt and lemon peel. It's tender and fragrant, has a good, sensible crumb, lasts for a few days on the kitchen counter, is not-too-sweet, easy to make, and very nice for breakfast (with a glass of green juice or without). It's also good at teatime and as a snack for little children. In other words, it's a perfect everyday cake.\n",
      "(Other perfect everyday cakes: Catherine Newman's Donut Cake, Deborah Madison's Poppyseed Cake and Alice Medrich's Kamut Pound Cake, all of which I adore passionately and do not make nearly enough. I blame that thing I'm working on. On my to-make-soon list, though, is Molly's whole-wheat riff on an Edna Lewis cake, which looks right up my alley. Consider it my New Year's resolution!)\n",
      "I suspect you will be relieved to know that ciambellone does not require confectioners' sugar on top or an icing of any kind or new-fangled additions to the batter. It is simplicity itself, wholesomeness incarnate. But most of all, it's just a happy-making little thing. Which makes it just right for gray, old January. Or any other month out of the year.\n",
      "Three cheers for cake!\n",
      "POSTSCRIPT: In the most thrilling news ever (to me, obvs), precisely 9 years, 5 months and 1 week after I started this blog, I can finally offer you a printable recipe! I apologize deeply for it having taken  so long. Now, when you get to the bottom of the recipe, you'll see a little Print this recipe link. Click on that and you'll get the recipe in PDF form. Which means that when you print, all you'll get is the recipe itself. No post, no pictures and no pesky comments. Hooray! This feature is - for now - only available on recipes starting from today.\n",
      "CiambelloneMakes one 9-inch tube cakeNote: The original recipe calls for 1/2 packet of Pane degli Angeli, which is Italian vanilla-flavored baking powder. If you have access to that, use it - it's lovely - and leave out the vanilla extract and baking powder below. If you don't have access to Pane degli Angeli, follow the recipe below.\n",
      "3/4 cup minus 1 tablespoon (150 grams) sugar2 large eggs3.5 ounces/7 tablespoons (100 grams) unsalted butter, melted1/2 cup (125 grams) plain whole-milk yogurt1 teaspoon vanilla extractGrated peel of 1/2 organic lemon1 2/3 cup (200 grams) all-purpose flour2 teaspoons baking powder\n",
      "1. Heat the oven to 350 F/180 C. Butter a tube pan.\n",
      "2. Place the sugar, eggs, melted butter, yogurt, vanilla extract, and grated lemon peel in a bowl. Beat with an electric mixer until smooth. Then slowly beat in the flour. Finally, beat in the baking powder. Scrape the batter immediately into the prepared cake pan, even the top and bake for 30 minutes, until a rich golden-brown.\n",
      "3. Let the cake cool on a rack for 15 minutes, then turn the pan upside-down and unmold the cake. Let cool completely before serving. Loosely covered with plastic wrap, the cake will keep at room temperature for 3 days.\n",
      "Print this recipe\n",
      "\n",
      "\n",
      "\n",
      "--> 0.00% pie crust\n",
      "--> 0.00% brioche\n",
      "--> 0.00% pi crust\n",
      "--> 100.00% ciambellone\n",
      "--> 0.00% croissant\n",
      "\n",
      "\n",
      "\n",
      "Fever, February, Fishbones & Fenugreek are not things that grab you as having a lot in common, but on this ever-steep learning curve of Abruzzo culture, I also get to understand the history of words in my native English.\n",
      "The 3rd February is the feast day of Armenian San Biagio (Saint Blaise).  He was a hermit who was fed by the animals of a nearby forest and who he, in turn, fed when they were ill. His fame stems from melting a fishbone that had stuck in a child’s throat and he’s now the patron saint of throat afflictions. He’s more often than not depicted with wild animals in frescos in churches but sometimes as a pair of wool combs as he died rather nastily by these tearing him apart to “earn” his martyrdom.\n",
      "\n",
      "Of course it is no coincidence that his miracle is celebrated in February. The original meaning of February stems from the Latin for fever, febris, and it’s this time of year that the Romans had their februa ‘purifying’ festival. This built on the idea that fevers were positive, a purifying test, and if you got through you’d be all set for sunny spring. Numa Pompilius, King of Rome in c700bc built this purification festival into a month when 10 months became 12 in the Roman calendar.\n",
      "Yesterday evening our Italian teacher’s mamma kindly sent us these Ciambella di S. Biagio to start the day with; children are expected to eat a whole one in protection for the coming year.  If they are really diligent and make it to church, olio santo, the best of the oil from the previous harvest which is still given to the local priest and used in blessings is rubbed onto the adam’s apple.\n",
      "\n",
      "The ciambella are surprisingly moreish despite their dryness, great dipped in a small glass of wine, and strangely great with a cup of coffee or Earl Grey tea. Their secret protective ingredient is fenugreek. These seeds are considered a traditional cure for fevers, hot flushes, bronchial problems.\n",
      "The recipes for these biscuits vary from village to village I am sure, and probably a little different to Abruzzo’s most popular 3-day sagra for St Biagio in Castiglione a Casauria.  Here the Ciambella di S. Biagio are dipped in an ancient local wine called Moscato di Castiglione.   In Taranta Peligna, the unsalted biscuits created to celebrate their patron saint are known as Panicelle, which resemble the Saint giving a traditional blessing, here’s the local community making them for their celebration.\n",
      "\n",
      " \n",
      "This recipe is taken from ‘L’antica Cucina Teramana’ by Nunzia D’Antuono, a collective of Grandmas’ recipes from the small town of Tossicia .\n",
      " \n",
      "\n",
      "\n",
      "\n",
      "Ciambella di S. Biagio\n",
      "\n",
      "Sammy Dunham\n",
      "\n",
      "Abruzzo's traditional biscuits to ward off February fevers\n",
      "\n",
      "\n",
      "\n",
      " Print Recipe\n",
      " Pin Recipe\n",
      "\n",
      "\n",
      " \n",
      "Prep Time 10 minsCook Time 10 minsTotal Time 20 mins\n",
      "\n",
      "\n",
      "\n",
      " \n",
      "Course DessertCuisine Italian\n",
      "\n",
      "\n",
      " \n",
      "\n",
      "\n",
      "Ingredients  5 Eggs5 heaped tablespoons Olive Oil5 heaped tablespoons Caster Sugar2 heaped teaspoons of crushed fenugreek seedsFlour – add until you have a stiff dough that resembles that for pasta\n",
      "Instructions Mix the eggs, oil and sugar together, and slowly add flour till you get a pasta like dough.Pull off a small piece of the dough and roll into a worm like shape with your hands and then join each end together.Have a pan of boiling water ready and literally dip your circular biscuits in and out, this acts as a starch tightener and helps them keep their shape.Bake in the oven at 170C until they look toasty.\n",
      "\n",
      " \n",
      "\n",
      "\n",
      " \n",
      " \n",
      "Enter your name and email and get the seasonal newsletter... it's FREE!Receive all our latest posts, offers and giveaways straight to your inboxYour information will *never* be shared or sold to a 3rd party\n",
      "\n",
      "350SHARESShareTweet\n",
      "\n",
      "\n",
      "\n",
      "\n",
      "\n",
      "\n",
      "\n",
      "Fever, February, Fishbones & Fenugreek are not things that grab you as having a lot in common, but on this ever-steep learning curve of Abruzzo culture, I also get to understand the history of words in my native English.\n",
      "The 3rd February is the feast day of Armenian San Biagio (Saint Blaise).  He was a hermit who was fed by the animals of a nearby forest and who he, in turn, fed when they were ill. His fame stems from melting a fishbone that had stuck in a child’s throat and he’s now the patron saint of throat afflictions. He’s more often than not depicted with wild animals in frescos in churches but sometimes as a pair of wool combs as he died rather nastily by these tearing him apart to “earn” his martyrdom.\n",
      "\n",
      "Of course it is no coincidence that his miracle is celebrated in February. The original meaning of February stems from the Latin for fever, febris, and it’s this time of year that the Romans had their februa ‘purifying’ festival. This built on the idea that fevers were positive, a purifying test, and if you got through you’d be all set for sunny spring. Numa Pompilius, King of Rome in c700bc built this purification festival into a month when 10 months became 12 in the Roman calendar.\n",
      "Yesterday evening our Italian teacher’s mamma kindly sent us these Ciambella di S. Biagio to start the day with; children are expected to eat a whole one in protection for the coming year.  If they are really diligent and make it to church, olio santo, the best of the oil from the previous harvest which is still given to the local priest and used in blessings is rubbed onto the adam’s apple.\n",
      "\n",
      "The ciambella are surprisingly moreish despite their dryness, great dipped in a small glass of wine, and strangely great with a cup of coffee or Earl Grey tea. Their secret protective ingredient is fenugreek. These seeds are considered a traditional cure for fevers, hot flushes, bronchial problems.\n",
      "The recipes for these biscuits vary from village to village I am sure, and probably a little different to Abruzzo’s most popular 3-day sagra for St Biagio in Castiglione a Casauria.  Here the Ciambella di S. Biagio are dipped in an ancient local wine called Moscato di Castiglione.   In Taranta Peligna, the unsalted biscuits created to celebrate their patron saint are known as Panicelle, which resemble the Saint giving a traditional blessing, here’s the local community making them for their celebration.\n",
      "\n",
      " \n",
      "This recipe is taken from ‘L’antica Cucina Teramana’ by Nunzia D’Antuono, a collective of Grandmas’ recipes from the small town of Tossicia .\n",
      " \n",
      "\n",
      "\n",
      "\n",
      "Ciambella di S. Biagio\n",
      "\n",
      "Sammy Dunham\n",
      "\n",
      "Abruzzo's traditional biscuits to ward off February fevers\n",
      "\n",
      "\n",
      "\n",
      " Print Recipe\n",
      " Pin Recipe\n",
      "\n",
      "\n",
      " \n",
      "Prep Time 10 minsCook Time 10 minsTotal Time 20 mins\n",
      "\n",
      "\n",
      "\n",
      " \n",
      "Course DessertCuisine Italian\n",
      "\n",
      "\n",
      " \n",
      "\n",
      "\n",
      "Ingredients  5 Eggs5 heaped tablespoons Olive Oil5 heaped tablespoons Caster Sugar2 heaped teaspoons of crushed fenugreek seedsFlour – add until you have a stiff dough that resembles that for pasta\n",
      "Instructions Mix the eggs, oil and sugar together, and slowly add flour till you get a pasta like dough.Pull off a small piece of the dough and roll into a worm like shape with your hands and then join each end together.Have a pan of boiling water ready and literally dip your circular biscuits in and out, this acts as a starch tightener and helps them keep their shape.Bake in the oven at 170C until they look toasty.\n",
      "\n",
      " \n",
      "\n",
      "\n",
      " \n",
      " \n",
      "Enter your name and email and get the seasonal newsletter... it's FREE!Receive all our latest posts, offers and giveaways straight to your inboxYour information will *never* be shared or sold to a 3rd party\n",
      "\n",
      "350SHARESShareTweet\n",
      "\n",
      "\n",
      "\n",
      "\n",
      "\n",
      "\n",
      "--> 3.24% pie crust\n",
      "--> 3.24% brioche\n",
      "--> 6.36% pi crust\n",
      "--> 59.06% ciambellone\n",
      "--> 28.11% croissant\n",
      "\n",
      "First, start by hydrating the yeast by stirring it with the warm milk in the bowl of an electric mixer fitted with the paddle attachment. Let stand for 8 minutes.Add the flour and salt, and mix together on low until you get a dry, shaggy mixture.Add the eggs, one at a time, along with the sugar, beating between each addition.Switch to the dough hook attachment and beat the dough until you get a smooth dough and the bowl is clean (scrape down the dry bits stuck to the sides as you go to be sure that all the ingredients get incorporated into the dough). This will take about 3 to 4 minutes.Switch back to the paddle and dump in all the butter, and beat it into the dough. The dough will break down and become sticky and messy, but when it starts to form a more cohesive mass, switch back to the dough hook and beat on low (speed 2 on a KitchenAid mixer) for about 10 minutes or so, or until the dough is smooth and elastic, and the bowl is clean again.Butter a bowl and transfer the dough to the bowl. Cover with saran wrap. Let rise on the counter until it has doubled (I left mine for almost 3 hours), then punch it down to deflate, cover, and leave in the fridge overnight.The next morning, divide the dough into 8 pieces, and quickly roll them on the counter to make dough balls. Don’t work the dough too long or you risk melting the butter. Butter 8 slots of a muffin tin and place a dough ball in each. Place the muffin pan on a rimmed baking sheet and cover with a sheet of waxed paper. Put the sheet in the oven (turned off!) with just the light on. Let the dough balls rise until they have doubled (about 1.5 hours). When the dough has doubled, take the pan out of the oven and set it on the counter while you preheat the oven to 400ºF.Meanwhile, mix the egg with 1 tsp water and brush lightly onto each bun (there will be leftover egg wash—you don’t need to use it all). When the oven is preheated, bake for 15–20 minutes, until the tops are a deep golden brown. Let cool 10 minutes before unmolding. Serve warm with homemade jam or marmalade, and more butter, if you dare.\n",
      "--> 0.00% pie crust\n",
      "--> 100.00% brioche\n",
      "--> 0.00% pi crust\n",
      "--> 0.00% ciambellone\n",
      "--> 0.00% croissant\n",
      "\n",
      "The secret is homemade stored dough, mixed and refrigerated for up to two weeks... more\n",
      "\n",
      "Here is a classic fall recipe with a twist. I’ve added the tartness of pomegranate seeds to the mellow sweetness of pears and draped the whole thing in a rich, buttery, tender brioche dough. It is a lovely and quick dessert, especially if you have a bucket of brioche on hand. For those of you who do not already own The New Artisan Bread in Five Minutes a Day, here is the recipe and it can be used for all of these wonderful treats: caramel sticky buns, grilled fruit tart, fresh fruit muffins, Brioche à tête, apricot pastries and fabulous doughnuts! Actually the possibilities are endless, just use your imagination and let us know what treats you’ve come up with.\n",
      "Brioche Dough (makes about 4 loaves)\n",
      "\n",
      "1 1/2 cups (340g) lukewarm water\n",
      "1 tablespoon Red Star Platinum, Active Dry, or Quick-Rise yeast (1 packet)\n",
      "1 tablespoon kosher salt\n",
      "8 large eggs at room temperature, lightly beaten\n",
      "1/2 cup (170g) honey\n",
      "1 1/2 cups (340g) unsalted butter, melted\n",
      "7 1/2 cups (1065g) unbleached all-purpose flour\n",
      "Mix the yeast, salt, eggs honey and melted butter with the water in a 5-quart bowl, or lidded (not airtight) food container.\n",
      "Mix in the flour, using a spoon until all of the flour is incorporated.\n",
      "Cover (not airtight), and allow to sit at room temperature for about two hours. Note: Sometimes with brioche, with so much cold egg, if you don’t use warm enough water, the initial rise can be very slow. Professionals would fix this by letting the eggs come to room temperature, which solves the problem. You can do that, or just make sure that your final mixture of egg/butter/water is nice and warm (but not hot, or you can kill the yeast).\n",
      "The dough can be used as soon as it is chilled. This dough is way too sticky to use after the initial rise, but once it is chilled it is very easy to handle. It can be used to create the Tatin or any of these brioche recipes: caramel sticky buns, grilled fruit tart, Fresh Fruit Muffins, Brioche à tête, apricot pastries and fabulous doughnuts! The dough can be stored in the refrigerator for up to 5 days. After that you can freeze the dough.\n",
      "Share this:Click to email this to a friend (Opens in new window)Click to print (Opens in new window)Click to share on Facebook (Opens in new window)Click to share on Twitter (Opens in new window)Click to share on Pinterest (Opens in new window)Click to share on Tumblr (Opens in new window)Click to share on Pocket (Opens in new window)Click to share on Reddit (Opens in new window)\n",
      "\n",
      "Related\n",
      " \n",
      "\n",
      "\n",
      "The secret is homemade stored dough, mixed and refrigerated for up to two weeks... more\n",
      "--> 1.60% pie crust\n",
      "--> 29.37% brioche\n",
      "--> 4.06% pi crust\n",
      "--> 21.74% ciambellone\n",
      "--> 43.23% croissant\n",
      "\n",
      "Pour cold water into a small dish with a few pieces of ice to chill. There are two ways to integrate the butter into the dry ingredients… by hand mixing or with a food processor. In my experience, both methods work equally well as long as you mix the water in by hand. Don't process the water into the dough, or you'll end up with a tough crust. BREAK UP BUTTER BY HAND: Add flour and salt to a large mixing bowl, stir with a fork to blend. Take cold butter out of the refrigerator and add it to the bowl. Use a pastry cutter to cut the cold butter into the flour, using firm pressure and pushing down repeatedly to break the butter into small pieces. Work as quickly as you comfortably can. Stop when the flour and butter mixture looks like large-curd cottage cheese. There should be a variety of sizes in the butter pieces… the largest should be about the size of a pea. Place flour and butter mixture in the freezer for 2 minutes before proceeding. MIXING DOUGH WITH FOOD PROCESSOR: Fit your processor with a blade attachment. Add flour and salt to the food processor. Take cold butter out of the refrigerator and add it to the processor. Pulse the processor in 3-second bursts to break up the butter. Stop when the flour and butter mixture looks like large-curd cottage cheese. There should be a variety of sizes in the butter pieces… the largest should be about the size of a pea. It should only take 10-12 pulses to get the right consistency; start checking consistency after 8 pulses. Make sure you don’t over-process… having a variety of sizes in the butter chunks will make a flakier dough. Mixture should hold together when squeezed in your hand. Pour mixture into a mixing bowl. Place flour and butter mixture in the freezer for 2 minutes before proceeding. Take ice water out of the refrigerator. Add water to the flour mixture one tablespoonful at a time, using a fork to lightly toss the liquid into the dough. Try not to touch the dough as you mix; you want the mixture to stay as cool as possible. You may not need all the liquid to bring the dough together, so add slowly… the dough can easily turn wet and sticky if you’re not careful. By the same token, you may need a bit more liquid. Pie dough is not an exact science; every batch of dough will be different. When the dough begins to look stringy and larger lumps begin to form, take a fistful of the dough and squeeze it in your palm. Open your palm. If the dough holds together well and is just slightly tacky, it’s ready to pull into a dough ball. If the dough easily crumbles in your hand or falls apart, it is still too dry… add a little more liquid. When dough is ready, pull it together with your hands into two balls, one slightly larger than the other. Flatten the balls into disks that are 7-8 inches across. Cover the disks tightly in plastic wrap and place in the refrigerator immediately. The dough should be refrigerated for at least 1 hour, and up to 48 hours. I prefer to make the dough a day ahead and refrigerate it overnight. You can also freeze the dough for up to 3 months. If you freeze the dough, allow it to thaw and soften a bit before rolling out. TO ROLL OUT CRUSTS: Any large, smooth surface will work, as long as it is in a cool dry area. Marble is ideal. You will need to work quickly to roll out the dough-- again, you want it to stay cool, so have any tools you need nearby and ready to go: rolling pin, flour, pastry scraper, 9” pie plate or dish, a sharp knife, and a baking sheet (as needed). Lightly flour your rolling surface. Take the larger of the two dough disks out of the refrigerator and discard the plastic wrap.  Place it in the center of your rolling surface and sprinkle the top of the disk lightly with flour. Use your rolling pin to roll out the dough. I like to roll it from the center outward, a roll in each direction, as though I’m rolling around the face of a clock (12, 3, 6, 9, 12). You want the dough to expand evenly in all directions, so that it forms a large circular shape. Use more pressure in the center of the dough, and less as you near the edges. Don’t roll past the edge of the dough. As you roll, you may notice cracks forming on the outer edges. If any large cracks develop, pause and pinch the dough together to mend them before rolling again. If the dough becomes sticky as you roll, lightly re-flour the surface of the dough before proceeding. When the dough is about halfway rolled out, use a pastry scraper to loosen the dough from the board and flip it over. Re-flour the board before positioning the dough in the center again. Continue to roll out the dough in the same way as before. You want the dough to end up about 1/8” thick, and as round as possible. As you roll it out, you should see a marbled effect to the dough where patches of butter have formed. This is a good thing—those pockets of butter are what make the crust flaky. Rolling out pie dough swiftly and efficiently takes practice. You may find that your dough is getting too soft, or the butter pieces are melting, as you roll. A little stickiness can be remedied by a sprinkle of flour, but if the dough is getting warm or the fat is melting you’ll need to re-chill the dough before proceeding.&nbsp; Use the pastry scraper to loosen the dough from the board and place it on a baking sheet. Place the baking sheet in the freezer for 1-2 minutes to re-chill the dough. Continue rolling out. When the dough is about 1/8” thick all the way around, take your pie dish or plate and center it in the middle of the dough. The dough will need to extend about 2 inches past the edge of the dish. Use a sharp knife to cut any rough edges off to form a smooth 2-inch circle around the outer edge of the pie dish. Use the pastry scraper to loosen the dough from the rolling surface. Gently fold the dough in quarters. Pick it up and place it in the pie dish, centering the point of the fold in the middle of the dish. Unfold the dough and let it gently settle into the pie dish, lifting the edges of the dough and letting gravity pull it down into the corners. Do not stretch the dough to fit the plate; let it settle naturally, or you’ll end up with a leaky bottom crust. Adjust the dough as needed to keep it as centered as possible in the dish. Alternatively, you can transfer the crust to the dish by rolling it around the rolling pin and unrolling it over the pie dish. I prefer folding it, since it’s easier for me to center in the dish that way, but either method works. When the pie dish has been lined with dough, place it in the refrigerator to chill. Take the smaller of the two dough disks out of the refrigerator and roll it out the same way as you did the first. When trimming the edges, the dough only needs to extend about 1 inch beyond the edge of the pie dish. Re-chill on the baking sheet after rolling out, if necessary. This will be your top crust. Assemble your pie by filling the lower crust with your filling...&nbsp; ...dot the filling with butter, if the recipe requires it... ...then lay the top crust gently over the top of the pie. Center the top crust as much as possible over the top of the dish. Trim the edges of both crusts so that they are a little less than 1/2 inch beyond the rim of the pie dish. Roll the lower crust over the top of the upper crust and pinch gently to form a lip or edge to the crust.&nbsp; Work your way around the pie, rolling and pinching, until the circle is completed. Finish your edges by scalloping or crimping them with a fork. I like to scallop the crust by using the forefinger of one hand to make a crease, then pinching around the crease with the thumb and forefinger of the other hand. I work my way around the inner edge of the pie first making creases, then I finish it by working around the outer edge, scalloping in the opposite direction. Chill the fully assembled pie for at least 10 minutes before baking. Make an egg or milk wash and brush on the upper crust for a nicely browned finish (optional). Milk washes can be a bit uneven, so I prefer an egg wash-- use an egg yolk whisked together with 1 tsp of water. This will give it a nice golden sheen. Cut slits in the upper crust to vent (after the wash, not before),&nbsp;and sprinkle the top of the pie with sugar, if desired. I sometimes like to sprinkle it with turbinado sugar to add a light candy-like crunch and a little sparkle. Bake pie according to recipe directions. During the baking process, I usually turn the pie 180 degrees about halfway through the cooking time to make sure the crust browns evenly (ovens can be hotter in the back than in the front-- this allows for more even heat distribution). If these instructions are followed carefully, you should end up with a flavorful, flaky pie crust! Happy baking. :)\n",
      "--> 0.00% pie crust\n",
      "--> 0.00% brioche\n",
      "--> 99.92% pi crust\n",
      "--> 0.00% ciambellone\n",
      "--> 0.08% croissant\n",
      "\n",
      "In a medium bowl, combine flour and salt. Stir in oil and water, mixing until just combined. Form dough into ball and place it in a greased pie pan. (You may also choose to roll out your pie crust on a floured surface if desired.) Press dough out evenly until it covers entire pie pan including the sides. Make sure you press it thin where the side and bottom meet. Crimp edges if desired.\n",
      "--> 0.01% pie crust\n",
      "--> 0.09% brioche\n",
      "--> 99.83% pi crust\n",
      "--> 0.06% ciambellone\n",
      "--> 0.01% croissant\n",
      "\n",
      "Pour the flour and salt into a food processor and pulse for a few seconds. This combines the flour and salt evenly. If you do not have a food processor, then pour the flour and salt into a bowl and mix with a fork.\n",
      "If you are unable to purchase all-purpose flour, then use plain flour.Cut the butter into cubes. This will help the butter soften faster and make it easier to blend into the flour and salt.Add the butter a little bit at a time to the food processor and mix. Pulse the food processor for a few seconds before you add more butter. This makes the butter more manageable and prevent the blades from getting stuck.\n",
      "If you do not have a food processor, put the butter into the bowl and mix it lightly with the flour using a fork. Then, roll a pastry blade across the butter and flour using a back and forth motion. Keep lifting and rocking the pastry blade until you have a rough, crumbly texture. The butter chunks should be roughly the size of a pea.Add the cold water and pulse for a few more seconds. The dough will start to come together and pull away from the sides of the bowl.\n",
      "If you are using a bowl, lightly pat the dough down with your hands, then make a small well in the center. Pour the water into the well and mix with a fork until the dough starts to come away from the sides of the bowl.Cover the dough with plastic wrap and put it into the refrigerator for 20 minutes. This gives the butter time to cool back down, and prevents your dough from becoming too soft. After 20 minutes are up, take the dough out and unwrap it.Lightly flour your cutting board and rolling pin. This prevents the dough from sticking to everything. Be sure to keep a bag of flour on hand, in case you have to add more flour to your work surface; the dough will absorb the flour as you work with it, making the work surface sticky.Turn the dough onto the cutting board. The dough may feel dry, but this is normal. Do not add water to it; it will become softer the more you work with it.Form the dough into a flat square by kneading it gently. Do not make the dough too thin; you will be rolling it out some more later. You may see some streaks of butter in the dough, which is also normal. Do not attempt to mix the butter in.Use the rolling pin to roll the dough out into a rectangle. Roll in one direction only. The dough should be three times longer than it is wide.Fold the dough into thirds. Take the bottom third of the rectangle, and fold it just past the middle. Take the upper third of the rectangle and fold it down on top of the rest of the dough, making a square.Rotate the dough 90 degrees to either side. It does not matter which side: left or right. If the dough does not turn easily, it means that it has begun to stick to the cutting board. Gently lift it up and spread some more flour down onto the board. Set the dough back down and try rotating it again.Repeat the rolling, folding, and turning process six to seven more times. In this way, you are creating thin layers in the dough.Wrap the dough in plastic wrap and put it in the refrigerator. Leave it in there for at least one hour, or overnight.Use the dough. Once the dough has thoroughly chilled, you can take it out of the refrigerator, roll it out, and use it to make croissants, filled pastry bites, or even baked brie cheese.\n",
      "--> 0.00% pie crust\n",
      "--> 0.00% brioche\n",
      "--> 1.43% pi crust\n",
      "--> 0.00% ciambellone\n",
      "--> 98.57% croissant\n",
      "\n",
      "Sift flour, salt and sugar into a large bowl, add butter and cut into the flour (using a pastry blender or even your clean fingers) until mixture resembles coarse crumbs (the size of peas). Sprinkle with the water (one tablespoon at a time) just until dough starts to come together.&nbsp; Then move to a lightly floured flat surface and knead lightly into a round ball. Wrap dough in plastic and refrigerate for at least 30 minutes before using.&nbsp;\n",
      "--> 99.07% pie crust\n",
      "--> 0.00% brioche\n",
      "--> 0.93% pi crust\n",
      "--> 0.00% ciambellone\n",
      "--> 0.00% croissant\n",
      "\n",
      "\n",
      "\n",
      "\n",
      "\n",
      "\n",
      "\n",
      "\n",
      "\n",
      "\n",
      "\n",
      "\n",
      "\n",
      "Thanks to October’s Daring Bakers Challenge I was finally able to task myself to make some homemade Puff Pastry. I’ve been wanting to do it for so long now, but never really felt inspired to commit myself to the tedious affair that is laminated dough… But I am SO happy that I finally have! Because now I know that it really isn’t that tedious. I mean, it’s not like throwing together a batch of cookies by any means, but I’ve definitely made more difficult things. I’ve learned that the active time for making puff pastry is not very much. It’s mostly all about having the patience to wait around to fold and roll out the dough between multiple long, chilling periods.\n",
      "If you are not familiar with puff pastry, I think it is really important that I fill you in on how it works. You know, scientifically and all.\n",
      "Puff pastry is similar to croissant and danish dough in that they are referred to as laminated (layered) dough. The difference being that puff pastry dough isn’t yeasted. It relies solely on the steam from the butter upon melting to create the flakiness between layers. These layers are created by encasing butter in dough, then rolling it out and folding it over and over again to create hundreds of layers in the final product. I’ll explain some more as I walk you through the steps.\n",
      "\n",
      "\n",
      "\n",
      "\n",
      "\n",
      "\n",
      "\n",
      "This particular recipe comes from Cooks Illustrated (my old faithful!). They use a very basic lean dough that uses lemon juice for what I can only imagine is to tenderize the dough… kind of like vinegar in a pie crust? That’s my guess at least. Some puff pastry recipes have you cut in some butter too- this recipe doesn’t. The dough comes together easily in a food processor. First you process to evenly disburse the dry ingredients, then with the food processor running you add the lemon juice and 3/4 cup water. You use the remaining 1/4 cup of water as needed to produce a dough that has no floury bits remaining.\n",
      "\n",
      "\n",
      "\n",
      "\n",
      "\n",
      "\n",
      "\n",
      "I didn’t want to over-process my dough, so as soon as I used the full cup I pretty much stopped the food processor. I was left with some serious dry spots and some overly gummy, wet spots. I probably should have let it run until it was even but I didn’t realize it until I started to shape the dough and by then it was too late. But the good news is that between all the folding and rolling with the butter later on, all the dry pieces eventually went away. Anyways, I would just recommend that you watch out and make sure your dough is homogenous. I am sure you could also use a stand mixer fitted with a paddle attachment instead of the food processor. I think I’ll do that next time. I never have any luck with food processor’s distributing liquid evenly (particularly with pie crusts).\n",
      "Once the dough is made, dump it out onto a dry surface, shape into a 6″ square, cover in plastic wrap, and let chill for 1 hour.\n",
      "\n",
      "\n",
      "\n",
      "\n",
      "\n",
      "\n",
      "\n",
      " Meanwhile, make the butter block. The butter block plays a very important role in puff pastry and has many guidelines to follow when constructing. The butter must be chilled when you make the butter block. You want the butter block to always remain chilled so that it doesn’t melt into the layers during the rolling process and become part of the dough. It must also be flexible so it will effortlessly expand into a longer and thinner layer when rolled, rather than breaking into pieces. That is why the chilling time between folds and rolls is so important, it helps you maintain the proper temperature and consistency for the butter.\n",
      "\n",
      "\n",
      "\n",
      "\n",
      "\n",
      "\n",
      "\n",
      "There are 2 techniques to making a butter block. The one called for in this recipe has you beat the butter between two pieces of parchment with flour sprinkled on it, until it is fully incorporated. OR you can choose the much easier method of using a stand mixer. Cut the cold butter into pieces, toss it with flour in the bowl of a stand mixer, and beat it with the paddle for 1 to 2 minutes, just until smooth and blended. You can then shape out the 8″ square on some plastic wrap, cover it, and refrigerate for one hour.\n",
      "Why add flour to the butter? Well, the flour absorbs any water that may leak out of the butter during lamination. (Butter is not 100% fat, it contains a small amount of water.)\n",
      "\n",
      "\n",
      "\n",
      "\n",
      "\n",
      "\n",
      "\n",
      "Here is where things are going to start to coast along for us.\n",
      "Once the dough and butter block are chilled, you roll the dough out into an 11″ square. Then you place the chilled butter block diagonally in the center of the dough.\n",
      "\n",
      "\n",
      "\n",
      "\n",
      "\n",
      "\n",
      "\n",
      "Fold corners of dough up to meet in the center. Make sure you pinch the dough seams well to seal!\n",
      "\n",
      "\n",
      "\n",
      "\n",
      "\n",
      "\n",
      "\n",
      "Immediately start gently tapping the dough in an effort to roll it out into a 14″ square.\n",
      "Then fold the dough into thirds like a business letter.\n",
      "\n",
      "\n",
      "\n",
      "\n",
      "\n",
      "\n",
      "\n",
      "\n",
      "\n",
      "\n",
      "\n",
      "You then need to fold the rectangle in thirds to make a nice square little package like this.\n",
      "Wrap dough in plastic wrap and chill for two hours.\n",
      "This step needs to be repeated two more times, for a total of three sets of rolls and folds.\n",
      "BUT! It is important during the rolling process not to roll over the edges and create a seal. You will lose the flakiness in that area.\n",
      "\n",
      "\n",
      "\n",
      "\n",
      "\n",
      "\n",
      "\n",
      "I cut my dough in half so I could freeze some of it and use it later for something else.\n",
      "But it provided a great cross-section to see all those wonderful layers! How cool is that!?\n",
      "At this point you just roll it out and use it for your purposes.\n",
      "\n",
      "\n",
      "\n",
      "\n",
      "\n",
      "\n",
      "\n",
      "I was making Napoleons so I had to make a pre-baked flat sheet of puff pastry.\n",
      "Heads up- the dough shrinks back as it bakes. I didn’t realize this when I rolled my dough out, otherwise I would have made it bigger.\n",
      " \n",
      "So there we have it- Puff Pastry! Not as difficult as you might have thought. Just as long as you know how puff pastry works and you have patience to wait out the chilling, it is really quite simple! I can’t wait to try other laminated doughs…. I smell some croissants coming up soon!\n",
      "    Wordpress Recipe Plugin by EasyRecipe 3.1.09 illed butter in the bowl of a stand mixer. Toss it with flour and beat with paddle attachment on medium speed 1 to 2 minutes, just until smooth and blended. Shape into 8\" square on parchment paper. Continue with instructions.quare: 24 tablespoons (3 sticks) unsalted butter, chilled 2 Tb all purpose flour     Instructions  For the Dough: Process flour, sugar, and salt in food processor until combined, about 5 seconds. With food processor running, add lemon juice, followed by ¾ cup water, in slow steady stream. Add remaining ¼ cup water as needed, 1 tablespoon at a time, until dough comes together and no floury bits remain. Turn dough onto sheet of plastic wrap and flatten into 6\" square. Wrap tightly in plastic wrap and refrigerate for 1 hour. For the Butter Square: Lay butter sticks side by side on sheet of parchment paper. Sprinkle flour over butter and cover with second sheet of parchment. Gently pound butter with rolling pin until butter is softened and flour is fully incorporated, then roll it into an 8\" square. Wrap butter square in plastic and refrigerate until chilled, about 1 hour. Roll chilled dough into 11\" square on lightly floured counter. Place chilled butter square diagonally in center of dough. Fold corners of dough up over butter square so that corners meet in middle and pinch dough seams to seal. Using rolling pin, gently tap dough, starting from center and working outward, until square becomes larger and butter begins to soften. Gently roll dough into 14\" square, dusting with extra flour as needed to prevent sticking . Fold dough into thirds like business letter, then fold rectangle in thirds to form square. Wrap dough in plastic and let rest in refrigerator 2 hours. Repeat rolling and folding two more times, for a total of three times, chilling for two hours after each.     Notes \n",
      " \n",
      "\n",
      "\n",
      "\n",
      " Tagged as:\n",
      "\t\t\t\t\t\tpastry, \n",
      "\t\t\t\t\t\tpuff pastry\n",
      "\n",
      "\n",
      "--> 0.00% pie crust\n",
      "--> 0.00% brioche\n",
      "--> 0.00% pi crust\n",
      "--> 0.00% ciambellone\n",
      "--> 100.00% croissant\n",
      "\n",
      "\n",
      "From the kitchen of One Perfect Bite...I had some fun testing recipes for the Italian Easter Bread that's called Ciambellone. I'm not going to talk about the two recipes that failed, other than to say my evil eye is now trained on the developers and, once they recover, they'll get with the program and do a better job. I am happy to report that I did find a workable recipe. This link,  Chef's Line , will take you to a pod cast that demonstrates exactly how Easter Bread is made.  Ciambellone falls somewhere between a cake and bread on the culinary periodic table. It tastes like soft biscotti and that, of course, makes it perfect to serve with coffee or tea. It also requires no special equipment to make. Flour is piled onto an immaculately clean board and the remainder of the ingredients are added to a fist-made well and mixed into the flour using your equally immaculate fingers. It's then formed into rings and baked. I prefer to make one large ring and use a ring mold to enhance the appearance of the Ciambellone. The recipe appears below the next photo.I also want to share a great recipe for  Soft Sugar Cookies with you. It comes from Denise at Cottage Sisters. I stumbled on it while searching for the Italian Easter Bread. She was kind enough to share the recipe and photo with me so I could pass them on to you. I hope you'll take a look at her fabulous site.Photo courtesy of Cottage SistersCiambellone - Italian Easter Bread...from the kitchen of One Perfect Bite, courtesy of Kitchen Guy at Chef's LineIngredients:4 cups flour3 large eggs1 teaspoon vanilla1 cup granulated sugar1 cup milk1 teaspoon cinnamon1/2 cup vegetable oil or melted butter1 teaspoon baking powder1 tablespoon finely grated lemon zest1 egg for egg washConfectioners' sugar for dustingDirections:1) Preheat oven to 350 degrees F. Grease and flour a large baking sheet or a 9-inch tube pan. Set aside.2) Mound flour on a board. Create a well in center of mound. Using your fingers, begin alternating liquid and other dry ingredients into well, mixing until all  ingredients are combined. Knead, adding additional flour if needed, to form a smooth dough.3) Divide into one or two parts and shape into fat rings. Beat additional egg with a teaspoon of water. Brush top of ring with egg wash. Place on baking sheet or into tube pan. Bake 40 minutes, or until golden brown. Cool. Dust with confectioners' sugar. Yield: 1 or 2 coils.You might also enjoy these recipes:Lemon Tea Cookies - One Perfect BiteChinese-Style Almond Cookies - One Perfect BiteKona Coffee Cookies - One Perfect BiteThis post is being linked to:Pink Saturday, sponsored by Beverly at How Sweet the Sound.\n",
      "\n",
      "\n",
      "--> 0.02% pie crust\n",
      "--> 0.07% brioche\n",
      "--> 0.03% pi crust\n",
      "--> 99.48% ciambellone\n",
      "--> 0.40% croissant\n",
      "\n"
     ]
    }
   ],
   "source": [
    "rand_recipe = np.random.choice(range(len(W)), 15)\n",
    "\n",
    "for i in rand_recipe:\n",
    "    analyze_recipe(i, corpus, W, hand_labels)"
   ]
  },
  {
   "cell_type": "code",
   "execution_count": null,
   "metadata": {},
   "outputs": [],
   "source": []
  }
 ],
 "metadata": {
  "kernelspec": {
   "display_name": "Python 3",
   "language": "python",
   "name": "python3"
  },
  "language_info": {
   "codemirror_mode": {
    "name": "ipython",
    "version": 3
   },
   "file_extension": ".py",
   "mimetype": "text/x-python",
   "name": "python",
   "nbconvert_exporter": "python",
   "pygments_lexer": "ipython3",
   "version": "3.7.7"
  }
 },
 "nbformat": 4,
 "nbformat_minor": 4
}
