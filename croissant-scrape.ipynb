{
 "cells": [
  {
   "cell_type": "code",
   "execution_count": 64,
   "metadata": {},
   "outputs": [],
   "source": [
    "from selenium import webdriver\n",
    "from bs4 import BeautifulSoup\n",
    "import time\n",
    "from bs4.element import Tag\n",
    "import bs4\n",
    "import numpy as np\n",
    "import pandas as pd\n",
    "import matplotlib.pyplot as plt\n",
    "import requests\n",
    "import re\n"
   ]
  },
  {
   "cell_type": "markdown",
   "metadata": {},
   "source": [
    "## Searching for croissant baking temperatures\n",
    "- Searches for 'croissant bake temperature' or 'temperature cuisson croissant' were conducted on Google country-specific search sites for the US, UK, and France. The first 100 links were obtained for each country. These links were subsequently scraped to determine if they were a croissant baking recipe, and if so, for their initial baking temperature.\n",
    "- Baking temperatures were found by looking for sentences that contained the words 'preheat', 'bake', or 'oven' followed by a 3 digit number followed by a temperature indicator. \n",
    "- Croissant baking often employs a two-stage approach with a high starting temp followed by a lower finishing temp. The script pulled the first temperature mention, so this is the starting temp.\n",
    "- For the US graphic, websites were excluded if the first temperature mention was in celsius.\n",
    "- For the UK and French graphics, websites were excluded if the first temperature mention was in fahrenheit.\n"
   ]
  },
  {
   "cell_type": "markdown",
   "metadata": {},
   "source": [
    "## Tools and techniques used in this project\n",
    "- **Tools**\n",
    "> - Python, Jupyter Lab, Beautiful Soup, Pandas, Numpy\n",
    "- **Visualization**\n",
    "> - Matplotlib\n",
    "- **Techniques**\n",
    "> - Web-scraping\n"
   ]
  },
  {
   "cell_type": "code",
   "execution_count": 42,
   "metadata": {},
   "outputs": [],
   "source": [
    "def get_links_from_google_search(google_url):\n",
    "    '''\n",
    "    Given a Google search string, returns links from that Google search page\n",
    "    Parameters:\n",
    "    ----------\n",
    "    google_url (str): a google search string. To get past the first page, replace start=0 with start={bundle}.\n",
    "    Returns:\n",
    "    -------\n",
    "    links (list): a list of links \n",
    "    '''\n",
    "    links_ = []\n",
    "    driver = webdriver.Firefox()\n",
    "    time.sleep(30) # slow requests down to keep google from getting upset\n",
    "    driver.get(google_url)\n",
    "    soup = BeautifulSoup(driver.page_source,'lxml')\n",
    "    result_div = soup.find_all('div', attrs={'class': 'g'})\n",
    "    for r in result_div:\n",
    "            try:\n",
    "                link = r.find('a', href=True)\n",
    "                if link != '':\n",
    "                    # site exceptions\n",
    "                    if 'google.' not in link and 'costco.' not in link and 'freshdirect' not in link: \n",
    "                        links_.append(link['href'])\n",
    "                \n",
    "            except Exception as e:\n",
    "                print(e)\n",
    "                continue\n",
    "    return(links_)\n"
   ]
  },
  {
   "cell_type": "code",
   "execution_count": 36,
   "metadata": {},
   "outputs": [],
   "source": [
    "def bake_temps_collection(url_list, search_pattern_1, search_pattern_2):\n",
    "    '''\n",
    "    Special search function to collect baking temperatures from sites that have been returned from a Google\n",
    "    search of croissant baking temps.\n",
    "    Parameters:\n",
    "    ----------\n",
    "    url_list (dataFrame with urls):\n",
    "    search_pattern_1 (regex):\n",
    "    search_pattern_2 (regex):\n",
    "    Returns:\n",
    "    -------\n",
    "    valid urls\n",
    "    string with target search parameters\n",
    "    first bake temp in target string\n",
    "    '''\n",
    "    bake_temp_inst_list = []\n",
    "    bake_temp_list = []\n",
    "    good_urls = []\n",
    "    for i in range(len(url_list)):\n",
    "        url = url_list[1][i]\n",
    "        try:\n",
    "            r = requests.get(url, allow_redirects=False)\n",
    "            if r.status_code == 200:\n",
    "                print(url)\n",
    "                soup = BeautifulSoup(r.content, 'html')\n",
    "                all_text = soup.get_text()\n",
    "                search_pattern_compiled = re.compile(search_pattern_1)\n",
    "                bake_temp_inst = search_pattern_compiled.findall(all_text)\n",
    "                if bake_temp_inst:\n",
    "                    bake_temp_inst_list.append(bake_temp_inst[0])\n",
    "                \n",
    "                    search_pattern_2_compiled = re.compile(search_pattern_2)\n",
    "                    bake_temp = search_pattern_2_compiled.search(bake_temp_inst[0])[0]\n",
    "                    bake_temp_list.append(bake_temp)\n",
    "                    good_urls.append(url)\n",
    "                      \n",
    "        except Exception as e:\n",
    "            print('Exception', e)\n",
    "            continue\n",
    "    return good_urls, bake_temp_inst_list, bake_temp_list"
   ]
  },
  {
   "cell_type": "markdown",
   "metadata": {},
   "source": [
    "## Step one: Get links for the target search term"
   ]
  },
  {
   "cell_type": "code",
   "execution_count": 12,
   "metadata": {},
   "outputs": [],
   "source": [
    "#  The easiest way to change the search is to type a search in google then copy and paste the address.\n",
    "#  Convert to an f string, find start=0 in the string and change it to start={bundle}.\n",
    "\n",
    "# us_google_url=f\"https://www.google.com/search?q=croissant+baking+temp&client=ubuntu&hs=bju&channel=fs&tbas=0&sxsrf=ALeKk01tinXVzgWJgZhSeeUfjrJd4FW4oA:1597161338731&ei=er8yX--YLLi50PEPiYu28A4&start={bundle}&sa=N&ved=2ahUKEwjvvfnRwZPrAhW4HDQIHYmFDe4Q8NMDegQIDhBA&biw=1920&bih=969\"\n",
    "# fr_google_url=f\"https://www.google.fr/search?q=temp%C3%A9rature+cuisson+croissant&ei=0PEzX4C2PMXk-gTv_ImwCA&start={bundle}&sa=N&ved=2ahUKEwiA3szk5ZXrAhVFsp4KHW9-AoYQ8NMDegQIDRBC&biw=1848&bih=942\"\n",
    "# uk_google_url=f\"https://www.google.co.uk/search?q=croissant+temperature&ei=OPQzX8T0KMj4-gSnn5moBw&start={bundle}&sa=N&ved=2ahUKEwjE8JaK6JXrAhVIvJ4KHadPBnUQ8NMDegQIDhA_&biw=1848&bih=942\"\n",
    "\n",
    "target_links = 140\n",
    "page_bundles = list(range(0,target_links,10))\n",
    "links=[]\n",
    "for bundle in page_bundles:\n",
    "    links_list = get_links_from_google_search(f\"https://www.google.com/search?q=croissant+baking+temp&client=ubuntu&hs=bju&channel=fs&tbas=0&sxsrf=ALeKk01tinXVzgWJgZhSeeUfjrJd4FW4oA:1597161338731&ei=er8yX--YLLi50PEPiYu28A4&start={bundle}&sa=N&ved=2ahUKEwjvvfnRwZPrAhW4HDQIHYmFDe4Q8NMDegQIDhBA&biw=1920&bih=969\")\n",
    "    for link in links_list:\n",
    "        links.append(link)"
   ]
  },
  {
   "cell_type": "markdown",
   "metadata": {},
   "source": [
    "## Write results to file from Google search function"
   ]
  },
  {
   "cell_type": "code",
   "execution_count": 14,
   "metadata": {},
   "outputs": [],
   "source": [
    "# Uncomment country to write results\n",
    "\n",
    "# uk_croissant_links = pd.DataFrame(links)\n",
    "# uk_croissant_links.to_csv('uk-croissant-links.txt')\n",
    "\n",
    "# us_croissant_links = pd.DataFrame(links)\n",
    "# us_croissant_links.to_csv('us-croissant-links.txt')\n",
    "\n",
    "# fr_croissant_links = pd.DataFrame(links)\n",
    "# fr_croissant_links.to_csv('fr-croissant-links.txt')"
   ]
  },
  {
   "cell_type": "markdown",
   "metadata": {},
   "source": [
    "## Step two: Read in links file and initiate web search"
   ]
  },
  {
   "cell_type": "code",
   "execution_count": 40,
   "metadata": {},
   "outputs": [],
   "source": [
    "# url_list = pd.read_csv('uk-croissant-links.txt',header=None)\n",
    "url_list = pd.read_csv('us-croissant-links.txt',header=None)\n",
    "# url_list = pd.read_csv('fr-croissant-links.txt',header=None)"
   ]
  },
  {
   "cell_type": "code",
   "execution_count": 41,
   "metadata": {
    "collapsed": true,
    "jupyter": {
     "outputs_hidden": true
    }
   },
   "outputs": [
    {
     "name": "stdout",
     "output_type": "stream",
     "text": [
      "https://www.kingarthurbaking.com/recipes/bakers-croissants-recipe\n",
      "https://www.epicurious.com/recipes/food/views/butter-croissants-103989\n",
      "https://www.weekendbakery.com/posts/classic-french-croissant-recipe/\n",
      "https://www.finecooking.com/recipe/classic-croissants\n",
      "https://www.jocooks.com/recipes/homemade-croissants/\n",
      "https://topwithcinnamon.com/how-to-make-croissants/\n",
      "https://gourmetier.com/french-croissants/\n",
      "https://www.marthastewart.com/312981/croissants\n",
      "https://www.noellecarterfood.com/blog/2019/9/20/better-baking-temperature-croissants-recipe\n",
      "https://bakingamoment.com/easy-homemade-croissant-recipe/\n",
      "https://www.joyofbaking.com/breads/HomemadeCroissants.html\n",
      "https://www.foodandwine.com/recipes/croissants\n",
      "https://bakerpedia.com/processes/croissant/\n",
      "https://www.halfbakedharvest.com/homemade-croissants-step-step-photos/\n",
      "https://www.foodnetwork.com/recipes/food-network-kitchen/homemade-croissants-5277802\n",
      "https://www.tastingtable.com/cook/recipes/croissants-recipe-french-pastry\n",
      "https://buttermilkpantry.wordpress.com/2019/07/06/how-to-make-croissants/\n",
      "https://www.alsothecrumbsplease.com/best-homemade-croissant-recipe/\n",
      "https://www.allrecipes.com/recipe/6916/croissants/\n",
      "https://www.foodiewithfamily.com/how-to-make-croissants/\n",
      "http://bobbiesbakingblog.com/blog/2011/04/20/croissantrecipe/\n",
      "https://www.lemaraisbakery.com/shop/one-dozen-frozen-ready-to-bake-french-croissants-4a6t8\n",
      "https://www.theredheadbaker.com/mini-butter-croissants/\n",
      "https://myloveofbaking.com/sourdough-croissants/\n",
      "https://www.baking-sense.com/2018/12/14/sourdough-croissants/\n",
      "https://cooking.stackexchange.com/questions/105045/croissant-baking-temperature\n",
      "https://www.hungryonion.org/t/please-help-me-bake-the-perfect-croissant/5549\n",
      "https://www.browneyedbaker.com/croissants/\n",
      "https://lesaffreyeast.com/formula/croissants-frozen/\n",
      "https://honestandtruly.com/proof-frozen-croissants-oven/\n",
      "https://www.pardonyourfrench.com/three-day-classic-french-croissants/\n",
      "https://www.gourmetdirect.co.nz/cooking-tip/croissant-cooking-instructions/\n",
      "https://persephonebakery.com/pages/baking-instructions-croissants\n",
      "https://veenaazmanov.com/homemade-croissants-recipe/\n",
      "https://www.youtube.com/watch?v=jw_yWmK6Fuo\n",
      "https://www.artisanbryan.com/post/how-to-make-croissants-recipe\n",
      "https://www.waitrose.com/content/waitrose/en/home/recipes/food_glossary/croissant.html\n",
      "https://www.seriouseats.com/recipes/2011/08/how-to-make-croissants-french-pastry-recipe.html\n",
      "https://www.bakedbyanintrovert.com/homemade-croissants/\n",
      "http://www.thefreshloaf.com/node/59146/croissant-proof-and-baking-issue\n",
      "https://www.quora.com/What-is-the-best-temperature-to-bake-croissants\n",
      "https://www.homecookingadventure.com/recipes/quick-croissants\n",
      "https://www.frenchtarte.com/news-blog//2014/10/les-croissants.html\n",
      "https://www.bakeinfo.co.nz/files/file/435/Bake+Info_Info_Croissants.pdf\n",
      "https://www.tasteatlas.com/croissant/recipe\n",
      "https://www.paulhollywood.com/post/croissants\n",
      "https://epicureandculture.com/french-baking-make-croissants-puff-pastry/\n",
      "https://www.inspiredtaste.net/20300/sinfully-easy-chocolate-croissant-recipe/\n",
      "https://tasty.co/recipe/homemade-chocolate-croissants-pain-au-chocolate\n",
      "https://www.chowhound.com/post/tips-making-croissants-338441?page=3\n",
      "https://www.aryztafoodsolutions.co.uk/foodservice/ideas-tips/croissant-the-perfect-bake\n",
      "https://www.shipton-mill.com/baking/recipes/sourdough-croissants.htm\n",
      "https://food52.com/recipes/73022-croissant-loaf\n",
      "https://www.theculinarypro.com/laminated-dough\n",
      "https://www.bessiebakes.com/french-croissant-recipe-chocolate-croissants-40-step-step-photos/\n",
      "https://www.swissbake.ch/prod/croissant-10\n",
      "https://lacuisineparis.com/blog/croissant-cheat-sheet\n",
      "https://www.theflavorbender.com/homemade-french-croissants-step-by-step-recipe/\n",
      "https://www.lantmannen-unibake.com/Schulstad-Bakery-Solutions/Products/Pastry/Croissant-Plain/sg-croissant-curved/\n",
      "https://www.bakersjournal.com/quintessential-croissants-4586/\n",
      "https://www.gourmetfoodstore.com/100-percent-butter-french-croissants-15813\n",
      "https://www.viedefrancefoodservice.com/faq/\n",
      "https://www.instructables.com/id/Croissants/\n",
      "https://www.livestrong.com/article/442951-how-to-cook-a-frozen-croissant-in-an-oven/\n",
      "https://damndelicious.net/2019/09/20/baked-ham-and-cheese-croissants/\n",
      "https://www.womanscribbles.net/chocolate-croissants/\n",
      "https://www.pillsbury.com/recipes/glazed-pillsbury-crescent-dinner-rolls/da2eed9c-0f49-41ae-b654-8408bbf892d1\n",
      "https://therecipepatch.com/how-to-make-perfect-croissants/\n",
      "https://www.landolakes.com/recipe/18218/flaky-butter-croissants/\n",
      "https://delishably.com/baked-goods/How-To-Make-Delicious-and-Flaky-Croissant-At-Home\n",
      "https://bakingbites.com/2018/05/easy-overnight-croissant-recipe-from-scratch/\n",
      "https://www.erikarecord.com/bakers-insight/croissants/\n",
      "https://homegrownhappiness.co.nz/easy-sourdough-croissants/\n",
      "https://tasteofartisan.com/tartine-croissants/\n",
      "https://www.laurainthekitchen.com/recipes/croissants/\n",
      "http://www.patisserielamour.co.nz/ba-croissants.html\n",
      "https://simplyhomecooked.com/almond-croissant/\n",
      "https://www.qvc.com/footers/cd/pdf/M57879_Cooking_Instructions.pdf\n",
      "https://www.veganosity.com/vegan-french-croissants/\n",
      "https://forums.egullet.org/topic/158586-croissant-feedback-and-trouble-shooting/\n",
      "https://www.lba-inc.com/troubleshooting\n",
      "https://www.thespruceeats.com/cheese-croissants-recipe-1374833\n",
      "https://addapinch.com/ham-and-cheese-croissants-recipe/\n",
      "https://ragebake.com/blog/croissants\n",
      "https://lifemadesimplebakes.com/overnight-sausage-egg-croissant-breakfast-bake/\n",
      "https://alexandracooks.com/2013/03/26/prosciutto-gruyere-croissants/\n",
      "https://www.meilleurduchef.com/en/recipe/croissant.html\n",
      "https://www.gimmesomeoven.com/3-ingredient-nutella-croissants-recipe/\n",
      "http://www.joannabakes.com/2017/05/croissants-part-two-science-recipe.html\n",
      "https://www.wikihow.com/Make-Croissants\n",
      "https://lifewiththecrustcutoff.com/hot-ham-swiss-croissants/\n",
      "https://www.wbur.org/hereandnow/2019/01/08/croissant-paris-pastry-chef\n",
      "https://la.eater.com/2019/8/14/20707330/lincoln-carson-croissant-recipe-bon-temps-los-angeles\n",
      "https://www.pinterest.com/mbiz1230/croissants-and-puff-pastry/\n",
      "https://www.koerner-co.com/croissants/103361-butter-croissant-21-oz-rtb.html\n",
      "https://www.elle-et-vire.com/pro/en/recipes/pastry-bakery/croissant-1/\n",
      "https://www.digiorno.com/products/croissant-crust/four-cheese\n",
      "https://www.leaf.tv/articles/how-to-store-croissants/\n",
      "https://www.thebakerchick.com/homemade-almond-croissants/\n",
      "https://order.sugarbloombakery.com/pages/store-and-reheat\n",
      "http://homecookinginmontana.blogspot.com/2012/11/homemade-croissants-atkcook-s.html\n",
      "https://www.seitanismymotor.com/2016/06/vegan-croissants/\n",
      "https://foodsguy.com/freeze-croissants/\n",
      "http://www.brunoskitchen.net/blog/post/croissant---pains-au-chocolat\n",
      "https://www.chiceats.com/recipe/breakfast-pastry/tartine-bakerys-morning-buns\n",
      "https://uppercrust.com/Categories/CategoryList/3\n",
      "https://mimsysblog.wordpress.com/2015/10/24/trader-joes-queen-of-croissants-and-almond-croissants/\n",
      "https://mimsysblog.wordpress.com/2015/10/24/trader-joes-queen-of-croissants-and-almond-croissants/\n",
      "https://d3ciwvs59ifrt8.cloudfront.net/91dd58cd-ac8c-45f3-b721-e78f2330323c/8bb613de-695d-4fa8-a8d5-52546c5a0d30.pdf\n",
      "https://www.sweetlinepastries.com/how-to-bake-croissants/\n",
      "https://www.lecremedelacrumb.com/baked-croissant-breakfast-sandwiches/\n",
      "https://foodcrumbles.com/home-made-french-croissant-science-steam-yeast/\n",
      "http://www.freepatentsonline.com/4986992.html\n",
      "https://forktospoon.com/air-fryer-5-minute-croissants/\n"
     ]
    },
    {
     "data": {
      "text/plain": [
       "(['https://www.kingarthurbaking.com/recipes/bakers-croissants-recipe',\n",
       "  'https://www.epicurious.com/recipes/food/views/butter-croissants-103989',\n",
       "  'https://www.finecooking.com/recipe/classic-croissants',\n",
       "  'https://www.jocooks.com/recipes/homemade-croissants/',\n",
       "  'https://www.noellecarterfood.com/blog/2019/9/20/better-baking-temperature-croissants-recipe',\n",
       "  'https://www.alsothecrumbsplease.com/best-homemade-croissant-recipe/',\n",
       "  'https://www.foodiewithfamily.com/how-to-make-croissants/',\n",
       "  'https://www.lemaraisbakery.com/shop/one-dozen-frozen-ready-to-bake-french-croissants-4a6t8',\n",
       "  'https://myloveofbaking.com/sourdough-croissants/',\n",
       "  'https://www.baking-sense.com/2018/12/14/sourdough-croissants/',\n",
       "  'https://www.hungryonion.org/t/please-help-me-bake-the-perfect-croissant/5549',\n",
       "  'https://lesaffreyeast.com/formula/croissants-frozen/',\n",
       "  'https://www.pardonyourfrench.com/three-day-classic-french-croissants/',\n",
       "  'https://veenaazmanov.com/homemade-croissants-recipe/',\n",
       "  'https://www.seriouseats.com/recipes/2011/08/how-to-make-croissants-french-pastry-recipe.html',\n",
       "  'https://www.bakedbyanintrovert.com/homemade-croissants/',\n",
       "  'http://www.thefreshloaf.com/node/59146/croissant-proof-and-baking-issue',\n",
       "  'https://www.homecookingadventure.com/recipes/quick-croissants',\n",
       "  'https://epicureandculture.com/french-baking-make-croissants-puff-pastry/',\n",
       "  'https://www.inspiredtaste.net/20300/sinfully-easy-chocolate-croissant-recipe/',\n",
       "  'https://tasty.co/recipe/homemade-chocolate-croissants-pain-au-chocolate',\n",
       "  'https://food52.com/recipes/73022-croissant-loaf',\n",
       "  'https://www.theculinarypro.com/laminated-dough',\n",
       "  'https://www.theflavorbender.com/homemade-french-croissants-step-by-step-recipe/',\n",
       "  'https://www.bakersjournal.com/quintessential-croissants-4586/',\n",
       "  'https://www.gourmetfoodstore.com/100-percent-butter-french-croissants-15813',\n",
       "  'https://www.instructables.com/id/Croissants/',\n",
       "  'https://www.womanscribbles.net/chocolate-croissants/',\n",
       "  'https://www.pillsbury.com/recipes/glazed-pillsbury-crescent-dinner-rolls/da2eed9c-0f49-41ae-b654-8408bbf892d1',\n",
       "  'https://delishably.com/baked-goods/How-To-Make-Delicious-and-Flaky-Croissant-At-Home',\n",
       "  'https://bakingbites.com/2018/05/easy-overnight-croissant-recipe-from-scratch/',\n",
       "  'https://www.erikarecord.com/bakers-insight/croissants/',\n",
       "  'https://tasteofartisan.com/tartine-croissants/',\n",
       "  'https://www.veganosity.com/vegan-french-croissants/',\n",
       "  'https://forums.egullet.org/topic/158586-croissant-feedback-and-trouble-shooting/',\n",
       "  'https://www.thespruceeats.com/cheese-croissants-recipe-1374833',\n",
       "  'https://ragebake.com/blog/croissants',\n",
       "  'https://alexandracooks.com/2013/03/26/prosciutto-gruyere-croissants/',\n",
       "  'https://www.wikihow.com/Make-Croissants',\n",
       "  'https://www.digiorno.com/products/croissant-crust/four-cheese',\n",
       "  'https://www.thebakerchick.com/homemade-almond-croissants/',\n",
       "  'https://www.chiceats.com/recipe/breakfast-pastry/tartine-bakerys-morning-buns',\n",
       "  'https://www.sweetlinepastries.com/how-to-bake-croissants/'],\n",
       " ['Towards the end of the rise time, preheat the oven to 425°F.',\n",
       "  'Bake croissants:                                        Adjust oven racks to upper and lower thirds of oven and preheat to 425°F.',\n",
       "  'Bake the croissants\\n\\nShortly before the croissants are fully proofed, position racks in the top and lower thirds of the oven and heat it to 400°F convection, or 425°F conventional.',\n",
       "  'Brush with a lightly beaten egg, and bake on a parchment paper lined sheet for 8-12 minutes at 400F, then turn the oven down to 375 and bake for another 8-12 minutes.',\n",
       "  'Bake for 7 minutes then reduce oven temperature to 375 F and bake until croissants are deep golden brown, about 10 to 15 minutes.',\n",
       "  'Remove croissants from the oven and preheat to 375°F (190°C).',\n",
       "  'Preheat the oven to 425F.',\n",
       "  'Preheat oven to 375°F.',\n",
       "  'Our body temperature is enough to make the butter go soft\\r\\n            \\n\\n            Arrange croissants on a tray leaving ample space around them\\r\\n            \\n\\n            Let these proof until risen and ready to bake (Usually takes about 8-10 hours or more depending on your starter activity and your room temperature\\r\\n            \\n\\n            Preheat the oven to 420 F, use a thermometer to read the internal oven temperature (if your oven is a convection, you may want to heat it up only to 400 F)\\r\\n            \\n\\n            Once proofed, egg wash and bake the croissants for 20 minutes and reduce heat to 380F (400 F) and bake for a further 10-20 minutes ( keep an eye though) Often an extra 10 minutes is enough\\r\\n            \\n\\n            Once done cool on the tray and serve fresh\\n            \\n\\n\\n\\nCheck this video to get an idea of the dough firmness\\nThis is a short video of how to roll the dough using swift, gentle yet effective motions\\nCheck the troubleshooting guide below to fix any issues you have\\n\\r\\n\\xa0\\n      \\n6.',\n",
       "  'Preheat the oven to 400°F.',\n",
       "  'My usual practice is to put the dough on a aluminum catering tray (yeah I know, not even a baking pan at home), heat the oven to 425F and bake until outer later is golden brown.',\n",
       "  'To bake, place croissants into an oven set to 370°F (187°C) and bake for approximately 15 minutes, or until croissants are a deep, golden color.',\n",
       "  'Pre-heat your oven to 390°F (199 °C).',\n",
       "  'Preheat the oven at 200 C/ 392 F.',\n",
       "  'Position a rack in the center of the oven, and heat the oven to 400°F.',\n",
       "  \"Let's break down the process! Or you can scroll right to the bottom for the full, printable recipe!Croissant Recipe Ingredients:To make these homemade croissants, you will need:Water: The water should be barely warm, about 100°F.\",\n",
       "  \"The recipe didn't give a time for baking in a conventional oven, so I settled on trying a mini batch at 425F for about 18min.\",\n",
       "  'Preheat the oven to 450 F (230C).',\n",
       "  'Step 13:\\xa0While the dough is rising, preheat your oven to 350°F.',\n",
       "  'Once I increased the oven temp to 375 F and put in the freezer for 15 min after filling and before baking.',\n",
       "  \"Homemade Chocolate Croissants (Pain Au Chocolate) Recipe by TastyOpens in a new windowOpens an external site in a new windowOpens an external siteTasty LogoBuzzFeed LogoPlayPinterestFacebookEmailLinkSMSXSearchClockRight ArrowCaret downCaret upCaret leftCaret rightPop OutThumbs upSpeechAudio onReplayPlusMinusWalmart Grocery PickupShoppable Banner MobileShoppable Banner DesktopRecipes\\xa0Hot Right NowLight BitesEasy DinnerTasty's 5th BirthdayOccasionsBaked GoodsWeekend Meal PrepRomantic DinnersSpecial DietsBest VegetarianLow Carb MealsKetoEasyOne-Pot Recipes5 Ingredients or LessNo Bake DessertsHot Right NowLight BitesEasy DinnerTasty's 5th BirthdayRecipesMoreQuarantine CookingShopQuarantine CookingShop94% would make againHomemade Chocolate Croissants (Pain Au Chocolate)featured in 5 Unique Croissant RecipesAlix TraegerTasty TeamPrintIngredientsfor 8 servings4 cups flour (500 g)½ cup water (120 mL)½ cup milk (120 mL)¼ cup sugar (50 g)2 teaspoons salt1 packet instant dry yeast3 tablespoons unsalted butter, softened1 ¼ cups cold unsalted butter (285 g), cut into ½-inch (1 cm) thick slices1 egg, beaten2 bars sweetened chocolate barNutrition InfoPowered byView InfoCalories 721Fat 42gCarbs 74gFiber 2gSugar 18gProtein 10gEstimated values based on one serving size.\",\n",
       "  'Towards the end of rise time, preheat the oven to 375°F.',\n",
       "  'Croissant Dough Courtesy of Kurt Fogle\\n\\n\\n\\n\\n\\n\\n\\nMethodStep 1 – Mix the DoughIn a mixer fitted with a dough hook, place the flour, sugar, yeast, butter, and salt in the bowlTurn the mixer on low, add the water and milk to dry ingredients, and mix for approximately 5- 6 minutes until the dough is smooth and softTurn the dough onto a parchment-lined sheet pan and shape it into a rectangleAllow the dough to rest for 1-2 hours to develop the primary fermentation Step 2 – Chill the Dough – Prep the BeurrageAfter the dough has doubled in bulk, gently deflate it, and cover with plastic wrapChill the dough for at least 1 hour or it can be chilled overnight from 12-24 hoursWhile the dough is resting, place the butter between 2 parchment paper sheets, pound it with a rolling pin to soften, and roll it into a rectangle approximately 2/3 the size of the doughStep 3 – Roll Out, Lock In Beurrage, Fold 3 TimesRoll the dough out on a lightly flour table to a rectangleUsing desired method for folding in the fat (single, envelope, 3, or 4 fold)Roll and turn the dough 3 times, chilling for 30-45 minutes between each rollout \\n\\n\\n\\n\\n\\n\\nRolled and Folded Dough\\n\\n\\n\\nStep 4 – Cut and ShapeRollout the dough to the desired thicknessCut and shape as desiredBrush with egg wash\\n\\n\\n\\n\\n\\n\\n\\nProof until double in bulkBake at 375-400F°/190-205°C\\n\\n\\n\\n\\n\\n\\n\\nDanish Dough\\n\\n\\n\\n\\n\\n\\n\\nMethodStep 1 – Mix the DoughScald the milk, cool to lukewarm, and dissolve yeast in the milkUsing a mixer fitted with a paddle, mix 5 oz.',\n",
       "  'I like to bake the croissants in my conventional oven at 375°F / 190°C for about 30 minutes, until the croissants are puffed up and a beautiful, golden brown in color.',\n",
       "  'This resulted from too long of a bake at 370 F (188 C).',\n",
       "  'Q: I bought these recently on qvc I live alone and would like to know after baking how to reheat as it is too expensive to cook only one  thanks\\r\\n        A: You can reheat croissants in a preheated oven to 350°F, for about 4-7 minutes, constantly checking that they are not getting burned.',\n",
       "  'Croissants : 13 Steps (with Pictures) - InstructablesHomeCircuitsWorkshopCraftCookingLivingOutsideTeachersFollowinginstructablescookingProjectsContestsCommunityClassesPublishEnter search termCroissants\\n            By WeekendBakery\\n            \\n                in CookingBreakfast22,04411224FeaturedDownloadFavoriteIntroduction: CroissantsYummy all butter Croissants, Ideal for breakfast, served warm from the oven with a cup of fresh Coffee.',\n",
       "  'Chocolate Croissants: The Process\\nMake the Dough\\nWarm the milk to 105- 110 F.',\n",
       "  'RegisterControlInstance(moduleName, configuration, componentMetadata, isVueModule)\\n});\\n})();\\n\\r\\n         \\n\\n\\n1\\n\\r\\n                            Heat oven to 375°F.',\n",
       "  'Preheat the oven to 375°F.',\n",
       "  'Preheat the oven to 400 F.',\n",
       "  'Baking\\nBake in a preheated convection oven at 350°F for 15 – 20 minutes.',\n",
       "  'Bake at 425F for about 20-30 minutes until deep golden brown.',\n",
       "  'STEP EIGHTEEN Preheat the oven to 400°F (204°C).',\n",
       "  'Teo\\n\\t\\t\\n\\n\\t\\t\\t\\xa0\\n\\t\\t\\n\\n\\n\\n\\tThank you! What temperature do you recommend for a home, non-convection oven? This recipe said 350F/177C.',\n",
       "  'Preheat the oven to 400 F.',\n",
       "  'Once proofed, remove both from the oven and preheat to 425F.',\n",
       "  'Meanwhile, about 30 minutes before they’re ready to be cooked, preheat the oven to 350°F.',\n",
       "  'Creative Commons<\\\\/a><br>\\\\n<\\\\/p><p><br \\\\/>\\\\n<\\\\/p><\\\\/div>\"}\\n1\\nPreheat the oven to 475°F (240°C).',\n",
       "  'PREHEAT\\n\\n\\nPreheat & bake at 400°F.',\n",
       "  'To Bake Croissants:Preheat oven to 350F.',\n",
       "  'Move your oven rack to the middle position and preheat to 400°F.',\n",
       "  'Baking\\nBake croissants at 350F for 15-20 min or until golden/brown.'],\n",
       " ['425',\n",
       "  '425',\n",
       "  '400',\n",
       "  '400',\n",
       "  '375',\n",
       "  '375',\n",
       "  '425',\n",
       "  '375',\n",
       "  '420',\n",
       "  '400',\n",
       "  '425',\n",
       "  '370',\n",
       "  '390',\n",
       "  '200',\n",
       "  '400',\n",
       "  '100',\n",
       "  '425',\n",
       "  '450',\n",
       "  '350',\n",
       "  '375',\n",
       "  '500',\n",
       "  '375',\n",
       "  '375',\n",
       "  '375',\n",
       "  '370',\n",
       "  '350',\n",
       "  '044',\n",
       "  '105',\n",
       "  '375',\n",
       "  '375',\n",
       "  '400',\n",
       "  '350',\n",
       "  '425',\n",
       "  '400',\n",
       "  '350',\n",
       "  '400',\n",
       "  '425',\n",
       "  '350',\n",
       "  '475',\n",
       "  '400',\n",
       "  '350',\n",
       "  '400',\n",
       "  '350'])"
      ]
     },
     "execution_count": 41,
     "metadata": {},
     "output_type": "execute_result"
    }
   ],
   "source": [
    "# search_string_1 = r'([A-Z][^.]*(?:four|cuisson|cuir|chauff)[^.]*\\d{3}(?:°C|C| C)[^.]*(?:[.]|[\\s]))' #French regex\n",
    "# search_string_1 = r'([A-Z][^.]*(?:reheat|ake|oven)[^.]*\\d{3}(?:°C|C| C)[^.]*(?:[.]|[\\s]))' #UK regex\n",
    "search_string_1 = r'([A-Z][^.]*(?:reheat|ake|oven)[^.]*\\d{3}(?:°F|F| F)[^.]*(?:[.]|[\\s]))' #US regex\n",
    "search_string_2 = r'(\\d{3})'\n",
    "\n",
    "bt = bake_temps_collection(url_list, search_string_1, search_string_2)"
   ]
  },
  {
   "cell_type": "markdown",
   "metadata": {},
   "source": [
    "## Write search results to file"
   ]
  },
  {
   "cell_type": "code",
   "execution_count": 44,
   "metadata": {},
   "outputs": [],
   "source": [
    "# Uncomment country to write results\n",
    "\n",
    "# us_df = pd.DataFrame(bt)\n",
    "# us_df.to_csv('us_results.csv')\n",
    "\n",
    "# uk_df = pd.DataFrame(bt)\n",
    "# uk_df.to_csv('uk_results.csv')\n",
    "\n",
    "# fr_df = pd.DataFrame(bt)\n",
    "# fr_df.to_csv('fr_results.csv')"
   ]
  },
  {
   "cell_type": "markdown",
   "metadata": {},
   "source": [
    "## Step three: Results and visualizations\n",
    "- Of the 100 links obtained from the Google search by country, 35-40 usable temperatures were obtained for the US distribution and for the French distribution.\n",
    "- Only 10 usable temperatures were obtained for the UK distribution. This is likely due to many recipes of US origin appearing in the google.uk search and being filtered out due to the restriction that temps needed to be expressed primarily in celsius.\n",
    "- Mean temperatures are similar for all three countries.\n",
    "- The distributions are different for the countries with the US having a narrower distribution of initial baking temperature and the French distribution being wider."
   ]
  },
  {
   "cell_type": "code",
   "execution_count": 65,
   "metadata": {},
   "outputs": [],
   "source": [
    "data_us = pd.read_csv('us_results.csv',header=None)\n",
    "data_uk = pd.read_csv('uk_results.csv',header=None)\n",
    "data_fr = pd.read_csv('fr_results.csv',header=None)"
   ]
  },
  {
   "cell_type": "code",
   "execution_count": 88,
   "metadata": {},
   "outputs": [
    {
     "data": {
      "image/png": "[encoded data removed]",
      "text/plain": [
       "<Figure size 720x432 with 1 Axes>"
      ]
     },
     "metadata": {
      "needs_background": "light"
     },
     "output_type": "display_data"
    }
   ],
   "source": [
    "fig, ax = plt.subplots(figsize=(10,6))\n",
    "\n",
    "ax.hist(data_us.iloc[:,2], color='tab:cyan')\n",
    "ax.set_ylabel('Count')\n",
    "ax.set_xlabel('Temperature (°F)')\n",
    "ax.set_xlim(325, 525)\n",
    "fig.suptitle('Inital Baking Temperature--US Croissant Recipes', size =20)\n",
    "ax.set_title(f'Mean temp {data_us.iloc[:,2].mean():.0f}')\n",
    "plt.savefig('img/us-croissant-baketemp-distribution.png')\n"
   ]
  },
  {
   "cell_type": "code",
   "execution_count": 89,
   "metadata": {},
   "outputs": [
    {
     "data": {
      "image/png": "[encoded data removed]",
      "text/plain": [
       "<Figure size 720x432 with 1 Axes>"
      ]
     },
     "metadata": {
      "needs_background": "light"
     },
     "output_type": "display_data"
    }
   ],
   "source": [
    "fig, ax = plt.subplots(figsize=(10,6))\n",
    "\n",
    "ax.hist((data_fr.iloc[:,2]*9/5+32), color='tab:olive')\n",
    "ax.set_ylabel('Count')\n",
    "ax.set_xlabel('Temperature (°F)')\n",
    "ax.set_xlim(325, 525)\n",
    "fig.suptitle('Inital Baking Temperature--French Croissant Recipes', size =20)\n",
    "ax.set_title(f'Mean temp {(data_fr.iloc[:,2]*9/5+32).mean():.0f}')\n",
    "plt.savefig('img/fr-croissant-baketemp-distribution.png')\n",
    "# (data_uk.iloc[:,2]*9/5+32).hist()\n",
    "# (data_fr.iloc[:,2]*9/5+32).hist()\n"
   ]
  },
  {
   "cell_type": "code",
   "execution_count": 90,
   "metadata": {},
   "outputs": [
    {
     "data": {
      "image/png": "[encoded data removed]",
      "text/plain": [
       "<Figure size 720x432 with 1 Axes>"
      ]
     },
     "metadata": {
      "needs_background": "light"
     },
     "output_type": "display_data"
    }
   ],
   "source": [
    "fig, ax = plt.subplots(figsize=(10,6))\n",
    "\n",
    "ax.hist((data_uk.iloc[:,2]*9/5+32), color='tab:purple')\n",
    "ax.set_ylabel('Count')\n",
    "ax.set_xlabel('Temperature (°F)')\n",
    "ax.set_xlim(325, 525)\n",
    "fig.suptitle('Inital Baking Temperature--British Croissant Recipes', size =20)\n",
    "ax.set_title(f'Mean temp {(data_uk.iloc[:,2]*9/5+32).mean():.0f}')\n",
    "plt.savefig('img/uk-croissant-baketemp-distribution.png')\n"
   ]
  },
  {
   "cell_type": "markdown",
   "metadata": {},
   "source": [
    "## Future Research\n",
    "- Seek to obtain more usable temperatures by grabbing more links from Google and/or by refining the sifting of the websites to obtain a better yield.\n",
    "- Consider how best to compare the distributions.\n",
    "- Explore other parameters of croissant preparation and baking.\n",
    "- Explore the comments for the various websites to determine if people in the respective countries interact differently with recipe authors."
   ]
  },
  {
   "cell_type": "code",
   "execution_count": null,
   "metadata": {},
   "outputs": [],
   "source": []
  }
 ],
 "metadata": {
  "kernelspec": {
   "display_name": "Python 3",
   "language": "python",
   "name": "python3"
  },
  "language_info": {
   "codemirror_mode": {
    "name": "ipython",
    "version": 3
   },
   "file_extension": ".py",
   "mimetype": "text/x-python",
   "name": "python",
   "nbconvert_exporter": "python",
   "pygments_lexer": "ipython3",
   "version": "3.7.7"
  }
 },
 "nbformat": 4,
 "nbformat_minor": 4
}
