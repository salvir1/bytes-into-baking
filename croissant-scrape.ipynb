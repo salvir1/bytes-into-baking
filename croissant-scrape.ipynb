{
 "cells": [
  {
   "cell_type": "code",
   "execution_count": 1,
   "metadata": {},
   "outputs": [],
   "source": [
    "from selenium import webdriver\n",
    "from bs4 import BeautifulSoup\n",
    "import time\n",
    "from bs4.element import Tag\n",
    "import bs4\n",
    "import numpy as np\n",
    "import pandas as pd\n",
    "import matplotlib.pyplot as plt\n",
    "import requests\n",
    "import re\n",
    "from lxml import html\n",
    "import lxml"
   ]
  },
  {
   "cell_type": "markdown",
   "metadata": {},
   "source": [
    "## Searching for croissant baking temperatures\n",
    "- Searches for 'croissant bake temperature' or 'temperature cuisson croissant' were conducted on Google country-specific search sites for the US, UK, and France. The first 100 links were obtained for each country. These links were subsequently scraped to determine if they were a croissant baking recipe, and if so, for their initial baking temperature.\n",
    "- Baking temperatures were found by looking for sentences that contained the words 'preheat', 'bake', or 'oven' followed by a 3 digit number followed by a temperature indicator. \n",
    "- Croissant baking often employs a two-stage approach with a high starting temp followed by a lower finishing temp. The script pulled the first temperature mention, so this is the starting temp.\n",
    "- For the US graphic, websites were excluded if the first temperature mention was in celsius.\n",
    "- For the UK and French graphics, websites were excluded if the first temperature mention was in fahrenheit.\n"
   ]
  },
  {
   "cell_type": "markdown",
   "metadata": {},
   "source": [
    "## Tools and techniques used in this project\n",
    "- **Tools**\n",
    "> - Python, Jupyter Lab, Beautiful Soup, Pandas, Numpy\n",
    "- **Visualization**\n",
    "> - Matplotlib\n",
    "- **Techniques**\n",
    "> - Web-scraping\n"
   ]
  },
  {
   "cell_type": "code",
   "execution_count": 2,
   "metadata": {},
   "outputs": [],
   "source": [
    "def get_links_from_google_search(google_url):\n",
    "    '''\n",
    "    Given a Google search string, returns links from that Google search page\n",
    "    Parameters:\n",
    "    ----------\n",
    "    google_url (str): a google search string. To get past the first page, replace start=0 with start={bundle}.\n",
    "    Returns:\n",
    "    -------\n",
    "    links (list): a list of links \n",
    "    '''\n",
    "    links_ = []\n",
    "    driver = webdriver.Firefox()\n",
    "    time.sleep(30) # slow requests down to keep google from getting upset\n",
    "    driver.get(google_url)\n",
    "    soup = BeautifulSoup(driver.page_source,'lxml')\n",
    "    result_div = soup.find_all('div', attrs={'class': 'g'})\n",
    "    for r in result_div:\n",
    "            try:\n",
    "                link = r.find('a', href=True)\n",
    "                if link != '':\n",
    "                    # site exceptions\n",
    "                    if 'google.' not in link and 'costco.' not in link and 'freshdirect' not in link: \n",
    "                        links_.append(link['href'])\n",
    "                \n",
    "            except Exception as e:\n",
    "                print(e)\n",
    "                continue\n",
    "    return(links_)\n"
   ]
  },
  {
   "cell_type": "code",
   "execution_count": 95,
   "metadata": {},
   "outputs": [],
   "source": [
    "class ClassifyWebpage:\n",
    "    '''Classify webpage'''\n",
    "    def __init__(self, url, search_pattern_1, search_pattern_2):\n",
    "        self.url = url\n",
    "        self.page_type = ''\n",
    "        self.language = \"Not found in page source\"\n",
    "        self.pastry_recipe = PastryRecipeWebpage()\n",
    "\n",
    "        try:\n",
    "            r = requests.get(url, allow_redirects=False, headers={'User-Agent': 'Mozilla/5.0'}) # Header assignment to avoid 403 errors\n",
    "            if r.status_code == 406:\n",
    "                r = requests.get(url, allow_redirects=False, headers={'User-Agent': 'XY'}) # Header assignment to avoid 406 errors\n",
    "            if r.status_code == 200:\n",
    "                print(f'Pass {url}')\n",
    "                root = lxml.html.fromstring(r.text)\n",
    "                language_construct = root.xpath(\"//html/@lang\") # this xpath is reliable(in long-term), since this is a standard construct.\n",
    "                if language_construct:\n",
    "                    language = language_construct[0].split('-')[0]\n",
    "                    self.language = language    \n",
    "        \n",
    "                soup = BeautifulSoup(r.content, 'html')\n",
    "                all_text = soup.get_text()\n",
    "                search_pattern_compiled = re.compile(search_pattern_1)\n",
    "                bake_temp_inst = search_pattern_compiled.findall(all_text)\n",
    "                # If baking step found within the instructions, assign \n",
    "                # instructions, initial temperature, and second stage temperature.\n",
    "                if bake_temp_inst:\n",
    "                    self.page_type = 'croissant recipe'\n",
    "                    search_pattern_2_compiled = re.compile(search_pattern_2)\n",
    "                    initial_bake_temp = int(search_pattern_2_compiled.search(bake_temp_inst[0])[0])\n",
    "                    self.pastry_recipe = PastryRecipeWebpage(bake_temp_inst[0], initial_bake_temp)\n",
    "            else:\n",
    "                print(f'Fail {r.status_code}, {url}')\n",
    "        except Exception as e:\n",
    "            print('Exception', e)\n",
    "            \n"
   ]
  },
  {
   "cell_type": "code",
   "execution_count": 96,
   "metadata": {},
   "outputs": [],
   "source": [
    "class PastryRecipeWebpage:\n",
    "    '''A recipe for hand-made croissants'''\n",
    "    def __init__(self, instructions=None, initial_temp=None, second_temp=None):\n",
    "        '''Initialize the recipe's attributes'''\n",
    "        self.instructions = instructions\n",
    "        self.initial_temp = initial_temp\n",
    "        if initial_temp and initial_temp > 300:\n",
    "            self.initial_temp_range = 'US'\n",
    "        else:\n",
    "            self.initial_temp_range = 'Europe'\n",
    "        self.second_temp = second_temp\n",
    "    "
   ]
  },
  {
   "cell_type": "markdown",
   "metadata": {},
   "source": [
    "## Step one\n",
    "### Get links for the target search term"
   ]
  },
  {
   "cell_type": "code",
   "execution_count": 12,
   "metadata": {},
   "outputs": [],
   "source": [
    "#  The easiest way to change the search is to type a search in google then copy and paste the address.\n",
    "#  Convert to an f string, find start=0 in the string and change it to start={bundle}.\n",
    "\n",
    "# us_google_url=f\"https://www.google.com/search?q=croissant+baking+temp&client=ubuntu&hs=bju&channel=fs&tbas=0&sxsrf=ALeKk01tinXVzgWJgZhSeeUfjrJd4FW4oA:1597161338731&ei=er8yX--YLLi50PEPiYu28A4&start={bundle}&sa=N&ved=2ahUKEwjvvfnRwZPrAhW4HDQIHYmFDe4Q8NMDegQIDhBA&biw=1920&bih=969\"\n",
    "# fr_google_url=f\"https://www.google.fr/search?q=temp%C3%A9rature+cuisson+croissant&ei=0PEzX4C2PMXk-gTv_ImwCA&start={bundle}&sa=N&ved=2ahUKEwiA3szk5ZXrAhVFsp4KHW9-AoYQ8NMDegQIDRBC&biw=1848&bih=942\"\n",
    "# uk_google_url=f\"https://www.google.co.uk/search?q=croissant+temperature&ei=OPQzX8T0KMj4-gSnn5moBw&start={bundle}&sa=N&ved=2ahUKEwjE8JaK6JXrAhVIvJ4KHadPBnUQ8NMDegQIDhA_&biw=1848&bih=942\"\n",
    "\n",
    "target_links = 140\n",
    "page_bundles = list(range(0,target_links,10))\n",
    "links=[]\n",
    "for bundle in page_bundles:\n",
    "    links_list = get_links_from_google_search(f\"https://www.google.com/search?q=croissant+baking+temp&client=ubuntu&hs=bju&channel=fs&tbas=0&sxsrf=ALeKk01tinXVzgWJgZhSeeUfjrJd4FW4oA:1597161338731&ei=er8yX--YLLi50PEPiYu28A4&start={bundle}&sa=N&ved=2ahUKEwjvvfnRwZPrAhW4HDQIHYmFDe4Q8NMDegQIDhBA&biw=1920&bih=969\")\n",
    "    for link in links_list:\n",
    "        links.append(link)"
   ]
  },
  {
   "cell_type": "markdown",
   "metadata": {},
   "source": [
    "### Write results to file from Google search function"
   ]
  },
  {
   "cell_type": "code",
   "execution_count": 10,
   "metadata": {},
   "outputs": [],
   "source": [
    "# Uncomment country to write results\n",
    "\n",
    "# uk_croissant_links = pd.DataFrame(links)\n",
    "# uk_croissant_links.to_csv('data/uk-croissant-links.txt')\n",
    "\n",
    "# us_croissant_links = pd.DataFrame(links)\n",
    "# us_croissant_links.to_csv('data/us-croissant-links.txt')\n",
    "\n",
    "# fr_croissant_links = pd.DataFrame(links)\n",
    "# fr_croissant_links.to_csv('data/fr-croissant-links.txt')"
   ]
  },
  {
   "cell_type": "markdown",
   "metadata": {},
   "source": [
    "## Step two\n",
    "### Read in links file and initiate web search"
   ]
  },
  {
   "cell_type": "code",
   "execution_count": 123,
   "metadata": {},
   "outputs": [],
   "source": [
    "# url_list = pd.read_csv('data/uk-croissant-links.txt',header=None)\n",
    "# url_list = pd.read_csv('data/us-croissant-links.txt',header=None)\n",
    "url_list = pd.read_csv('data/fr-croissant-links.txt',header=None)"
   ]
  },
  {
   "cell_type": "code",
   "execution_count": 127,
   "metadata": {},
   "outputs": [
    {
     "name": "stdout",
     "output_type": "stream",
     "text": [
      "Exception Invalid URL '0': No schema supplied. Perhaps you meant http://0?\n",
      "Pass https://chefsimon.com/gourmets/chef-simon/recettes/croissants-et-pains-au-chocolat-decoupe-et-cuisson\n",
      "Pass https://www.marmiton.org/recettes/recette_croissants-au-beurre-maison_41321.aspx\n",
      "Pass https://cuisine.journaldesfemmes.fr/recette/305677-croissants-au-beurre\n",
      "Pass https://www.meilleurduchef.com/en/recipe/pain-au-chocolat-chocolate-croissant.html\n",
      "Pass https://www.iletaitunefoislapatisserie.com/2014/02/les-croissants-maison.html\n",
      "Pass https://lacuisinedannie.20minutes.fr/recette-croissants-facon-boulangerie-355.html\n",
      "Fail 301, http://www.lamourdupain.com/blogue/croissants-congeles\n",
      "Pass https://zeste.ca/recettes/croissants-au-beurre-1\n",
      "Pass http://www.mylittlerecettes.com/cap-patissier-croissants-pate-levee-feuilletee/\n",
      "Pass https://fr.wikibooks.org/wiki/Livre_de_cuisine/Croissant\n",
      "Pass https://www.aufeminin.com/recettes/les-croissants-s641549.html\n",
      "Pass https://www.ricardocuisine.com/recettes/8475-croissants-au-beurre\n",
      "Pass https://www.ricardocuisine.com/en/recipes/8475-butter-croissants\n",
      "Pass https://www.youtube.com/watch?v=9MbjMNXUgV8\n",
      "Pass https://www.delifrance.com/fr/nos-conseils/Remise_en_oeuvre_viennoiserie\n",
      "Pass https://cuisine-facile.com/four/recette-croissants.php\n",
      "Pass https://conseils-cap-patisserie.fr/croissants-rates/\n",
      "Pass https://www.encoreungateau.com/croissants-cap-patissier-recette/\n",
      "Pass http://patisphere.canalblog.com/archives/2017/02/20/34960973.html\n",
      "Pass http://www.lyceeprofessionnel-morlaas.fr/ADI/files/VIENNOISERIE.pdf\n",
      "Pass https://www.750g.com/croissants-maison-r96776.htm\n",
      "Pass https://www.recettesdici.com/fr/categorie-de-plat/6/brunchs-et-dejeuners/857/croissants-au-beurre\n",
      "Pass http://bourassatremblant.com/viennoiseries-surgelees/\n",
      "Pass https://www.brunoskitchen.net/blog/post/chocolate-croissant--chocolatine\n",
      "Pass http://technomitron.aainb.com/recettes-2/viennoiserie/la-viennoiserie/\n",
      "Pass https://www.patisserie-gourmande.fr/astuces/conseils-brioches-viennoiseries\n",
      "Pass https://mapatisserie.fr/recette/viennoiseries/recette-croissant/\n",
      "Pass https://scally.typepad.com/cest_moi_qui_lai_fait/2013/05/\n",
      "Pass https://www.savencia-fd-foodservice.com/livrets/preuve-par-7-boulangerie-patisserie/pdf/recettes-base-corman-patisy.pdf\n",
      "Pass https://arhoma.ca/general/comment-cuire-nos-viennoiseries-congelees\n",
      "Pass https://www.chefnini.com/croissants-test-2/\n",
      "Pass https://www.transgourmet.fr/livraison/transgourmet/nos-partenaires/eclat-du-terroir/croissant-beurre-fin-pret-cuire\n",
      "Pass https://urbainecity.com/jai-teste-pour-vous-la-pate-a-croissants-premiere-moisson/\n",
      "Pass https://www.picard.fr/produits/8-croissants-pur-beurre-beurre-charentes-000000000000082205.html\n",
      "Fail 302, https://www.lesoir.be/64877/article/2016-10-20/succes-croissant-pour-la-cuisson-sous-vide-en-basse-temperature\n",
      "Pass https://www.enviedebienmanger.fr/fiche-recette/recette-croissants-au-beurre\n",
      "Pass http://mobile.cuistot.net/viennoiseries.htm\n",
      "Pass https://montreal.lufa.com/en/marketplace/product/ready-to-bake-butter-croissants-6-frozen-3387\n",
      "Pass https://www.bettybossi.ch/fr/Rezept/ShowRezept/BB_BKXX060101_0360A-40-fr\n",
      "Pass https://www.liberation.fr/checknews/2020/04/02/covid-19-faut-il-passer-son-pain-au-four-pour-eviter-tout-risque-de-contamination_1783836\n",
      "Pass http://www.ciciyapatisserieandco.com/2018/04/recette-viennoiseries-n-2-feuilletage-topissime.html\n",
      "Pass http://media3.neff-international.com/Documents/9001126108_C.pdf\n",
      "Pass https://www.cuisineaz.com/recettes/mini-croissants-au-jambon-23576.aspx\n",
      "Pass https://rockthebretzel.com/croissants-cap-patisserie/\n",
      "Pass https://planetezerodechet.fr/recette-croissants-beurre-maison-etapes/\n",
      "Pass https://whitepapers-lesaffre.com/wp-content/uploads/2018/04/1712M01-LEXIQUE-CROISSANT-FR.pdf\n",
      "Pass https://atelier.aupaindore.com/en/our-products/\n",
      "Pass https://www.rational-online.com/portalcontent/club/fs4c/media/files/scc_since_09_2016/brochures/application_bake/8021769_FR_Anwendung_Backen_Prospekt_A4_WA44_46.pdf\n",
      "Pass https://www.cuisinedaubery.com/recipe/recette-des-croissants-au-beurre/\n",
      "Pass http://lafolleaventuredemelanie.over-blog.com/2013/12/le-croissant-et-le-pain-au-chocolat-cap-p%C3%A2tissier.html\n",
      "Pass https://www.quelquesgrammesdegourmandise.com/croissants-de-philippe-conticini/\n",
      "Pass https://www.marieclaire.fr/cuisine/comment-reussir-un-croissant,1221124.asp\n",
      "Pass https://www.elle-et-vire.com/pro/en/recettes/boulangerie-patisserie/croissant-1/\n",
      "Pass https://painsuisse.ch/recette/croissants/\n",
      "Pass https://www.mercotte.fr/2019/05/15/les-pates-levees-feuilletees-le-secret-de-la-reussite-et-toujours-un-peu-dactu/\n",
      "Pass https://www.ptitchef.com/recettes/aperitif/mini-croissants-aperitif-fid-178280\n",
      "Pass https://www.lexpress.fr/styles/saveurs/recette/recette-de-la-chocolatine-de-la-patisserie-cyril-lignac_1951730.html\n",
      "Pass https://www.patisserie-traditionnelle.com/bases-cap-patisserie/plf/\n",
      "Pass https://www.boulangerie.org/wp-content/uploads/2018/09/DEF_16_06_14-Code-des-usages-viennoiserie-artisanale.pdf\n",
      "Pass https://www.femmeactuelle.fr/cuisine/guides-cuisine/croissant-pain-au-chocolat-brioche-comment-redonner-de-la-fraicheur-a-la-viennoiserie-2089322\n",
      "Fail 302, https://www.facebook.com/CostcoCanada/posts/quelquun-a-le-temps-de-cuisson-et-la-temp%C3%A9rature-du-four-pour-faire-les-croissan/464890816922722/\n",
      "Pass https://www.thiriet.com/produits/pains_viennoiseries/8_croissants_pur_beurre,163,1139.html?&args=Y29tcF9pZD0xNTUmYWN0aW9uPWZpY2hlJmlkPSZ8&vars=cHJvZHVpdF9pZD04OTUyMA%3D%3D\n",
      "Exception ('Connection aborted.', RemoteDisconnected('Remote end closed connection without response'))\n",
      "Pass https://ici.radio-canada.ca/actualite/v2/lepicerie/niveau2_7739.shtml\n",
      "Pass https://shop.metro.fr/shop/pv/BTY-X181447/0032/0021/Croissant-au-beurre-pr%C3%AAt-%C3%A0-cuire-20-x-60-g\n",
      "Pass http://sbssa.spip.ac-rouen.fr/IMG/pdf/carnet_de_recettes_stage_viennoiseries_2017_f_sauvalle_1_.pdf\n",
      "Pass http://vanille-et-citron.fr/index.php/2019/07/28/pate-a-croissants/\n",
      "Pass https://www.swissmilk.ch/fr/recettes-idees/recettes/LM201004_60/croissants-au-jambon/\n",
      "Pass https://briochedoree.ca/\n",
      "Pass https://lesgourmandisesdeya.fr/viennoiseries-croissants-et-pains-au-chocolat/\n",
      "Exception HTTPSConnectionPool(host='www.neuhauser.fr', port=443): Max retries exceeded with url: /produits/pain-au-chocolat-4/130 (Caused by SSLError(SSLCertVerificationError(1, '[SSL: CERTIFICATE_VERIFY_FAILED] certificate verify failed: unable to get local issuer certificate (_ssl.c:1076)')))\n",
      "Pass https://www.hengel.com/fr/les-differentes-techniques-fermentation-panaire.html\n",
      "Pass http://lesdouceursdelafamillepraline.over-blog.com/article-croissants-et-pains-au-chocolat-pate-levee-feuilletee-124171263.html\n",
      "Pass http://www.lesfoodies.com/chadiray/recette/croissant-maison\n",
      "Pass http://webtv.ac-versailles.fr/restauration/Pate-levee-feuilletee-croissants-pains-au-chocolat\n",
      "Pass https://lemondeculinairedesamia.com/la-pate-levee-feuilletee/\n",
      "Pass https://www.tompress.com/A-10002782-calculer-la-temperature-de-l-eau-de-coulage-du-pain.aspx\n",
      "Pass http://unefolleenviedecuisiner.over-blog.com/2016/04/croissants-et-pains-au-chocolat.html\n",
      "Pass https://www.latribunedesmetiers.fr/vous-allez-faire-un-bon-et-beau-croissant/\n",
      "Pass https://www.admagazine.fr/lifestyle/le-carnet-adresses-de/diaporama/voici-comment-realiser-les-viennoiseries-de-cedric-grolet/59010\n",
      "Exception ('Connection aborted.', RemoteDisconnected('Remote end closed connection without response'))\n",
      "Pass https://www.atelierdeschefs.fr/fr/cours-en-ligne/1333-croissant-aux-amandes.php\n",
      "Pass https://www.fashioncooking.fr/2015/12/min-croissants-au-saumon-fume/\n",
      "Pass http://www.dauphingourmet.com/article-croissants-au-beurre-38437695.html\n",
      "Pass https://www.costcobusinesscentre.ca/au-pain-dor%C3%A9-frozen-butter-croissants%2C-pack-of-30.product.100296387.html\n",
      "Pass https://www.finedininglovers.fr/recettes/brunch/la-recette-des-croissants-de-cedric-grolet\n",
      "Pass https://lacuisinedethomas.fr/recettes/croissants-beurre-christophe-felder/\n",
      "Pass https://www.cookomix.com/recettes/croissants-thermomix/\n",
      "Pass https://www.gourmandpastries.com/fr/produits/croissants-nature/croissant-au-beurre/66\n",
      "Pass http://lacuisinedelilou92.over-blog.com/article-recettes-et-utilisation-du-croissant-party-tupperware-43807030.html\n",
      "Pass http://www.laets-bake-it.fr/blog/comment-faire-ses-croissants-pur-beurre-soi-meme\n",
      "Pass http://www.floured.fr/recette-de-croissants-pains-chocolat-levain-liquide-farine-complete/\n",
      "Pass http://techno.boulangerie.free.fr/04-Cours/03-PROCEDES2FAB/10-La_Cuisson/01-La_Cuisson.htm\n",
      "Pass http://mariatotal.com/articles/consulter/croissants-prets-a-cuire\n",
      "Pass http://www.montiroirarecettes.com/2013/05/croissants-au-beurre.html\n",
      "Pass https://www.vzug.com/medias/sys_master/imported-documents/imported-documents/hd3/hd4/8960523796510/J768.971-1.pdf?attachment=true\n",
      "Pass http://www.duretz.net/technologie_boulangere/procedes-de-fabrication-et-produits-finis/defauts-des-pates/\n",
      "Pass https://www.miele.ch/fr/c/selection-de-produits-tiroirs-1489.htm\n"
     ]
    }
   ],
   "source": [
    "search_string_1 = r'([A-Z][^.]*(?:four|cuisson|cuir|chauff)[^.]*\\d{3}(?:º|°|F| ºF| °F| F|C| ºC| °C| C)[^.]*(?:[.]|[\\s]))' #French regex\n",
    "# search_string_1 = r'([A-Z][^.]*(?:reheat|ake|oven)[^.]*\\d{3}(?:ºC| ºC|°C| °C|C| C)[^.]*(?:[.]|[\\s]))' #UK regex\n",
    "# search_string_1 = r'([A-Z][^.]*(?:reheat|ake|oven)[^.]*\\d{3}(?:º|°|F| ºF| °F| F|C| ºC| °C| C)[^.]*(?:[.]|[\\s]))' #US regex\n",
    "search_string_2 = r'(\\d{3})'\n",
    "\n",
    "good_url, instr, init_temp, init_temp_range = [], [], [], []\n",
    "for i in range(len(url_list)):\n",
    "    page = ClassifyWebpage(url_list[1][i], search_string_1, search_string_2)\n",
    "    if page.pastry_recipe.instructions and page.pastry_recipe.initial_temp_range == 'Europe':\n",
    "        good_url.append(page.url)\n",
    "        instr.append(page.pastry_recipe.instructions)\n",
    "        init_temp.append(page.pastry_recipe.initial_temp)\n",
    "        init_temp_range.append(page.pastry_recipe.initial_temp_range)\n",
    "\n",
    "df = pd.DataFrame([good_url, instr, init_temp]).T"
   ]
  },
  {
   "cell_type": "code",
   "execution_count": 130,
   "metadata": {},
   "outputs": [
    {
     "data": {
      "text/plain": [
       "0     250\n",
       "1     240\n",
       "2     220\n",
       "3     200\n",
       "4     210\n",
       "5     200\n",
       "6     240\n",
       "7     220\n",
       "8     170\n",
       "9     200\n",
       "10    180\n",
       "11    180\n",
       "12    170\n",
       "13    190\n",
       "14    160\n",
       "15    200\n",
       "16    190\n",
       "17    150\n",
       "18    270\n",
       "19    180\n",
       "20    210\n",
       "21    260\n",
       "22    200\n",
       "23    220\n",
       "24    190\n",
       "25    180\n",
       "26    180\n",
       "27    200\n",
       "28    230\n",
       "29    220\n",
       "30    170\n",
       "31    200\n",
       "32    180\n",
       "33    170\n",
       "34    160\n",
       "35    180\n",
       "36    190\n",
       "37    220\n",
       "38    220\n",
       "39    170\n",
       "40    170\n",
       "41    180\n",
       "42    175\n",
       "43    180\n",
       "44    100\n",
       "45    220\n",
       "46    175\n",
       "47    180\n",
       "48    180\n",
       "49    190\n",
       "50    170\n",
       "51    220\n",
       "52    100\n",
       "53    200\n",
       "54    180\n",
       "Name: 2, dtype: object"
      ]
     },
     "execution_count": 130,
     "metadata": {},
     "output_type": "execute_result"
    }
   ],
   "source": [
    "df.iloc[:,2]"
   ]
  },
  {
   "cell_type": "markdown",
   "metadata": {},
   "source": [
    "### Write search results to file"
   ]
  },
  {
   "cell_type": "code",
   "execution_count": 131,
   "metadata": {},
   "outputs": [],
   "source": [
    "# Uncomment country to write results\n",
    "\n",
    "# us_df = pd.DataFrame(df)\n",
    "# us_df.to_csv('data/us_results.csv')\n",
    "\n",
    "# uk_df = pd.DataFrame(df)\n",
    "# uk_df.to_csv('data/uk_results.csv')\n",
    "\n",
    "# fr_df = pd.DataFrame(df)\n",
    "# fr_df.to_csv('data/fr_results.csv')"
   ]
  },
  {
   "cell_type": "markdown",
   "metadata": {},
   "source": [
    "## Results and visualizations\n",
    "- Of the 100 links obtained from the Google search by country, 35-40 usable temperatures were obtained for the US distribution and for the French distribution.\n",
    "- Only 10 usable temperatures were obtained for the UK distribution. This is likely due to many recipes of US origin appearing in the google.uk search and being filtered out due to the restriction that temps needed to be expressed primarily in celsius.\n",
    "- Mean temperatures are similar for all three countries.\n",
    "- The distributions are different for the countries with the US having a narrower distribution of initial baking temperature and the French distribution being wider."
   ]
  },
  {
   "cell_type": "code",
   "execution_count": 132,
   "metadata": {},
   "outputs": [],
   "source": [
    "data_us = pd.read_csv('data/us_results.csv',header=None)\n",
    "data_uk = pd.read_csv('data/uk_results.csv',header=None)\n",
    "data_fr = pd.read_csv('data/fr_results.csv',header=None)"
   ]
  },
  {
   "cell_type": "code",
   "execution_count": 139,
   "metadata": {},
   "outputs": [
    {
     "data": {
      "image/png": "[encoded data removed]",
      "text/plain": [
       "<Figure size 720x432 with 1 Axes>"
      ]
     },
     "metadata": {
      "needs_background": "light"
     },
     "output_type": "display_data"
    }
   ],
   "source": [
    "fig, ax = plt.subplots(figsize=(10,6))\n",
    "\n",
    "ax.hist(data_us.iloc[:,3], color='tab:cyan')\n",
    "ax.set_ylabel('Count')\n",
    "ax.set_xlabel('Temperature (°F)')\n",
    "ax.set_xlim(300, 500)\n",
    "fig.suptitle('Inital Baking Temperature--US Croissant Recipes', size =20)\n",
    "ax.set_title(f'Mean temp {data_us.iloc[:,3].mean():.0f}')\n",
    "plt.savefig('img/us-croissant-baketemp-distribution.png')\n"
   ]
  },
  {
   "cell_type": "code",
   "execution_count": 140,
   "metadata": {},
   "outputs": [
    {
     "data": {
      "image/png": "[encoded data removed]",
      "text/plain": [
       "<Figure size 720x432 with 1 Axes>"
      ]
     },
     "metadata": {
      "needs_background": "light"
     },
     "output_type": "display_data"
    }
   ],
   "source": [
    "fig, ax = plt.subplots(figsize=(10,6))\n",
    "\n",
    "ax.hist((data_fr.iloc[:,3]*9/5+32), color='tab:olive')\n",
    "ax.set_ylabel('Count')\n",
    "ax.set_xlabel('Temperature (°F)')\n",
    "ax.set_xlim(300, 500)\n",
    "fig.suptitle('Inital Baking Temperature--French Croissant Recipes', size =20)\n",
    "ax.set_title(f'Mean temp {(data_fr.iloc[:,3]*9/5+32).mean():.0f}')\n",
    "plt.savefig('img/fr-croissant-baketemp-distribution.png')\n",
    "# (data_uk.iloc[:,2]*9/5+32).hist()\n",
    "# (data_fr.iloc[:,2]*9/5+32).hist()\n"
   ]
  },
  {
   "cell_type": "code",
   "execution_count": 141,
   "metadata": {},
   "outputs": [
    {
     "data": {
      "image/png": "[encoded data removed]",
      "text/plain": [
       "<Figure size 720x432 with 1 Axes>"
      ]
     },
     "metadata": {
      "needs_background": "light"
     },
     "output_type": "display_data"
    }
   ],
   "source": [
    "fig, ax = plt.subplots(figsize=(10,6))\n",
    "\n",
    "ax.hist((data_uk.iloc[:,3]*9/5+32), color='tab:purple')\n",
    "ax.set_ylabel('Count')\n",
    "ax.set_xlabel('Temperature (°F)')\n",
    "ax.set_xlim(300, 500)\n",
    "fig.suptitle('Inital Baking Temperature--British Croissant Recipes', size =20)\n",
    "ax.set_title(f'Mean temp {(data_uk.iloc[:,3]*9/5+32).mean():.0f}')\n",
    "plt.savefig('img/uk-croissant-baketemp-distribution.png')\n"
   ]
  },
  {
   "cell_type": "markdown",
   "metadata": {},
   "source": [
    "## Future Research\n",
    "- Seek to obtain more usable temperatures by grabbing more links from Google and/or by refining the sifting of the websites to obtain a better yield.\n",
    "- Consider how best to compare the distributions.\n",
    "- Explore other parameters of croissant preparation and baking.\n",
    "- Explore the comments for the various websites to determine if people in the respective countries interact differently with recipe authors."
   ]
  },
  {
   "cell_type": "code",
   "execution_count": null,
   "metadata": {},
   "outputs": [],
   "source": []
  }
 ],
 "metadata": {
  "kernelspec": {
   "display_name": "Python 3",
   "language": "python",
   "name": "python3"
  },
  "language_info": {
   "codemirror_mode": {
    "name": "ipython",
    "version": 3
   },
   "file_extension": ".py",
   "mimetype": "text/x-python",
   "name": "python",
   "nbconvert_exporter": "python",
   "pygments_lexer": "ipython3",
   "version": "3.7.7"
  }
 },
 "nbformat": 4,
 "nbformat_minor": 4
}
