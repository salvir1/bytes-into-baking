{
 "cells": [
  {
   "cell_type": "code",
   "execution_count": 1,
   "metadata": {},
   "outputs": [],
   "source": [
    "from selenium import webdriver\n",
    "from bs4 import BeautifulSoup\n",
    "import time\n",
    "from bs4.element import Tag\n",
    "import bs4\n",
    "import numpy as np\n",
    "import pandas as pd\n",
    "import matplotlib.pyplot as plt\n",
    "import requests\n",
    "import re\n"
   ]
  },
  {
   "cell_type": "markdown",
   "metadata": {},
   "source": [
    "## Searching for croissant baking temperatures\n",
    "- Searches for 'croissant bake temperature' or 'temperature cuisson croissant' were conducted on Google country-specific search sites for the US, UK, and France. The first 100 links were obtained for each country. These links were subsequently scraped to determine if they were a croissant baking recipe, and if so, for their initial baking temperature.\n",
    "- Baking temperatures were found by looking for sentences that contained the words 'preheat', 'bake', or 'oven' followed by a 3 digit number followed by a temperature indicator. \n",
    "- Croissant baking often employs a two-stage approach with a high starting temp followed by a lower finishing temp. The script pulled the first temperature mention, so this is the starting temp.\n",
    "- For the US graphic, websites were excluded if the first temperature mention was in celsius.\n",
    "- For the UK and French graphics, websites were excluded if the first temperature mention was in fahrenheit.\n"
   ]
  },
  {
   "cell_type": "markdown",
   "metadata": {},
   "source": [
    "## Tools and techniques used in this project\n",
    "- **Tools**\n",
    "> - Python, Jupyter Lab, Beautiful Soup, Pandas, Numpy\n",
    "- **Visualization**\n",
    "> - Matplotlib\n",
    "- **Techniques**\n",
    "> - Web-scraping\n"
   ]
  },
  {
   "cell_type": "code",
   "execution_count": 2,
   "metadata": {},
   "outputs": [],
   "source": [
    "def get_links_from_google_search(google_url):\n",
    "    '''\n",
    "    Given a Google search string, returns links from that Google search page\n",
    "    Parameters:\n",
    "    ----------\n",
    "    google_url (str): a google search string. To get past the first page, replace start=0 with start={bundle}.\n",
    "    Returns:\n",
    "    -------\n",
    "    links (list): a list of links \n",
    "    '''\n",
    "    links_ = []\n",
    "    driver = webdriver.Firefox()\n",
    "    time.sleep(30) # slow requests down to keep google from getting upset\n",
    "    driver.get(google_url)\n",
    "    soup = BeautifulSoup(driver.page_source,'lxml')\n",
    "    result_div = soup.find_all('div', attrs={'class': 'g'})\n",
    "    for r in result_div:\n",
    "            try:\n",
    "                link = r.find('a', href=True)\n",
    "                if link != '':\n",
    "                    # site exceptions\n",
    "                    if 'google.' not in link and 'costco.' not in link and 'freshdirect' not in link: \n",
    "                        links_.append(link['href'])\n",
    "                \n",
    "            except Exception as e:\n",
    "                print(e)\n",
    "                continue\n",
    "    return(links_)\n"
   ]
  },
  {
   "cell_type": "code",
   "execution_count": 3,
   "metadata": {},
   "outputs": [],
   "source": [
    "def bake_temps_collection(url_list, search_pattern_1, search_pattern_2):\n",
    "    '''\n",
    "    Special search function to collect baking temperatures from sites that have been returned from a Google\n",
    "    search of croissant baking temps.\n",
    "    Parameters:\n",
    "    ----------\n",
    "    url_list (dataFrame with urls):\n",
    "    search_pattern_1 (regex):\n",
    "    search_pattern_2 (regex):\n",
    "    Returns:\n",
    "    -------\n",
    "    valid urls\n",
    "    string with target search parameters\n",
    "    first bake temp in target string\n",
    "    '''\n",
    "    bake_temp_inst_list = []\n",
    "    bake_temp_list = []\n",
    "    good_urls = []\n",
    "    for i in range(len(url_list)):\n",
    "        url = url_list[1][i]\n",
    "        try:\n",
    "            r = requests.get(url, allow_redirects=False)\n",
    "            if r.status_code == 200:\n",
    "                print(url)\n",
    "                soup = BeautifulSoup(r.content, 'html')\n",
    "                all_text = soup.get_text()\n",
    "                search_pattern_compiled = re.compile(search_pattern_1)\n",
    "                bake_temp_inst = search_pattern_compiled.findall(all_text)\n",
    "                if bake_temp_inst:\n",
    "                    bake_temp_inst_list.append(bake_temp_inst[0])\n",
    "                \n",
    "                    search_pattern_2_compiled = re.compile(search_pattern_2)\n",
    "                    bake_temp = search_pattern_2_compiled.search(bake_temp_inst[0])[0]\n",
    "                    bake_temp_list.append(bake_temp)\n",
    "                    good_urls.append(url)\n",
    "                      \n",
    "        except Exception as e:\n",
    "            print('Exception', e)\n",
    "            continue\n",
    "    return good_urls, bake_temp_inst_list, bake_temp_list"
   ]
  },
  {
   "cell_type": "markdown",
   "metadata": {},
   "source": [
    "## Step one: Get links for the target search term"
   ]
  },
  {
   "cell_type": "code",
   "execution_count": 12,
   "metadata": {},
   "outputs": [],
   "source": [
    "#  The easiest way to change the search is to type a search in google then copy and paste the address.\n",
    "#  Convert to an f string, find start=0 in the string and change it to start={bundle}.\n",
    "\n",
    "# us_google_url=f\"https://www.google.com/search?q=croissant+baking+temp&client=ubuntu&hs=bju&channel=fs&tbas=0&sxsrf=ALeKk01tinXVzgWJgZhSeeUfjrJd4FW4oA:1597161338731&ei=er8yX--YLLi50PEPiYu28A4&start={bundle}&sa=N&ved=2ahUKEwjvvfnRwZPrAhW4HDQIHYmFDe4Q8NMDegQIDhBA&biw=1920&bih=969\"\n",
    "# fr_google_url=f\"https://www.google.fr/search?q=temp%C3%A9rature+cuisson+croissant&ei=0PEzX4C2PMXk-gTv_ImwCA&start={bundle}&sa=N&ved=2ahUKEwiA3szk5ZXrAhVFsp4KHW9-AoYQ8NMDegQIDRBC&biw=1848&bih=942\"\n",
    "# uk_google_url=f\"https://www.google.co.uk/search?q=croissant+temperature&ei=OPQzX8T0KMj4-gSnn5moBw&start={bundle}&sa=N&ved=2ahUKEwjE8JaK6JXrAhVIvJ4KHadPBnUQ8NMDegQIDhA_&biw=1848&bih=942\"\n",
    "\n",
    "target_links = 140\n",
    "page_bundles = list(range(0,target_links,10))\n",
    "links=[]\n",
    "for bundle in page_bundles:\n",
    "    links_list = get_links_from_google_search(f\"https://www.google.com/search?q=croissant+baking+temp&client=ubuntu&hs=bju&channel=fs&tbas=0&sxsrf=ALeKk01tinXVzgWJgZhSeeUfjrJd4FW4oA:1597161338731&ei=er8yX--YLLi50PEPiYu28A4&start={bundle}&sa=N&ved=2ahUKEwjvvfnRwZPrAhW4HDQIHYmFDe4Q8NMDegQIDhBA&biw=1920&bih=969\")\n",
    "    for link in links_list:\n",
    "        links.append(link)"
   ]
  },
  {
   "cell_type": "markdown",
   "metadata": {},
   "source": [
    "## Write results to file from Google search function"
   ]
  },
  {
   "cell_type": "code",
   "execution_count": 14,
   "metadata": {},
   "outputs": [],
   "source": [
    "# Uncomment country to write results\n",
    "\n",
    "# uk_croissant_links = pd.DataFrame(links)\n",
    "# uk_croissant_links.to_csv('data/uk-croissant-links.txt')\n",
    "\n",
    "# us_croissant_links = pd.DataFrame(links)\n",
    "# us_croissant_links.to_csv('data/us-croissant-links.txt')\n",
    "\n",
    "# fr_croissant_links = pd.DataFrame(links)\n",
    "# fr_croissant_links.to_csv('data/fr-croissant-links.txt')"
   ]
  },
  {
   "cell_type": "markdown",
   "metadata": {},
   "source": [
    "## Step two: Read in links file and initiate web search"
   ]
  },
  {
   "cell_type": "code",
   "execution_count": 4,
   "metadata": {},
   "outputs": [],
   "source": [
    "url_list = pd.read_csv('data/uk-croissant-links.txt',header=None)\n",
    "# url_list = pd.read_csv('data/us-croissant-links.txt',header=None)\n",
    "# url_list = pd.read_csv('data/fr-croissant-links.txt',header=None)"
   ]
  },
  {
   "cell_type": "code",
   "execution_count": 5,
   "metadata": {},
   "outputs": [
    {
     "name": "stdout",
     "output_type": "stream",
     "text": [
      "Exception Invalid URL '0': No schema supplied. Perhaps you meant http://0?\n",
      "https://www.waitrose.com/content/waitrose/en/home/recipes/food_glossary/croissant.html\n",
      "https://www.waitrose.com/content/waitrose/en/home/recipes/food_glossary/croissant.html\n",
      "https://lesaffreyeast.com/formula/croissants-frozen/\n",
      "https://www.finecooking.com/recipe/classic-croissants\n",
      "https://www.wikihow.com/Eat-Croissants\n",
      "https://www.epicurious.com/recipes/food/views/butter-croissants-103989\n",
      "https://www.weekendbakery.com/posts/classic-french-croissant-recipe/\n",
      "https://www.jocooks.com/recipes/homemade-croissants/\n",
      "https://www.finecooking.com/recipe/classic-croissants\n",
      "https://www.kingarthurbaking.com/recipes/bakers-croissants-recipe\n",
      "https://gourmetier.com/french-croissants/\n",
      "https://topwithcinnamon.com/how-to-make-croissants/\n",
      "https://www.marthastewart.com/312981/croissants\n",
      "https://www.tastingtable.com/cook/recipes/croissants-recipe-french-pastry\n",
      "https://bakingamoment.com/easy-homemade-croissant-recipe/\n",
      "https://www.noellecarterfood.com/blog/2019/9/20/better-baking-temperature-croissants-recipe\n",
      "https://bakerpedia.com/processes/croissant/\n",
      "https://www.foodandwine.com/recipes/croissants\n",
      "https://www.foodnetwork.com/recipes/food-network-kitchen/homemade-croissants-5277802\n",
      "https://www.joyofbaking.com/breads/HomemadeCroissants.html\n",
      "https://www.bakeinfo.co.nz/files/file/435/Bake+Info_Info_Croissants.pdf\n",
      "https://www.theredheadbaker.com/mini-butter-croissants/\n",
      "https://persephonebakery.com/pages/baking-instructions-croissants\n",
      "http://bobbiesbakingblog.com/blog/2011/04/20/croissantrecipe/\n",
      "https://cooking.stackexchange.com/questions/105045/croissant-baking-temperature\n",
      "https://www.allrecipes.com/recipe/263484/chef-johns-chocolate-croissants/\n",
      "https://buttermilkpantry.wordpress.com/2019/07/06/how-to-make-croissants/\n",
      "https://www.alsothecrumbsplease.com/best-homemade-croissant-recipe/\n",
      "https://tasty.co/recipe/homemade-chocolate-croissants-pain-au-chocolate\n",
      "https://www.youtube.com/watch?v=jw_yWmK6Fuo\n",
      "https://www.lemaraisbakery.com/shop/one-dozen-frozen-ready-to-bake-french-croissants-4a6t8\n",
      "http://www.patisserielamour.co.nz/ba-croissants.html\n",
      "https://www.artisanbryan.com/post/how-to-make-croissants-recipe\n",
      "https://plugra.com/recipe/croissant-dough/\n",
      "https://www.waitrose.com/content/waitrose/en/home/recipes/food_glossary/croissant.html\n",
      "https://www.theculinarypro.com/laminated-dough\n",
      "https://butterblockyyc.com/biy-croissant\n",
      "https://d3ciwvs59ifrt8.cloudfront.net/91dd58cd-ac8c-45f3-b721-e78f2330323c/8bb613de-695d-4fa8-a8d5-52546c5a0d30.pdf\n",
      "https://www.gourmetdirect.co.nz/cooking-tip/croissant-cooking-instructions/\n",
      "https://www.washingtonpost.com/lifestyle/food/how-to-transform-a-bakery-croissant-into-something-marvelous/2018/07/13/ef8e1002-85fa-11e8-9e80-403a221946a7_story.html\n",
      "https://www.aryztafoodsolutions.co.uk/foodservice/ideas-tips/croissant-the-perfect-bake\n",
      "https://www.monpetitfour.com/homemade-croissants-2-2/\n",
      "https://www.corman-pro-artisan.com/en/recipes/224-croissant\n",
      "https://en.wikipedia.org/wiki/Croissant\n",
      "https://patents.google.com/patent/US4986992A/en\n",
      "https://www.tasteatlas.com/croissant/recipe\n",
      "https://www.seriouseats.com/recipes/2011/08/how-to-make-croissants-french-pastry-recipe.html\n",
      "https://www.quora.com/What-is-the-best-temperature-to-bake-croissants\n",
      "https://myloveofbaking.com/sourdough-croissants/\n",
      "https://www.leaf.tv/articles/how-to-heat-croissants/\n",
      "https://www.bessiebakes.com/french-croissant-recipe-chocolate-croissants-40-step-step-photos/\n",
      "https://www.pardonyourfrench.com/three-day-classic-french-croissants/\n",
      "https://www.foodiewithfamily.com/how-to-make-croissants/\n",
      "https://homegrownhappiness.co.nz/easy-sourdough-croissants/\n",
      "https://www.halfbakedharvest.com/homemade-croissants-step-step-photos/\n",
      "https://honestandtruly.com/proof-frozen-croissants-oven/\n",
      "https://www.lantmannen-unibake.com/Products/pastry/croissants-plain/smorcroissant/\n",
      "https://food52.com/recipes/73025-croissant-rolls\n",
      "https://www.brunoskitchen.net/blog/post/croissant-taste-of-france\n",
      "https://www.researchgate.net/publication/303690154_Effects_of_freezing_rate_and_terminal_freezing_temperature_on_frozen_croissant_dough_quality\n",
      "https://www.connecticutavenueblog.com/blog/trader-joes-chocolate-croissants\n",
      "https://www.bakersjournal.com/quintessential-croissants-4586/\n",
      "https://www.simplysogood.com/french-croissants/\n",
      "https://honestcooking.com/perfecting-homemade-croissant/\n",
      "http://www.thefreshloaf.com/node/58476/croissant-dough-trouble-heat-professional-setting\n",
      "https://www.wikihow.com/Heat-Croissants\n",
      "https://www.beerandcroissants.com/how-to-make-classic-french-croissants-like-an-expert/\n",
      "https://leitesculinaria.com/78697/recipes-croissants.html\n",
      "https://www.hungryonion.org/t/please-help-me-bake-the-perfect-croissant/5549\n",
      "https://www.bakedbyanintrovert.com/homemade-croissants/\n",
      "https://www.sheanglien.com.tw/en/application/application-how-croissants-are-made.html\n",
      "https://veenaazmanov.com/homemade-croissants-recipe/\n",
      "https://lesaffreyeast.com/formula/croissants-frozen/\n",
      "https://www.inspiredtaste.net/20300/sinfully-easy-chocolate-croissant-recipe/\n",
      "https://www.ice.edu/blog/croissant-cinnamon-roll-recipe\n",
      "https://www.elle-et-vire.com/pro/en/recipes/pastry-bakery/croissant-1/\n",
      "https://www.baking-sense.com/2018/12/14/sourdough-croissants/\n",
      "https://www.ricardocuisine.com/en/recipes/8475-butter-croissants\n",
      "https://www.laboulangeriedesgourmets.com/products/raw-croissant/\n",
      "https://www.instructables.com/id/Croissant-Loaf/\n",
      "https://damndelicious.net/2019/09/20/baked-ham-and-cheese-croissants/\n",
      "https://www.livestrong.com/article/442951-how-to-cook-a-frozen-croissant-in-an-oven/\n",
      "https://www.baking-sense.com/2018/12/14/sourdough-croissants/\n",
      "https://www.instructables.com/id/Croissant-Loaf/\n",
      "https://anitasorganic.com/recipe/hand-laminated-croissants-with-levain-and-poolish/\n",
      "https://kitchencookbook.net/butter-croissant/\n",
      "https://damndelicious.net/2019/09/20/baked-ham-and-cheese-croissants/\n",
      "https://www.livestrong.com/article/442951-how-to-cook-a-frozen-croissant-in-an-oven/\n",
      "https://www.bakepedia.com/professor-calvels-croissant-dough/\n",
      "https://www.gourmandpastries.com/en_US/products/plain-croissants/mini-butter-croissant/65\n",
      "https://www.favoritefoods.com/blog/5-croissant-specials-for-fall/\n"
     ]
    }
   ],
   "source": [
    "# search_string_1 = r'([A-Z][^.]*(?:four|cuisson|cuir|chauff)[^.]*\\d{3}(?:ºC| ºC|°C| °C|C| C)[^.]*(?:[.]|[\\s]))' #French regex\n",
    "search_string_1 = r'([A-Z][^.]*(?:reheat|ake|oven)[^.]*\\d{3}(?:ºC| ºC|°C| °C|C| C)[^.]*(?:[.]|[\\s]))' #UK regex\n",
    "# search_string_1 = r'([A-Z][^.]*(?:reheat|ake|oven)[^.]*\\d{3}(?:ºF| ºF|°F| °F|F| F)[^.]*(?:[.]|[\\s]))' #US regex\n",
    "search_string_2 = r'(\\d{3})'\n",
    "\n",
    "bt = bake_temps_collection(url_list, search_string_1, search_string_2)"
   ]
  },
  {
   "cell_type": "markdown",
   "metadata": {},
   "source": [
    "## Write search results to file"
   ]
  },
  {
   "cell_type": "code",
   "execution_count": 6,
   "metadata": {},
   "outputs": [],
   "source": [
    "# Uncomment country to write results\n",
    "\n",
    "# us_df = pd.DataFrame(bt)\n",
    "# us_df.to_csv('data/us_results.csv')\n",
    "\n",
    "uk_df = pd.DataFrame(bt)\n",
    "uk_df.to_csv('data/uk_results.csv')\n",
    "\n",
    "# fr_df = pd.DataFrame(bt)\n",
    "# fr_df.to_csv('data/fr_results.csv')"
   ]
  },
  {
   "cell_type": "markdown",
   "metadata": {},
   "source": [
    "## Step three: Results and visualizations\n",
    "- Of the 100 links obtained from the Google search by country, 35-40 usable temperatures were obtained for the US distribution and for the French distribution.\n",
    "- Only 10 usable temperatures were obtained for the UK distribution. This is likely due to many recipes of US origin appearing in the google.uk search and being filtered out due to the restriction that temps needed to be expressed primarily in celsius.\n",
    "- Mean temperatures are similar for all three countries.\n",
    "- The distributions are different for the countries with the US having a narrower distribution of initial baking temperature and the French distribution being wider."
   ]
  },
  {
   "cell_type": "code",
   "execution_count": 12,
   "metadata": {},
   "outputs": [],
   "source": [
    "data_us = pd.read_csv('data/us_results.csv',header=None)\n",
    "data_uk = pd.read_csv('data/uk_results.csv',header=None)\n",
    "data_fr = pd.read_csv('data/fr_results.csv',header=None)"
   ]
  },
  {
   "cell_type": "code",
   "execution_count": 13,
   "metadata": {},
   "outputs": [
    {
     "data": {
      "image/png": "[encoded data removed]",
      "text/plain": [
       "<Figure size 720x432 with 1 Axes>"
      ]
     },
     "metadata": {
      "needs_background": "light"
     },
     "output_type": "display_data"
    }
   ],
   "source": [
    "fig, ax = plt.subplots(figsize=(10,6))\n",
    "\n",
    "ax.hist(data_us.iloc[:,2], color='tab:cyan')\n",
    "ax.set_ylabel('Count')\n",
    "ax.set_xlabel('Temperature (°F)')\n",
    "ax.set_xlim(325, 525)\n",
    "fig.suptitle('Inital Baking Temperature--US Croissant Recipes', size =20)\n",
    "ax.set_title(f'Mean temp {data_us.iloc[:,2].mean():.0f}')\n",
    "plt.savefig('img/us-croissant-baketemp-distribution.png')\n"
   ]
  },
  {
   "cell_type": "code",
   "execution_count": 14,
   "metadata": {},
   "outputs": [
    {
     "data": {
      "image/png": "[encoded data removed]",
      "text/plain": [
       "<Figure size 720x432 with 1 Axes>"
      ]
     },
     "metadata": {
      "needs_background": "light"
     },
     "output_type": "display_data"
    }
   ],
   "source": [
    "fig, ax = plt.subplots(figsize=(10,6))\n",
    "\n",
    "ax.hist((data_fr.iloc[:,2]*9/5+32), color='tab:olive')\n",
    "ax.set_ylabel('Count')\n",
    "ax.set_xlabel('Temperature (°F)')\n",
    "ax.set_xlim(325, 525)\n",
    "fig.suptitle('Inital Baking Temperature--French Croissant Recipes', size =20)\n",
    "ax.set_title(f'Mean temp {(data_fr.iloc[:,2]*9/5+32).mean():.0f}')\n",
    "plt.savefig('img/fr-croissant-baketemp-distribution.png')\n",
    "# (data_uk.iloc[:,2]*9/5+32).hist()\n",
    "# (data_fr.iloc[:,2]*9/5+32).hist()\n"
   ]
  },
  {
   "cell_type": "code",
   "execution_count": 15,
   "metadata": {},
   "outputs": [
    {
     "data": {
      "image/png": "[encoded data removed]",
      "text/plain": [
       "<Figure size 720x432 with 1 Axes>"
      ]
     },
     "metadata": {
      "needs_background": "light"
     },
     "output_type": "display_data"
    }
   ],
   "source": [
    "fig, ax = plt.subplots(figsize=(10,6))\n",
    "\n",
    "ax.hist((data_uk.iloc[:,2]*9/5+32), color='tab:purple')\n",
    "ax.set_ylabel('Count')\n",
    "ax.set_xlabel('Temperature (°F)')\n",
    "ax.set_xlim(325, 525)\n",
    "fig.suptitle('Inital Baking Temperature--British Croissant Recipes', size =20)\n",
    "ax.set_title(f'Mean temp {(data_uk.iloc[:,2]*9/5+32).mean():.0f}')\n",
    "plt.savefig('img/uk-croissant-baketemp-distribution.png')\n"
   ]
  },
  {
   "cell_type": "markdown",
   "metadata": {},
   "source": [
    "## Future Research\n",
    "- Seek to obtain more usable temperatures by grabbing more links from Google and/or by refining the sifting of the websites to obtain a better yield.\n",
    "- Consider how best to compare the distributions.\n",
    "- Explore other parameters of croissant preparation and baking.\n",
    "- Explore the comments for the various websites to determine if people in the respective countries interact differently with recipe authors."
   ]
  }
 ],
 "metadata": {
  "kernelspec": {
   "display_name": "Python 3",
   "language": "python",
   "name": "python3"
  },
  "language_info": {
   "codemirror_mode": {
    "name": "ipython",
    "version": 3
   },
   "file_extension": ".py",
   "mimetype": "text/x-python",
   "name": "python",
   "nbconvert_exporter": "python",
   "pygments_lexer": "ipython3",
   "version": "3.7.7"
  }
 },
 "nbformat": 4,
 "nbformat_minor": 4
}
